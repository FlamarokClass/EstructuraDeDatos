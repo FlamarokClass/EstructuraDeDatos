{
  "nbformat": 4,
  "nbformat_minor": 0,
  "metadata": {
    "colab": {
      "provenance": [],
      "include_colab_link": true
    },
    "kernelspec": {
      "name": "python3",
      "display_name": "Python 3"
    }
  },
  "cells": [
    {
      "cell_type": "markdown",
      "metadata": {
        "id": "view-in-github",
        "colab_type": "text"
      },
      "source": [
        "<a href=\"https://colab.research.google.com/github/FlamarokClass/EstructuraDeDatos/blob/master/TP_Pilas_y_Colas_com3.ipynb\" target=\"_parent\"><img src=\"https://colab.research.google.com/assets/colab-badge.svg\" alt=\"Open In Colab\"/></a>"
      ]
    },
    {
      "cell_type": "markdown",
      "metadata": {
        "id": "42630xxYD0gZ"
      },
      "source": [
        "# ![alt text](https://upload.wikimedia.org/wikipedia/commons/thumb/c/c3/Python-logo-notext.svg/50px-Python-logo-notext.svg.png) **Trabajo Práctico 6: Pilas y colas dinámicas** ![alt text](https://upload.wikimedia.org/wikipedia/commons/thumb/c/c3/Python-logo-notext.svg/50px-Python-logo-notext.svg.png)\n",
        "\n",
        "En este trabajo práctico, vamos a trabajar con las estructuras de datos **Pila** y **Cola** dinámicas en Python. Recuerden crear una copia de este archivo en su ***Google Drive*** para tener permisos de edición.\n",
        "\n",
        "###**florencia.dias@unahur.edu.ar** ###"
      ]
    },
    {
      "cell_type": "code",
      "source": [
        "l1 = [] #list()\n",
        "print(l1)\n",
        "l1.append(3); l1.append(4); l1.append(7);l1.append(5);l1.append(2)\n",
        "print(l1)\n",
        "\n",
        "#l1.append(dato) # posicion y dato a insertar\n",
        "#l1.insert(posicion,dato) # posicion y dato a insertar\n",
        "#l1.pop() #elimina el ultimo\n",
        "#l1.pop(posicion) #con argumento, por posicion\n",
        "#l1.remove(dato) # elimina el dato en la lista\n",
        "#l1.count(dato) # Retorna la cantidad de veces que esta el dato en la lista\n",
        "# l1 + l2 # concatena ambas listas\n",
        "#l1[posicion] # Retorna el elemento en esta posicion\n",
        "#l1.[posicion,dator] # Modifica el dato en la posicion indicada\n",
        "#l1[inicio:fin+1] # Sublista\n",
        "#l1.index(dato) # Retorna la posicion del dato indicado\n",
        "\n",
        "#IMPORTAR import copy as cp # paquete para no tener problemas con las estructuras que tienen multiples niveles\n",
        "#cp.deepcopy(self) # clona la estructura\n"
      ],
      "metadata": {
        "colab": {
          "base_uri": "https://localhost:8080/"
        },
        "id": "gTTkVlFcWbbj",
        "outputId": "151f4b19-0c3f-4aa2-89f2-e49e37ab3761"
      },
      "execution_count": null,
      "outputs": [
        {
          "output_type": "stream",
          "name": "stdout",
          "text": [
            "[]\n",
            "[3, 4, 7, 5, 2]\n"
          ]
        }
      ]
    },
    {
      "cell_type": "code",
      "source": [
        "print(l1[0]) #primer elemento\n",
        "print(l1[len(l1)-1]) #ultimo"
      ],
      "metadata": {
        "id": "11DMa1tdYbe7"
      },
      "execution_count": null,
      "outputs": []
    },
    {
      "cell_type": "code",
      "source": [
        "for elemento in l1:\n",
        "\tprint(elemento)\n",
        "\n",
        "for pos in range(len(l1)):\n",
        "\tprint(l1[pos])"
      ],
      "metadata": {
        "id": "7M1gfSm3ZDZT"
      },
      "execution_count": null,
      "outputs": []
    },
    {
      "cell_type": "markdown",
      "metadata": {
        "id": "p_zfOaNy70h-"
      },
      "source": [
        "## **Parte 1: Pilas dinámicas**"
      ]
    },
    {
      "cell_type": "markdown",
      "metadata": {
        "id": "xjXgmD3mskbR"
      },
      "source": [
        "### **Ejercicio 1**\n",
        "\n",
        "Implementar el TDA Pila (Stack), con las siguientes operaciones:\n",
        "- Crear (__init__())\n",
        "- Vaciar\n",
        "- Apilar elemento (push)\n",
        "- Desapilar elemento (pop)\n",
        "- Obtener primer elemento (top)\n",
        "- Obtener tamaño de pila\n",
        "- Clonar\n",
        "- Esta vacía.\n",
        "- __repr__(). Para poder imprimir una Pila por consola"
      ]
    },
    {
      "cell_type": "code",
      "metadata": {
        "id": "vM50Hpx6yUDe"
      },
      "source": [
        "import copy as cp # paquete para no tener problemas con las estructuras que tienen multiples niveles\n",
        "\n",
        "class Pila:\n",
        "  def __init__(self):\n",
        "    self.pila = []\n",
        "\n",
        "  def apilar(self, dato:int)->None:\n",
        "    self.pila.append(dato)\n",
        "\n",
        "  def tamanio(self)->int:\n",
        "    return len(self.pila)\n",
        "\n",
        "  def estaVacia(self)->bool:\n",
        "    return self.tamanio() == 0\n",
        "\n",
        "  def tope(self)->int:\n",
        "    datoCima = None\n",
        "    if not self.estaVacia():\n",
        "      datoCima = self.pila[len(self.pila)-1] # leo ultimo elemento\n",
        "    return datoCima\n",
        "\n",
        "  def desapilar(self)->int:  # Saca un elemento, el ultimo\n",
        "    dato = None\n",
        "    if not self.estaVacia():\n",
        "      dato = self.pila.pop()\n",
        "    return dato\n",
        "\n",
        "  def vaciar(self)->None: # vacia lista\n",
        "    self.pila = []\n",
        "\n",
        "  def clonar(self): # retorna una pila que contengan los mismos elementos pero en otra posicion de memoria\n",
        "    return cp.deepcopy(self)\n",
        "\n",
        "  def __repr__(self)->str:\n",
        "    return f\"{str(self.pila)}<->\""
      ],
      "execution_count": null,
      "outputs": []
    },
    {
      "cell_type": "code",
      "source": [
        "pila1 = Pila()\n",
        "#print(pila1)\n",
        "pila1.apilar(3);pila1.apilar(2);pila1.apilar(7);pila1.apilar(4)\n",
        "print(pila1)\n",
        "print(pila1.tope())\n",
        "#print(pila1)\n",
        "print(pila1.desapilar())\n",
        "print(pila1)\n",
        "#pila2 = pila1.clonar()\n",
        "#print(\"pila2\",pila2)"
      ],
      "metadata": {
        "colab": {
          "base_uri": "https://localhost:8080/"
        },
        "id": "t_NkxEV0-OCl",
        "outputId": "52f1b8a7-428c-481d-fd2e-a4e724639e7f"
      },
      "execution_count": null,
      "outputs": [
        {
          "output_type": "stream",
          "name": "stdout",
          "text": [
            "[3, 2, 7, 4]<->\n",
            "4\n",
            "4\n",
            "[3, 2, 7]<->\n"
          ]
        }
      ]
    },
    {
      "cell_type": "code",
      "source": [
        "print(pila1)\n",
        "while not pila1.estaVacia(): #iteramos una pila\n",
        "  print(pila1.desapilar())\n",
        "print(pila1)"
      ],
      "metadata": {
        "id": "s_jdruLC_Vkl"
      },
      "execution_count": null,
      "outputs": []
    },
    {
      "cell_type": "markdown",
      "metadata": {
        "id": "I26IE7cG1BeA"
      },
      "source": [
        "### A partir del **Ejercicio 2** vamos a trabajar fuera del TDA Pila usando la interface que creamos en el **Ejercicio 1**. Es decir, se pueden usar solo las operaciones de la interface, no se puede acceder a los componentes internos del TDA. Si necesitan estructuras auxiliares, pueden usar otra pila, arreglos o listas."
      ]
    },
    {
      "cell_type": "markdown",
      "metadata": {
        "id": "Q0D1vzJZzqID"
      },
      "source": [
        "### **Ejercicio 2**\n",
        "\n",
        "Escribir un programa que declare una pila de enteros y le apile 4 elementos. Luego debe mostrar la pila y su tamaño, desapilar 2 elementos y volver a imprimirla junto con el nuevo tamaño."
      ]
    },
    {
      "cell_type": "code",
      "metadata": {
        "id": "Y4eHEO31zpnu",
        "colab": {
          "base_uri": "https://localhost:8080/"
        },
        "outputId": "e03a7b63-52e9-48f3-ec82-8d95049e43c1"
      },
      "source": [
        "pila2 = Pila()\n",
        "pila2.apilar(2),pila2.apilar(4),pila2.apilar(7),pila2.apilar(20)\n",
        "print(pila2, pila2.tamanio())\n",
        "pila2.desapilar(),pila2.desapilar()\n",
        "print(pila2, pila2.tamanio())"
      ],
      "execution_count": null,
      "outputs": [
        {
          "output_type": "stream",
          "name": "stdout",
          "text": [
            "[2, 4, 7, 20]<-> 4\n",
            "[2, 4]<-> 2\n"
          ]
        }
      ]
    },
    {
      "cell_type": "markdown",
      "metadata": {
        "id": "rds3Jsp10bJr"
      },
      "source": [
        "### **Ejercicio 3**\n",
        "\n",
        "Escribir una función que invierta el orden de una pila. No debe devolver una nueva pila invertida, sino invertir la pila que ingresa por parámetro."
      ]
    },
    {
      "cell_type": "code",
      "source": [
        "def invertirOrden(unaPila : Pila) -> Pila:\n",
        "  pilaAux = unaPila.clonar()\n",
        "  condicion = pilaAux.tamanio()\n",
        "  unaPila.vaciar()\n",
        "  while condicion != 0:\n",
        "    unaPila.apilar(pilaAux.tope())\n",
        "    pilaAux.desapilar()\n",
        "    condicion -= 1\n",
        "  return unaPila\n",
        "\n",
        "pila3 = Pila()\n",
        "pila3.apilar(3),pila3.apilar(8),pila3.apilar(16),pila3.apilar(20)\n",
        "print(invertirOrden(pila3))"
      ],
      "metadata": {
        "id": "QgPNSdZ1YIiH",
        "colab": {
          "base_uri": "https://localhost:8080/"
        },
        "outputId": "2241e604-f4d7-462c-f3ee-5cf73460d644"
      },
      "execution_count": null,
      "outputs": [
        {
          "output_type": "stream",
          "name": "stdout",
          "text": [
            "[20, 16, 8, 3]<->\n"
          ]
        }
      ]
    },
    {
      "cell_type": "markdown",
      "metadata": {
        "id": "-YN0LThH0dO6"
      },
      "source": [
        "### **Ejercicio 4**\n",
        "\n",
        "Escribir una función que toma el último elemento de una pila(la base) y lo ponga en la cima (de la misma pila), respetando el orden del resto de los elementos. Utilizar una pila auxiliar."
      ]
    },
    {
      "cell_type": "code",
      "metadata": {
        "id": "KO9cVn4T0EFQ",
        "colab": {
          "base_uri": "https://localhost:8080/"
        },
        "outputId": "d9166284-1f15-412f-ed70-22cf6f979eb0"
      },
      "source": [
        "def basePorCima(unaPila : Pila) -> Pila:\n",
        "  pilaAux = unaPila.clonar()\n",
        "  dato =pilaAux.tope()\n",
        "  unaPila.desapilar()\n",
        "  invertirOrden(unaPila)\n",
        "  unaPila.desapilar()\n",
        "  unaPila.apilar(dato)\n",
        "  invertirOrden(unaPila)\n",
        "  return unaPila\n",
        "\n",
        "\n",
        "pila4 = Pila()\n",
        "pila4.apilar(3),pila4.apilar(8),pila4.apilar(16),pila4.apilar(20)\n",
        "print(basePorCima(pila4))\n",
        "\n",
        "\n",
        "\n"
      ],
      "execution_count": null,
      "outputs": [
        {
          "output_type": "stream",
          "name": "stdout",
          "text": [
            "[20, 8, 16]<->\n"
          ]
        }
      ]
    },
    {
      "cell_type": "markdown",
      "metadata": {
        "id": "_Q_DCTjI3AGK"
      },
      "source": [
        "### **Ejercicio 5**\n",
        "\n",
        "Escribir una función que coloque en el fondo de una pila un nuevo elemento."
      ]
    },
    {
      "cell_type": "code",
      "metadata": {
        "id": "S1y89t3q3BkZ",
        "colab": {
          "base_uri": "https://localhost:8080/"
        },
        "outputId": "6fb68b51-4c99-4844-8987-9261d8a20e46"
      },
      "source": [
        "def ponerElementoEnElFondo(pila : Pila, elemento) -> Pila:\n",
        "  invertirOrden(pila)\n",
        "  pila.apilar(elemento)\n",
        "  invertirOrden(pila)\n",
        "  return pila\n",
        "\n",
        "pila5 = Pila()\n",
        "pila5.apilar(10),pila5.apilar(20),pila5.apilar(40),pila5.apilar(50)\n",
        "ponerElementoEnElFondo(pila5,5)"
      ],
      "execution_count": null,
      "outputs": [
        {
          "output_type": "execute_result",
          "data": {
            "text/plain": [
              "[5, 10, 20, 40, 50]<->"
            ]
          },
          "metadata": {},
          "execution_count": 69
        }
      ]
    },
    {
      "cell_type": "markdown",
      "metadata": {
        "id": "xfP229oY3ODC"
      },
      "source": [
        "### **Ejercicio 6**\n",
        "\n",
        "Escribir una función que elimine de una pila todas las ocurrencias de un elemento dado. Usar una pila auxiliar."
      ]
    },
    {
      "cell_type": "code",
      "metadata": {
        "id": "BMNroH_l3Ojz",
        "colab": {
          "base_uri": "https://localhost:8080/"
        },
        "outputId": "4dc97af8-b330-4862-f8b8-da8b7e84ed03"
      },
      "source": [
        "def eliminarOcurrencias(pila : Pila, elementoRepetido) -> Pila:\n",
        "  pilaAux = pila.clonar()\n",
        "  condicion = pila.tamanio()\n",
        "  invertirOrden(pilaAux)\n",
        "  pila.vaciar()\n",
        "  while condicion != 0:\n",
        "    dato = pilaAux.tope()\n",
        "    if dato == elementoRepetido:\n",
        "      pilaAux.desapilar()\n",
        "    else:\n",
        "      pila.apilar(dato)\n",
        "      pilaAux.desapilar()\n",
        "    condicion-=1\n",
        "  return pila\n",
        "\n",
        "pila6 = Pila()\n",
        "pila6.apilar(10),pila6.apilar(20),pila6.apilar(10),pila6.apilar(40),pila6.apilar(50),pila6.apilar(10)\n",
        "\n",
        "eliminarOcurrencias(pila6,10)"
      ],
      "execution_count": null,
      "outputs": [
        {
          "output_type": "execute_result",
          "data": {
            "text/plain": [
              "[20, 40, 50]<->"
            ]
          },
          "metadata": {},
          "execution_count": 73
        }
      ]
    },
    {
      "cell_type": "markdown",
      "metadata": {
        "id": "nxgYjoxl3gmz"
      },
      "source": [
        "### **Ejercicio 7**\n",
        "\n",
        "Escribir un función que duplique el contenido de una pila.\n",
        "\n",
        "Por ejemplo, si la pila de entrada es:\n",
        "\n",
        "Pila = 8, 5, 6, 9\n",
        "\n",
        "Luego de la función la salida debe ser:\n",
        "\n",
        "pilaSalida = 8, 5, 6, 9, 8, 5, 6, 9"
      ]
    },
    {
      "cell_type": "code",
      "metadata": {
        "id": "Ojjaj3Z23g7j",
        "colab": {
          "base_uri": "https://localhost:8080/"
        },
        "outputId": "dc861909-ba59-40ff-d6f6-09b4e229e0b0"
      },
      "source": [
        "def duplicarPila(pila : Pila) -> Pila:\n",
        "  auxiliar = pila.clonar()\n",
        "  invertirOrden(auxiliar)\n",
        "  condicion = pila.tamanio()\n",
        "  while condicion != 0:\n",
        "    pila.apilar(auxiliar.tope())\n",
        "    auxiliar.desapilar()\n",
        "    condicion -= 1\n",
        "  return pila\n",
        "\n",
        "pila7 = Pila()\n",
        "pila7.apilar(4),pila7.apilar(9), pila7.apilar(45), pila7.apilar(56), pila7.apilar(69),\n",
        "print(duplicarPila(pila7))"
      ],
      "execution_count": null,
      "outputs": [
        {
          "output_type": "stream",
          "name": "stdout",
          "text": [
            "[4, 9, 45, 56, 69, 4, 9, 45, 56, 69]<->\n"
          ]
        }
      ]
    },
    {
      "cell_type": "markdown",
      "metadata": {
        "id": "OLopy2zK38Am"
      },
      "source": [
        "### **Ejercicio 8**\n",
        "\n",
        "Escribir una función que realiza el cálculo de la suma de dos números enteros de muchos dígitos (los dos números tienen la misma cantidad de dígitos). La función recibe dos pilas por parámetro, las que almacenan los dígitos de los números a sumar (esta pilas no deben estar modificadas al terminar la función). La función debe retornar una nueva pila con el resultado.\n",
        "\n",
        "Por ejemplo para sumar: 85699625 + 75426652\n",
        "\n",
        "Las pilas de entrada a la función son:\n",
        "\n",
        "Pila1 = 8, 5, 6, 9, 9, 6, 2, 5\n",
        "\n",
        "Pila2 = 7, 5, 4, 2, 6, 6, 5, 2\n",
        "\n",
        "La salida:\n",
        "\n",
        "pilaSalida = 1, 6, 1, 1, 2, 6, 2, 7, 7"
      ]
    },
    {
      "cell_type": "code",
      "metadata": {
        "id": "a-DTh4IX5gji",
        "colab": {
          "base_uri": "https://localhost:8080/"
        },
        "outputId": "0c93c1e0-9e88-4dec-892d-dc872f8f7922"
      },
      "source": [
        "def sumarPilas(pilaUno : Pila, pilaDos: Pila) -> Pila:\n",
        "  pilaSalida = Pila()\n",
        "  invertirOrden(pilaUno)\n",
        "  invertirOrden(pilaDos)\n",
        "  condicion = pilaUno.tamanio()\n",
        "  resto = None\n",
        "  if pilaUno.tamanio() != pilaDos.tamanio():\n",
        "    raise Exception(\"Deben tener igual longitud\")\n",
        "\n",
        "  while condicion != 0:\n",
        "    if (pilaUno.tope() + pilaDos.tope()) >= 10 :\n",
        "      pilaSalida.apilar(((pilaUno.tope() + pilaDos.tope()) // 10))\n",
        "      resto = (pilaUno.tope() + pilaDos.tope()) % 10\n",
        "      pilaSalida.apilar(resto)\n",
        "    else : pilaSalida.apilar(pilaUno.tope() + pilaDos.tope())\n",
        "    pilaUno.desapilar()\n",
        "    pilaDos.desapilar()\n",
        "    condicion -= 1\n",
        "  return pilaSalida\n",
        "\n",
        "\n",
        "pila8 = Pila()\n",
        "pila8.apilar(4),pila8.apilar(5), pila8.apilar(10), pila8.apilar(15), pila8.apilar(2),\n",
        "pila81= Pila()\n",
        "pila81.apilar(2),pila81.apilar(3), pila81.apilar(5), pila81.apilar(1), pila81.apilar(2),\n",
        "sumarPilas(pila8, pila81)\n"
      ],
      "execution_count": null,
      "outputs": [
        {
          "output_type": "execute_result",
          "data": {
            "text/plain": [
              "[6, 8, 1, 5, 1, 6, 4]<->"
            ]
          },
          "metadata": {},
          "execution_count": 14
        }
      ]
    },
    {
      "cell_type": "markdown",
      "metadata": {
        "id": "rc3aFx7i5g13"
      },
      "source": [
        "### **Ejercicio 9**\n",
        "\n",
        "Escribir la función “reemplazar”, que recibe como parámetro una pila de enteros y dos números enteros: “viejo” y “nuevo”. La función debe modificar la pila ingresada por parámetro, reemplazando cada ocurrencia del número “viejo” por el “nuevo”.\n"
      ]
    },
    {
      "cell_type": "code",
      "metadata": {
        "id": "k3RCSCM555Ql",
        "colab": {
          "base_uri": "https://localhost:8080/"
        },
        "outputId": "af105945-d435-4cb2-f9d1-3909a67d1e72"
      },
      "source": [
        "def reemplazar(pila : Pila, viejo : int, nuevo : int) -> Pila:\n",
        "  auxiliar = pila.clonar()\n",
        "  invertirOrden(auxiliar)\n",
        "  condicion = pila.tamanio()\n",
        "  pila.vaciar()\n",
        "  while condicion != 0:\n",
        "    if auxiliar.tope() == viejo:\n",
        "      auxiliar.desapilar()\n",
        "      pila.apilar(nuevo)\n",
        "    else :\n",
        "      pila.apilar(auxiliar.tope())\n",
        "      auxiliar.desapilar()\n",
        "    condicion -= 1\n",
        "  return pila\n",
        "\n",
        "\n",
        "pila9= Pila()\n",
        "pila9.apilar(2),pila9.apilar(3), pila9.apilar(5), pila9.apilar(1), pila9.apilar(2)\n",
        "print(pila9)\n",
        "print(reemplazar(pila9, 2, 4))\n"
      ],
      "execution_count": null,
      "outputs": [
        {
          "output_type": "stream",
          "name": "stdout",
          "text": [
            "[2, 3, 5, 1, 2]<->\n",
            "[4, 3, 5, 1, 4]<->\n"
          ]
        }
      ]
    },
    {
      "cell_type": "markdown",
      "metadata": {
        "id": "qBL1crPl55oY"
      },
      "source": [
        "### **Ejercicio 10**\n",
        "\n",
        "Escribir una función que recibe una pila de enteros y retorna dos pilas, una con solo los números pares y otra con solo los impares, provenientes de la pila de entrada. Al finalizar la función, la pila de entrada no debe estar modificada."
      ]
    },
    {
      "cell_type": "code",
      "metadata": {
        "id": "ZoMkxS8z56Ar",
        "colab": {
          "base_uri": "https://localhost:8080/"
        },
        "outputId": "66e9d096-65ec-4dbd-a6c3-16344b6ae022"
      },
      "source": [
        "def separarParesImpartes(pila : Pila) -> Pila:\n",
        "  pilaPares = Pila()\n",
        "  pilaImpares = Pila()\n",
        "  auxiliar = pila.clonar()\n",
        "  invertirOrden(auxiliar)\n",
        "  condicion = pila.tamanio()\n",
        "  while condicion != 0:\n",
        "    if auxiliar.tope() % 2 == 0:\n",
        "      pilaPares.apilar(auxiliar.tope())\n",
        "      auxiliar.desapilar()\n",
        "    else:\n",
        "      pilaImpares.apilar(auxiliar.tope())\n",
        "      auxiliar.desapilar()\n",
        "    condicion -= 1\n",
        "  return (pilaPares, pilaImpares)\n",
        "\n",
        "pila10 = Pila()\n",
        "pila10.apilar(6),pila10.apilar(2), pila10.apilar(9), pila10.apilar(10), pila10.apilar(25)\n",
        "print(pila10)\n",
        "print(separarParesImpartes(pila10))"
      ],
      "execution_count": null,
      "outputs": [
        {
          "output_type": "stream",
          "name": "stdout",
          "text": [
            "[6, 2, 9, 10, 25]<->\n",
            "([6, 2, 10]<->, [9, 25]<->)\n"
          ]
        }
      ]
    },
    {
      "cell_type": "markdown",
      "metadata": {
        "id": "R-BNJESL8Ato"
      },
      "source": [
        "## **Parte 2: Colas dinámicas**"
      ]
    },
    {
      "cell_type": "markdown",
      "metadata": {
        "id": "_2Diy6h_8Jae"
      },
      "source": [
        "### **Ejercicio 11**\n",
        "\n",
        "Implementar el TDA Cola (Queue), con las siguientes operaciones:\n",
        "- Crear (__init__())\n",
        "- Vaciar\n",
        "- Encolar elemento (enqueue)\n",
        "- Desancolar elemento (dequeue)\n",
        "- Obtener primer elemento (top)\n",
        "- Obtener tamaño de cola\n",
        "- Clonar\n",
        "- Esta vacía.\n",
        "- __repr__(). Para poder imprimir una Cola por consola"
      ]
    },
    {
      "cell_type": "code",
      "metadata": {
        "id": "LtcHcMLtE6Ty"
      },
      "source": [
        "class Cola:\n",
        "  def __init__(self):\n",
        "    self.cola = []\n",
        "\n",
        "  def tamanio(self)->int:\n",
        "    return len(self.cola)\n",
        "\n",
        "  def estaVacia(self)->bool:\n",
        "    return self.tamanio() == 0\n",
        "\n",
        "  def encolar(self, dato:int)->None:\n",
        "    self.cola.append(dato) #Encolando por el final\n",
        "    #self.cola.insert(0,dato) #Encolando por el inicio\n",
        "\n",
        "  def tope(self)->int:\n",
        "    datoCima = None\n",
        "    if not self.estaVacia():\n",
        "      datoCima = self.cola[0]  #Desencolo por el inicio\n",
        "      #datoCima = self.cola[len(self.cola)-1] #Desencolo por el final\n",
        "    return datoCima\n",
        "\n",
        "  def desencolar(self)->int:\n",
        "    dato = None\n",
        "    if not self.estaVacia():\n",
        "      dato = self.cola.pop(0)  #Desencolando por el inicio (primero entra, primero sale)\n",
        "      #dato = self.cola.pop() #Desencolando por el final\n",
        "    return dato\n",
        "\n",
        "  def vaciar(self)->None:\n",
        "    self.cola = []\n",
        "\n",
        "  def clonar(self):\n",
        "    return cp.deepcopy(self)\n",
        "\n",
        "  def __repr__(self)->str:\n",
        "    return \"<-\"+str(self.cola)+\"<-\""
      ],
      "execution_count": null,
      "outputs": []
    },
    {
      "cell_type": "code",
      "source": [
        "cola1 = Cola()\n",
        "print(cola1)\n",
        "cola1.encolar(3);cola1.encolar(2);cola1.encolar(7);cola1.encolar(4);\n",
        "print(cola1)\n",
        "print(cola1.tope())\n",
        "#print(cola1.desencolar())\n",
        "#print(cola1)\n",
        "#cola2 = cola1.clonar()\n",
        "#print(\"cola2\",cola2)"
      ],
      "metadata": {
        "colab": {
          "base_uri": "https://localhost:8080/"
        },
        "id": "oxPnBsKgBhWJ",
        "outputId": "52c3570d-a6e5-4cf2-e176-6bf215adf7a9"
      },
      "execution_count": null,
      "outputs": [
        {
          "output_type": "stream",
          "name": "stdout",
          "text": [
            "<-[]<-\n",
            "<-[3, 2, 7, 4]<-\n",
            "3\n"
          ]
        }
      ]
    },
    {
      "cell_type": "code",
      "source": [
        "print(cola1)\n",
        "while not cola1.estaVacia(): #iteramos una cola\n",
        "\tprint(cola1.desencolar())\n",
        "print(cola1)"
      ],
      "metadata": {
        "colab": {
          "base_uri": "https://localhost:8080/"
        },
        "id": "-tUy0uxOj9rf",
        "outputId": "09e4ca87-90fa-4e11-c3d3-c1a498f78657"
      },
      "execution_count": null,
      "outputs": [
        {
          "output_type": "stream",
          "name": "stdout",
          "text": [
            "<-[3, 2, 7, 4]<-\n",
            "3\n",
            "2\n",
            "7\n",
            "4\n",
            "<-[]<-\n"
          ]
        }
      ]
    },
    {
      "cell_type": "markdown",
      "metadata": {
        "id": "wao1sk3f9VIE"
      },
      "source": [
        "### A partir del **Ejercicio 12** vamos a trabajar fuera del TDA Cola usando la interface que creamos en el **Ejercicio 11**. Es decir, se pueden usar solo las operaciones de la interface, no se puede acceder a los componentes internos del TDA. Si necesitan estructuras auxiliares, pueden usar otra cola, pilas, arreglos o listas."
      ]
    },
    {
      "cell_type": "markdown",
      "metadata": {
        "id": "0ngItJaS9LQL"
      },
      "source": [
        "### **Ejercicio 12**\n",
        "\n",
        "Escribir una función que invierta el orden de una cola. No debe devolver una nueva cola invertida, sino invertir la cola que ingresa por parámetro."
      ]
    },
    {
      "cell_type": "code",
      "metadata": {
        "id": "TgI0Klap9Lxt",
        "colab": {
          "base_uri": "https://localhost:8080/"
        },
        "outputId": "99225744-f13a-4f0b-a7cd-eb02fdd21901"
      },
      "source": [
        "#colaOriginal = <-[2,3,1,5]<-\n",
        "#cola = <-[5,1,3,2]<-\n",
        "#pilaAux = []<->\n",
        "\n",
        "def pilaACola(pila:Pila, cola:Cola) -> Cola:\n",
        "  cola.vaciar()\n",
        "  if pila.tamanio == 0:\n",
        "    raise Exception(\"Esta vacia\")\n",
        "  else:\n",
        "    while not pila.estaVacia():\n",
        "      cola.encolar(pila.tope())\n",
        "      pila.desapilar()\n",
        "  return cola\n",
        "\n",
        "def invertirOrdenCola(cola : Cola) -> Cola:\n",
        "  aux = Pila()\n",
        "  while not cola.estaVacia():\n",
        "    aux.apilar(cola.tope())\n",
        "    cola.desencolar()\n",
        "  pilaACola(aux, cola)\n",
        "  return cola\n",
        "\n",
        "cola1= Cola()\n",
        "cola1.encolar(6),cola1.encolar(2), cola1.encolar(9), cola1.encolar(10), cola1.encolar(25)\n",
        "\n",
        "print(invertirOrdenCola(cola1))\n"
      ],
      "execution_count": null,
      "outputs": [
        {
          "output_type": "stream",
          "name": "stdout",
          "text": [
            "<-[25, 10, 9, 2, 6]<-\n"
          ]
        }
      ]
    },
    {
      "cell_type": "markdown",
      "metadata": {
        "id": "c7GRn_aB9j7N"
      },
      "source": [
        "### **Ejercicio 13**\n",
        "\n",
        "Escribir una función que extraiga el primer elemento de una cola y lo ponga en el final, respetando el orden del resto de los elementos.\n",
        "\n"
      ]
    },
    {
      "cell_type": "code",
      "metadata": {
        "id": "tydfGbXxiaTG",
        "colab": {
          "base_uri": "https://localhost:8080/"
        },
        "outputId": "ecc21df5-5066-4cd1-cc23-f0a08ad777cc"
      },
      "source": [
        "#Cola original = <-[2, 3, 1, 5]<-\n",
        "#Cola original = <-[3, 1, 5, 2]<-\n",
        "def elPirmeroAlFinal(cola : Cola) -> Cola:\n",
        "  aux = cola.tope()\n",
        "  cola.desencolar()\n",
        "  cola.encolar(aux)\n",
        "  return cola\n",
        "\n",
        "cola2 = Cola()\n",
        "cola2.encolar(36),cola2.encolar(26), cola2.encolar(40), cola2.encolar(10), cola2.encolar(25)\n",
        "print(cola2)\n",
        "print(elPirmeroAlFinal(cola2))\n"
      ],
      "execution_count": null,
      "outputs": [
        {
          "output_type": "stream",
          "name": "stdout",
          "text": [
            "<-[36, 26, 40, 10, 25]<-\n",
            "<-[26, 40, 10, 25, 36]<-\n"
          ]
        }
      ]
    },
    {
      "cell_type": "markdown",
      "metadata": {
        "id": "1ymkgIGrzLXy"
      },
      "source": [
        "### **Ejercicio 14**\n",
        "\n",
        "Escribir una función que coloque en el principio de una cola un nuevo elemento."
      ]
    },
    {
      "cell_type": "code",
      "metadata": {
        "id": "d4GH3FgpzMjp",
        "colab": {
          "base_uri": "https://localhost:8080/"
        },
        "outputId": "6ddb4c01-0761-4f60-fdb4-af06769e9d2d"
      },
      "source": [
        "def agregarAlPrincipio(cola : Cola, nuevo : int) -> Cola:\n",
        "  aux = cola.clonar()\n",
        "  cola.vaciar()\n",
        "  cola.encolar(nuevo)\n",
        "  while not aux.estaVacia():\n",
        "    cola.encolar(aux.tope())\n",
        "    aux.desencolar()\n",
        "  return cola\n",
        "\n",
        "cola3 = Cola()\n",
        "cola3.encolar(20),cola3.encolar(56), cola3.encolar(10), cola3.encolar(90), cola3.encolar(33)\n",
        "print(cola3)\n",
        "print(agregarAlPrincipio(cola3, 3))\n",
        "\n"
      ],
      "execution_count": null,
      "outputs": [
        {
          "output_type": "stream",
          "name": "stdout",
          "text": [
            "<-[20, 56, 10, 90, 33]<-\n",
            "<-[3, 20, 56, 10, 90, 33]<-\n"
          ]
        }
      ]
    },
    {
      "cell_type": "markdown",
      "metadata": {
        "id": "02nV6J1RzOZI"
      },
      "source": [
        "### **Ejercicio 15**\n",
        "\n",
        "Escribir una función que elimine de una cola todas las ocurrencias de un elemento dado.\n"
      ]
    },
    {
      "cell_type": "code",
      "metadata": {
        "id": "Tyhn88MRzPIc",
        "colab": {
          "base_uri": "https://localhost:8080/"
        },
        "outputId": "bf7133b1-9f4e-41a7-de38-7505739535aa"
      },
      "source": [
        "def eliminarOcurrenciasCola(cola : Cola, elemento : int) -> Cola:\n",
        "  aux = cola.clonar()\n",
        "  cola.vaciar()\n",
        "  while not aux.estaVacia():\n",
        "    if aux.tope() != elemento:\n",
        "      cola.encolar(aux.tope())\n",
        "      aux.desencolar()\n",
        "    else: aux.desencolar()\n",
        "  return cola\n",
        "\n",
        "cola4 = Cola()\n",
        "cola4.encolar(2),cola4.encolar(56), cola4.encolar(10), cola4.encolar(2), cola4.encolar(33), cola4.encolar(5), cola4.encolar(2)\n",
        "print(cola4)\n",
        "print(eliminarOcurrenciasCola(cola4, 2))"
      ],
      "execution_count": null,
      "outputs": [
        {
          "output_type": "stream",
          "name": "stdout",
          "text": [
            "<-[2, 56, 10, 2, 33, 5, 2]<-\n",
            "<-[56, 10, 33, 5]<-\n"
          ]
        }
      ]
    },
    {
      "cell_type": "markdown",
      "metadata": {
        "id": "SDTxGmiaiapF"
      },
      "source": [
        "### **Ejercicio 16**\n",
        "\n",
        "Escribir una función que recibe una cola de enteros y genera dos colas: una con los números primos y otra con los números no primos, de la cola de entrada. Al terminar la función, la cola de entrada no debe estar modificada."
      ]
    },
    {
      "cell_type": "code",
      "metadata": {
        "id": "I7E3oBINiePN",
        "colab": {
          "base_uri": "https://localhost:8080/"
        },
        "outputId": "276d5e88-da93-48d8-e250-3d1c25ce476d"
      },
      "source": [
        "def esPrimo(unNumero):\n",
        "  sumar = 0\n",
        "  for i in range(1,11):\n",
        "   if(unNumero % i == 0):\n",
        "     sumar += 1\n",
        "  resultado = False\n",
        "  if (sumar <= 2):\n",
        "    resultado = True\n",
        "  else: resultado\n",
        "  return resultado\n",
        "\n",
        "def primosYNoPrimos(cola : Cola) -> Cola and Cola:\n",
        "  aux = cola.clonar()\n",
        "  primos = Cola()\n",
        "  noPrimos = Cola()\n",
        "  while not aux.estaVacia():\n",
        "    if esPrimo(aux.tope()):\n",
        "      primos.encolar(aux.tope())\n",
        "      aux.desencolar()\n",
        "    else:\n",
        "      noPrimos.encolar(aux.tope())\n",
        "      aux.desencolar()\n",
        "  return (primos, noPrimos)\n",
        "\n",
        "cola5 = Cola()\n",
        "cola5.encolar(2),cola5.encolar(56), cola5.encolar(10), cola5.encolar(80), cola5.encolar(33), cola5.encolar(5), cola5.encolar(72)\n",
        "print(cola5)\n",
        "print(primosYNoPrimos(cola5))"
      ],
      "execution_count": null,
      "outputs": [
        {
          "output_type": "stream",
          "name": "stdout",
          "text": [
            "<-[2, 56, 10, 80, 33, 5, 72]<-\n",
            "(<-[2, 33, 5]<-, <-[56, 10, 80, 72]<-)\n"
          ]
        }
      ]
    },
    {
      "cell_type": "markdown",
      "metadata": {
        "id": "JXBJhthXiexG"
      },
      "source": [
        "### **Ejercicio 17**\n",
        "\n",
        "Implementar la función \"mezcla\" de dos colas, que recibe como parámetros dos colas ordenadas de menor a mayor y devuelve una nueva cola con la unión de ambas colas de entrada con sus elementos ordenados de la misma manera.\n"
      ]
    },
    {
      "cell_type": "code",
      "metadata": {
        "id": "Z2bswiGMigDd",
        "colab": {
          "base_uri": "https://localhost:8080/"
        },
        "outputId": "af863f57-e64a-4991-d26a-32475c1bdcc9"
      },
      "source": [
        "def mezclar(cola1 : Cola, cola2 : Cola) -> Cola:\n",
        "  salida = Cola()\n",
        "  primera = cola1.clonar()\n",
        "  segunda = cola2.clonar()\n",
        "  condicion = cola1.tamanio() + cola2.tamanio()\n",
        "  while condicion != 0:\n",
        "    if primera.tope() == None:\n",
        "      salida.encolar(segunda.tope())\n",
        "      segunda.desencolar()\n",
        "    elif segunda.tope() == None:\n",
        "      salida.encolar(primera.tope())\n",
        "      primera.desencolar()\n",
        "    elif primera.tope() < segunda.tope() :\n",
        "      salida.encolar(primera.tope())\n",
        "      primera.desencolar()\n",
        "    else:\n",
        "      salida.encolar(segunda.tope())\n",
        "      segunda.desencolar()\n",
        "    condicion -=1\n",
        "  return salida\n",
        "\n",
        "cola7= Cola()\n",
        "cola71 = Cola()\n",
        "cola7.encolar(2),cola7.encolar(8), cola7.encolar(10), cola7.encolar(21), cola7.encolar(23)\n",
        "cola71.encolar(4), cola71.encolar(7), cola71.encolar(13), cola71.encolar(17),\n",
        "\n",
        "print(mezclar(cola7,cola71))"
      ],
      "execution_count": null,
      "outputs": [
        {
          "output_type": "stream",
          "name": "stdout",
          "text": [
            "<-[2, 4, 7, 8, 10, 13, 17, 21, 23]<-\n"
          ]
        }
      ]
    },
    {
      "cell_type": "markdown",
      "metadata": {
        "id": "uTlvxV4x-zxg"
      },
      "source": [
        "### **Ejercicio 18**\n",
        "\n",
        "Implementar la función que recibe como parámetro una cola y elimina todos los números pares."
      ]
    },
    {
      "cell_type": "code",
      "metadata": {
        "id": "l8wU_LPh-0NK",
        "colab": {
          "base_uri": "https://localhost:8080/"
        },
        "outputId": "3e7756cd-043f-464f-e785-7068562d1cec"
      },
      "source": [
        "def eliminarPares(cola : Cola) -> Cola:\n",
        "  aux = cola.clonar()\n",
        "  cola.vaciar()\n",
        "  while not aux.estaVacia():\n",
        "    if aux.tope() % 2 != 0:\n",
        "      cola.encolar(aux.tope())\n",
        "      aux.desencolar()\n",
        "    else: aux.desencolar()\n",
        "  return cola\n",
        "\n",
        "cola8 = Cola()\n",
        "cola8.encolar(2),cola8.encolar(56), cola8.encolar(10), cola8.encolar(9), cola8.encolar(33), cola8.encolar(5), cola8.encolar(14)\n",
        "print(cola4)\n",
        "print(eliminarPares(cola8))"
      ],
      "execution_count": null,
      "outputs": [
        {
          "output_type": "stream",
          "name": "stdout",
          "text": [
            "<-[2, 56, 10, 2, 33, 5, 2]<-\n",
            "<-[9, 33, 5]<-\n"
          ]
        }
      ]
    }
  ]
}