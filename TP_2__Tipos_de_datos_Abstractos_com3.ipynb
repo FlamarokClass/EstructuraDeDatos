{
  "nbformat": 4,
  "nbformat_minor": 0,
  "metadata": {
    "colab": {
      "provenance": [],
      "include_colab_link": true
    },
    "kernelspec": {
      "name": "python3",
      "display_name": "Python 3"
    }
  },
  "cells": [
    {
      "cell_type": "markdown",
      "metadata": {
        "id": "view-in-github",
        "colab_type": "text"
      },
      "source": [
        "<a href=\"https://colab.research.google.com/github/FlamarokClass/EstructuraDeDatos/blob/master/TP_2__Tipos_de_datos_Abstractos_com3.ipynb\" target=\"_parent\"><img src=\"https://colab.research.google.com/assets/colab-badge.svg\" alt=\"Open In Colab\"/></a>"
      ]
    },
    {
      "cell_type": "markdown",
      "metadata": {
        "id": "42630xxYD0gZ"
      },
      "source": [
        "# ![alt text](https://upload.wikimedia.org/wikipedia/commons/thumb/c/c3/Python-logo-notext.svg/50px-Python-logo-notext.svg.png) **Trabajo Práctico 2: Tipos de datos abstractos** ![alt text](https://upload.wikimedia.org/wikipedia/commons/thumb/c/c3/Python-logo-notext.svg/50px-Python-logo-notext.svg.png)\n",
        "\n",
        "En este trabajo práctico, vamos a trabajar con la definición de tipos de datos abstractos en Python. Recuerden crear una copia de este archivo en su ***Google Drive*** para tener permisos de edición.\n",
        "\n",
        "### **florencia.dias@unahur.edu.ar** ###\n"
      ]
    },
    {
      "cell_type": "markdown",
      "metadata": {
        "id": "cwvo5HlCXnwM"
      },
      "source": [
        "**En cada ejercicio, luego de implementar el TDA pedido, tienen que probar cada una de las operaciones en un programa principal, ejecutando cada una de ellas**\n",
        "\n",
        "**En el video les comenté de la función \\_\\_str__ para la representación de variables de los TDAs, en lugar de \\_\\_str__ pueden implementar \\_\\_repr__ que es similar pero más general (No solo sirve para el *print*, sino para la representación en general de variables del TDA)**\n"
      ]
    },
    {
      "cell_type": "code",
      "source": [
        "def validarTipo2(variable, nombre, tipo, condicion = True):\n",
        "  if isinstance(variable, tipo) and condicion:\n",
        "    return variable\n",
        "  else:\n",
        "    raise Exception(\"La variable \" + nombre + \" debe ser de tipo \" + str(tipo) + \". o falla la condicion \"  )\n",
        "\n",
        "def validarTipo(variable, nombre, tipo):\n",
        "  if isinstance(variable, tipo):\n",
        "    return variable\n",
        "  else:\n",
        "    raise Exception(\"La variable \" + nombre + \" debe ser de tipo \" + str(tipo) + \".\")\n",
        "\n",
        "def validarAño(año):\n",
        "  if validarTipo(año, \"año\", int) and año >= 1870:\n",
        "    return año\n",
        "  else:\n",
        "    raise Exception(\"Año incorrecto\")\n",
        "\n",
        "\n",
        "def validarAltura(altura):\n",
        "  if validarTipo(altura, \"altura\", float) and altura > 0:\n",
        "    return altura\n",
        "  else:\n",
        "    raise Exception(\"Altura incorrecta\")\n"
      ],
      "metadata": {
        "id": "Zw0Z6fHghB1P"
      },
      "execution_count": null,
      "outputs": []
    },
    {
      "cell_type": "code",
      "source": [
        "#TDA Auto\n",
        "#cantPuertas -> int\n",
        "#Marca -> str\n",
        "#Modelo -> str\n",
        "#cilindrada -> float\n",
        "\n",
        "class Auto:\n",
        "  def __init__(self, cantPuertas:int, marca:str, modelo:str, cilindrada:float):\n",
        "    self.__cantidadPuertas = cantPuertas\n",
        "    self.__marca = marca\n",
        "    self.__modelo = modelo\n",
        "    self.__cilindrada = cilindrada\n",
        "\n",
        "  def __repr__(self):\n",
        "    return f\"{self.__marca}({self.__modelo})\"\n",
        "\n",
        "  def esIneficiente(self, cilLimite:float)->bool:\n",
        "    return self.__cilindrada >= cilLimite\n",
        "\n",
        "  def setMarca(self, marcaNueva:str):\n",
        "    self.__marca = marcaNueva"
      ],
      "metadata": {
        "id": "sEit5lNGvaLO"
      },
      "execution_count": null,
      "outputs": []
    },
    {
      "cell_type": "code",
      "source": [
        "auto1 = Auto(5,\"VW\",\"gol\",1.8)\n",
        "print(auto1)\n"
      ],
      "metadata": {
        "colab": {
          "base_uri": "https://localhost:8080/"
        },
        "id": "1JGx8Zyf-8Lk",
        "outputId": "f7365922-8b95-458e-83a2-41054ee2e434"
      },
      "execution_count": null,
      "outputs": [
        {
          "output_type": "stream",
          "name": "stdout",
          "text": [
            "VW(gol)\n"
          ]
        }
      ]
    },
    {
      "cell_type": "code",
      "source": [
        "auto1 = Auto(5,\"VW\",\"gol\",1.8)\n",
        "print(auto1)\n",
        "print(Auto.esIneficiente(auto1,1.5))\n",
        "print(auto1.esIneficiente(1.5))\n",
        "auto1.setMarca(\"Ford\")\n",
        "print(auto1)"
      ],
      "metadata": {
        "colab": {
          "base_uri": "https://localhost:8080/"
        },
        "id": "cm3McJk3wLjr",
        "outputId": "6c8ef87a-d3dc-4027-80dc-08fdeccb7028"
      },
      "execution_count": null,
      "outputs": [
        {
          "output_type": "stream",
          "name": "stdout",
          "text": [
            "VW(gol)\n",
            "True\n",
            "True\n",
            "Ford(gol)\n"
          ]
        }
      ]
    },
    {
      "cell_type": "code",
      "source": [
        "#TDA como parametro de una funcion\n",
        "def test(auto:Auto):\n",
        "  auto.setMarca(\"Chevrolet\")"
      ],
      "metadata": {
        "id": "DjOOsbt12leQ"
      },
      "execution_count": null,
      "outputs": []
    },
    {
      "cell_type": "code",
      "source": [
        "auto2 = Auto(4,\"Ford\",\"Fiesta\",1.4)\n",
        "print(auto2)\n",
        "test(auto2)\n",
        "print(auto2)"
      ],
      "metadata": {
        "colab": {
          "base_uri": "https://localhost:8080/"
        },
        "id": "mEWYtb5L250V",
        "outputId": "22b27b69-31bb-4771-b3a9-24b678fcbb9f"
      },
      "execution_count": null,
      "outputs": [
        {
          "output_type": "stream",
          "name": "stdout",
          "text": [
            "Ford(Fiesta)\n",
            "Chevrolet(Fiesta)\n"
          ]
        }
      ]
    },
    {
      "cell_type": "code",
      "source": [
        "import copy #deepcopy\n",
        "#Operador de asignacion\n",
        "auto3 = Auto(4,\"Ford\",\"Fiesta\",1.4)\n",
        "auto4 = copy.deepcopy(auto3)\n",
        "print(auto3)\n",
        "print(auto4)\n",
        "auto3.setMarca(\"VW\")\n",
        "print()\n",
        "print(auto3)\n",
        "print(auto4)"
      ],
      "metadata": {
        "colab": {
          "base_uri": "https://localhost:8080/"
        },
        "id": "gW3lxRgk3wgu",
        "outputId": "df24d6ba-8286-4521-c816-afa9df150231"
      },
      "execution_count": null,
      "outputs": [
        {
          "output_type": "stream",
          "name": "stdout",
          "text": [
            "Ford(Fiesta)\n",
            "Ford(Fiesta)\n",
            "\n",
            "VW(Fiesta)\n",
            "Ford(Fiesta)\n"
          ]
        }
      ]
    },
    {
      "cell_type": "code",
      "source": [
        "print(auto3.__marca)"
      ],
      "metadata": {
        "colab": {
          "base_uri": "https://localhost:8080/"
        },
        "id": "nG8tp7bF6ZiZ",
        "outputId": "9a14b888-9257-4dab-dfdd-590988663603"
      },
      "execution_count": null,
      "outputs": [
        {
          "output_type": "stream",
          "name": "stdout",
          "text": [
            "DDD\n"
          ]
        }
      ]
    },
    {
      "cell_type": "code",
      "source": [
        "auto5 = Auto(3,\"Chevrolet\",\"Corsa\",1.4)\n"
      ],
      "metadata": {
        "id": "hbIl8EJSDjuw"
      },
      "execution_count": null,
      "outputs": []
    },
    {
      "cell_type": "markdown",
      "metadata": {
        "id": "DyzOhAhyXPt8"
      },
      "source": [
        "### **Ejercicio 1**\n",
        "\n",
        "Implementar el TDA \"Propiedad\" que modela un inmueble, con una estructura definida por los siguientes componentes:\n",
        "- Calle\n",
        "- Número\n",
        "- Localidad\n",
        "- Año de construcción\n",
        "- Cantidad de ambientes\n",
        "\n",
        "Implementar las siguientes operaciones:\n",
        "- Constructor: Debe incluir las validaciones necesarias, teniendo en cuenta que solo se almacenan propiedades construidas luego de 1870.\n",
        "- \\_\\_repr__: Al usar la función *print* con una variable del tipo propiedad debe mostrar: **'calle' 'numero' ('localidad')**.\n",
        "- mismaLocalidad: Operación que recibe dos propiedades y retorna *True* si estan en la misma localidad y *False* en caso contrario.\n",
        "- mayorNumeración: Operación que recibe dos propiedades y si están en la misma calle, retorna la que posee mayor numeración. Si están calles diferentes debe lanzar una excepción.\n",
        "- calculaImpuestoARBA: Operación que retorna el porcentaje de impuesto inmobiliario de una propiedad, según la siguiente regla:\n",
        " - Propiedades entre 1870 y 1949:\n",
        "   - Entre 1 y 3 ambientes: 5% de impuesto\n",
        "   - Entre 4 y 6 ambientes: 10% de impuesto\n",
        "   - Más de 6 ambientes: 25 % de impuesto\n",
        " - Propiedades desde 1950 hasta la actualidad:\n",
        "   - Entre 1 y 5 ambientes: 5% de impuesto\n",
        "   - Más de 5 ambientes: 35 % de impuesto\n"
      ]
    },
    {
      "cell_type": "code",
      "source": [
        "\n",
        "class Propiedad:\n",
        "  def __init__(self, calle:str, numero:int, localidad:str, anioConstruccion:int, cantAmbientes:int):\n",
        "    self.__calle = calle.lower()\n",
        "    self.__numero = validarTipo2(numero, numero, int, condicion = numero >= 0)\n",
        "    self.__localidad = localidad.lower()\n",
        "    self.__anioConstruccion = anioConstruccion\n",
        "    self.__cantAmbientes = validarTipo2(cantAmbientes, cantAmbientes, int, condicion = cantAmbientes >= 0)\n",
        "\n",
        "  def __repr__(self):\n",
        "    return f\"{self.__calle} {self.__numero} ({self.__localidad})\"\n",
        "\n",
        "  def mismaLocalidad(propiedadUno, propiedadDos) -> bool:\n",
        "    respuesta = None\n",
        "    if (propiedadUno.__localidad == propiedadDos.__localidad):\n",
        "      respuesta = True\n",
        "    else: respuesta = False\n",
        "    return respuesta\n",
        "\n",
        "  def mayorNumeracion(propiedadUno, propiedadDos) -> str:\n",
        "    respuesta = None\n",
        "    if (propiedadUno.__numero < propiedadDos.__numero and propiedadUno.__calle == propiedadDos.__calle):\n",
        "      respuesta = propiedadDos\n",
        "    elif(propiedadUno.__numero > propiedadDos.__numero and propiedadUno.__calle == propiedadDos.__calle):\n",
        "      respuesta = propiedadUno\n",
        "    else: raise Exception(\"Calle incorrecta\")\n",
        "    return respuesta\n",
        "\n",
        "\n",
        "  def calculaImpuestoARBA(propiedad) -> float:\n",
        "    respuesta = 0.0\n",
        "    if (propiedad.__anioConstruccion > 1870 and propiedad.__anioConstruccion < 1949):\n",
        "      if(propiedad.__cantAmbientes >= 1 and propiedad.__cantAmbientes<= 3):\n",
        "        respuesta = 1.05\n",
        "      elif(propiedad.__cantAmbientes >= 4 and propiedad.__cantAmbientes < 6):\n",
        "        respuesta = 1.10\n",
        "      elif(propiedad.__cantAmbientes >= 6):\n",
        "        respuesta = 1.25\n",
        "    elif(propiedad.__anioConstruccion > 1950):\n",
        "      if(propiedad.__cantAmbientes >= 1 and propiedad.__cantAmbientes <= 5):\n",
        "        respuesta = 1.05\n",
        "      elif(propiedad.__cantAmbientes > 5):\n",
        "        respuesta = 1.35\n",
        "    return respuesta\n",
        "\n",
        "casa = Propiedad(\"Origone\", 370, \"Villa Tesei\", 1880, 6)\n",
        "\n",
        "casa2 = Propiedad(\"Origone\", 380, \"Villa Tesei\", 1990, 5)\n",
        "\n",
        "\n",
        "print(casa)\n",
        "print(Propiedad.mayorNumeracion(casa,casa2))\n",
        "print(Propiedad.calculaImpuestoARBA(casa))"
      ],
      "metadata": {
        "id": "B36ozYCBE64s",
        "colab": {
          "base_uri": "https://localhost:8080/"
        },
        "outputId": "e99dbfc2-6b79-4161-f612-a3b6899f81aa"
      },
      "execution_count": null,
      "outputs": [
        {
          "output_type": "stream",
          "name": "stdout",
          "text": [
            "origone 370 (villa tesei)\n",
            "origone 380 (villa tesei)\n",
            "1.25\n"
          ]
        }
      ]
    },
    {
      "cell_type": "markdown",
      "metadata": {
        "id": "rP1dZEXTe-qq"
      },
      "source": [
        "### **Ejercicio 2**\n",
        "\n",
        "Implementar el TDA \"Cuenta\" que modela una cuenta bancaria, la estructura de datos esta compuesta por los siguientes componentes:\n",
        "- Número de cuenta\n",
        "- DNI del titular\n",
        "- Saldo de cuenta actual\n",
        "- Interés anual\n",
        "\n",
        "Implementar las siguientes operaciones:\n",
        "- Constructor: Debe incluir las validaciones necesarias.\n",
        "- \\_\\_repr__: Al usar la función *print* con una variable del tipo cuenta debe mostrar: **Cuenta Nro: 'numero' - Titular: 'dni' ($'saldo')**.\n",
        "- actualizarSaldo: Operación que actualiza el saldo de la cuenta aplicándole el interés diario (interés anual dividido entre 365).\n",
        "- ingresarDinero: Operación que recibe un número e ingresa esa cantidad en la cuenta.\n",
        "- retirarDinero: Operación que recibe un número y extrae esa cantidad de la cuenta (si hay saldo disponible), sino debe lanzar una excepción."
      ]
    },
    {
      "cell_type": "code",
      "metadata": {
        "id": "IEDFppP6hENW",
        "colab": {
          "base_uri": "https://localhost:8080/"
        },
        "outputId": "f51d95f9-b6e2-43a2-88a0-71b8b9433219"
      },
      "source": [
        "class Cuenta:\n",
        "  def __init__(self, numeroCuenta:int, dniTitular:int, saldoActual:float, interesAnual:float):\n",
        "    self.__numeroCuenta = validarTipo(numeroCuenta, numeroCuenta, int)\n",
        "    self.__dniTitular =  validarTipo2(dniTitular, dniTitular, int, condicion = dniTitular > 0)\n",
        "    self.__saldoActual = saldoActual\n",
        "    self.__interesAnual = interesAnual\n",
        "\n",
        "  def __repr__(self):\n",
        "    return f\"Cuenta Nro: {self.__numeroCuenta} - Titular: {self.__dniTitular} (${self.__saldoActual})\"\n",
        "\n",
        "  def actualizarSaldo(self) -> float:\n",
        "    self.__saldoActual += (self.__interesAnual / 360)\n",
        "\n",
        "  def ingresarDinero(self, cantidadDinero:float)-> float:\n",
        "    self.__saldoActual +=  cantidadDinero\n",
        "\n",
        "\n",
        "  def retirarDinero(self, cantidadDinero:float) -> float:\n",
        "    if(self.__saldoActual >= cantidadDinero):\n",
        "      self.__saldoActual -= cantidadDinero\n",
        "    else: raise Exception(\"Saldo no disponible\")\n",
        "\n",
        "  def getSaldo(self) -> int:\n",
        "    return self.__saldoActual\n",
        "\n",
        "cuenta1= Cuenta(123456, 40768233, 140.0, 1.10)\n",
        "cuenta1.actualizarSaldo()\n",
        "cuenta1.ingresarDinero(130.0)\n",
        "cuenta1.retirarDinero(110.0)\n",
        "\n",
        "cuenta1.getSaldo()"
      ],
      "execution_count": null,
      "outputs": [
        {
          "output_type": "execute_result",
          "data": {
            "text/plain": [
              "160.00305555555553"
            ]
          },
          "metadata": {},
          "execution_count": 102
        }
      ]
    },
    {
      "cell_type": "markdown",
      "metadata": {
        "id": "x8DVU8HlhE2q"
      },
      "source": [
        "### **Ejercicio 3**\n",
        "\n",
        "Implementar el TDA \"Tiempo\" que modela una duracion en horas, minutos y segundos.\n",
        "\n",
        "Se deben implementar las siguientes operaciones:\n",
        "- Constructor: Debe incluir las validaciones necesarias, la hora debe ser un número positivo y los minutos y segundos deben ser números positivos entre 0 y 59.\n",
        "- \\_\\_repr__: Al usar la función *print* con una variable del tipo tiempo debe mostrar: **'horas':'minutos':'segundos'**.\n",
        "- tiempoASegundos: Operación que toma una variable de tipo tiempo y retorna la cantidad en segundos.\n",
        "- tiemposDesdeSegundos: Operación que recibe un tiempo en segundos como parámetro y retorna una variable de tipo tiempo, en horas minutos y segundos.\n",
        "- mayorDuracion: Operación que recibe dos variables de tipo tiempo y retorna la de mayor duración."
      ]
    },
    {
      "cell_type": "code",
      "source": [
        "class Tiempo:\n",
        "  def __init__(self, horas:int, minutos:int, segundos:int):\n",
        "    self.__horas= validarTipo2(horas, horas, int, condicion = (horas <= 24 and horas >= 0))\n",
        "    self.__minutos =  validarTipo2(minutos, minutos, int, condicion = (minutos <= 60 and minutos >= 0))\n",
        "    self.__segundos = validarTipo2(segundos, segundos, int, condicion = (segundos <= 60 and segundos >= 0))\n",
        "\n",
        "  def __repr__(self):\n",
        "    return f\"{self.__horas}:{self.__minutos}:{self.__segundos}\"\n",
        "\n",
        "  def tiempoASegundos(self) -> int:\n",
        "    tiempo = (self.__horas * 3600) + (self.__minutos * 60) + self.__segundos\n",
        "    return tiempo\n",
        "\n",
        "  def tiemposDesdeSegundos(tiempoIndicado) -> int:\n",
        "    horas = tiempoIndicado // 3600\n",
        "    tiempoIndicado %= 3600\n",
        "    minutos = tiempoIndicado // 60\n",
        "    tiempoIndicado %= 60\n",
        "    segundos = tiempoIndicado\n",
        "    return Tiempo(horas, minutos, segundos)\n",
        "\n",
        "  def mayorDuracion(tiempoUno, tiempoDos) -> \"tiempo\":\n",
        "    resultado = None\n",
        "    if(tiempoUno.__horas > tiempoDos.__horas):\n",
        "      resultado = tiempoUno\n",
        "    elif(tiempoUno.__horas == tiempoDos.__horas and tiempoUno.__minutos >= tiempoDos.__minutos):\n",
        "      resultado = tiempoUno\n",
        "    elif(tiempoUno.__minutos >= tiempoDos.__minutos and tiempoUno.__segundos >= tiempoDos.__segundos):\n",
        "      resultado = tiempoUno\n",
        "    else: resultado = tiempoDos\n",
        "    return resultado\n",
        "\n",
        "  def getHoras(self) -> int:\n",
        "    return self.__horas\n",
        "\n",
        "  def getMinutos(self)-> int:\n",
        "    return self.__minutos\n",
        "\n",
        "  def getSegundos(self)-> int:\n",
        "    return self.__segundos\n",
        "\n",
        "horario1 = Tiempo(23,30,28)\n",
        "horario2 = Tiempo(21,35,27)\n",
        "\n",
        "#print(horario1.tiempoASegundos())\n",
        "#print(Tiempo.tiemposDesdeSegundos(88227))\n",
        "\n",
        "\n",
        "print(Tiempo.mayorDuracion(horario1, horario2))"
      ],
      "metadata": {
        "id": "ZtL44I9lI1Lf",
        "colab": {
          "base_uri": "https://localhost:8080/"
        },
        "outputId": "ba6110bc-fcb4-4ebe-e679-546ae5005d3b"
      },
      "execution_count": null,
      "outputs": [
        {
          "output_type": "stream",
          "name": "stdout",
          "text": [
            "23:30:28\n"
          ]
        }
      ]
    },
    {
      "cell_type": "markdown",
      "source": [
        "\n",
        "### **Ejercicio 4: TDA en dos niveles**\n",
        "\n",
        "Modelar el TDA \"Cronometro\", que contiene un tiempo inicial y un tiempo final.\n",
        "\n",
        "Se deben implementar las siguientes operaciones:\n",
        "\n",
        "- Constructor: Queremos modelar el tiempo inicial y final con el TDA \"Tiempo\". Se pueden tener dos variables que se inicializaran en otra operación de la interface.\n",
        "- Comenzar: Debe recibir las hs,min y seg iniciales.\n",
        "- Finalizar: Debe recibir las hs,min y seg finales.\n",
        "- TiempoEmpleado: Devuelve una variable de tipo Tiempo con la diferencia entre el tiempo inicial y el final."
      ],
      "metadata": {
        "id": "5gcdaYCShYkt"
      }
    },
    {
      "cell_type": "code",
      "metadata": {
        "id": "5Y-A98mZkTEq",
        "colab": {
          "base_uri": "https://localhost:8080/"
        },
        "outputId": "436e0cc4-ea32-45c9-b07c-710738e3e606"
      },
      "source": [
        "class Cronometro:\n",
        "  def __init__(self, tiempoInicial = Tiempo(0,0,0), tiempoFinal = Tiempo(0,0,0)):\n",
        "    self.__tiempoInicial = Tiempo(0,0,0) # validarTipo(tiempoInicial, \"tiempoInicial\", Tiempo)\n",
        "    self.__tiempoFinal = Tiempo(0,0,0) # validarTipo(tiempoFinal, \"tiempoFinal\", Tiempo)\n",
        "\n",
        "  def __repr__(self):\n",
        "    return f\"Tiempo Inicial: {self.__tiempoInicial} - Tiempo Final: {self.__tiempoFinal}\"\n",
        "\n",
        "  def comenzar(self,hs,min,seg) -> \"tiempo\":\n",
        "    self.__tiempoInicial = Tiempo(hs,min,seg)\n",
        "    return self.__tiempoInicial\n",
        "\n",
        "  def finalizar(self,hs,min,seg)-> \"tiempo\":\n",
        "    self.__tiempoFinal = Tiempo(hs,min,seg)\n",
        "    return self.__tiempoFinal\n",
        "\n",
        "  def tiempoEmpleado(self) -> \"tiempo\":\n",
        "    if(self.__tiempoInicial.getHoras() >= self.__tiempoFinal.getHoras()):\n",
        "      h = self.__tiempoInicial.getHoras() - self.__tiempoFinal.getHoras()\n",
        "    elif(self.__tiempoInicial.getHoras() < self.__tiempoFinal.getHoras()):\n",
        "      h = self.__tiempoFinal.getHoras() - self.__tiempoInicial.getHoras()\n",
        "\n",
        "    if(self.__tiempoInicial.getMinutos() >= self.__tiempoFinal.getMinutos()):\n",
        "      m = self.__tiempoInicial.getMinutos() - self.__tiempoFinal.getMinutos()\n",
        "    elif(self.__tiempoInicial.getMinutos() < self.__tiempoFinal.getMinutos()):\n",
        "      m = self.__tiempoFinal.getMinutos() - self.__tiempoInicial.getMinutos()\n",
        "\n",
        "    if(self.__tiempoInicial.getSegundos() >= self.__tiempoFinal.getSegundos()):\n",
        "      s= self.__tiempoInicial.getSegundos() - self.__tiempoFinal.getSegundos()\n",
        "    elif(self.__tiempoInicial.getSegundos() < self.__tiempoFinal.getSegundos()):\n",
        "      s= self.__tiempoFinal.getSegundos() - self.__tiempoInicial.getSegundos()\n",
        "    resultado = Tiempo(h,m,s)\n",
        "    return resultado\n",
        "\n",
        "cronometro1 = Cronometro()\n",
        "print(cronometro1)\n",
        "cronometro1.comenzar(5,20,55)\n",
        "cronometro1.finalizar(10,30,40)\n",
        "print(cronometro1)\n",
        "print(cronometro1.tiempoEmpleado())\n"
      ],
      "execution_count": null,
      "outputs": [
        {
          "output_type": "stream",
          "name": "stdout",
          "text": [
            "Tiempo Inicial: 0:0:0 - Tiempo Final: 0:0:0\n",
            "Tiempo Inicial: 5:20:55 - Tiempo Final: 10:30:40\n",
            "5:10:15\n"
          ]
        }
      ]
    },
    {
      "cell_type": "markdown",
      "source": [
        "### **Ejercicio 5: TDA en dos niveles**\n",
        "\n",
        "Modelar el TDA \"Rectangulo\" a partir de los dos lados que lo definen.\n",
        "\n",
        "Se deben implementar las siguientes operaciones:\n",
        "\n",
        "- Constructor: Recibe las longitudes de ambos lados\n",
        "- area: calcula y devuelve el area del rectangulo\n",
        "- perimetro: calcula y devuelve el perimetro\n",
        "- \\_\\_repr__ : imprime la longitud de los lados\n",
        "\n",
        "Luego, modelar el TDA \"Cuadrado\" teniendo unicamente como variable interna en la estructura una variable de tipo \"Rectangulo\". El TDA Cuadrado debe tener las mismas operaciones que el TDA Rectangulo.\n",
        "\n",
        "Ayuda:\n",
        "\n",
        "Área(Rectángulo) = lado1 \\* lado2\n",
        "\n",
        "Área(Cuadrado) = lado^2\n",
        "\n",
        "Perímetro(Rectangulo) = 2 \\* lado1 + 2 \\* lado2\n",
        "\n",
        "Perímetro(Cuadrado) = 4 \\* lado"
      ],
      "metadata": {
        "id": "TX3EbDojGmAV"
      }
    },
    {
      "cell_type": "code",
      "source": [
        "class Rectangulo:\n",
        "  def __init__(self, ladoVertical: float, ladoHorizontal: float):\n",
        "    self.__ladoVertical = ladoVertical\n",
        "    self.__ladoHorizontal = ladoHorizontal\n",
        "\n",
        "  def __repr__(self):\n",
        "    return f\"Largo Vertical: {self.__ladoVertical} - Lado Horizontal: {self.__ladoHorizontal}\"\n",
        "\n",
        "  def getLadoVertical(self)-> float:\n",
        "    return self.__ladoVertical\n",
        "\n",
        "  def getLadoHorizontal(self)-> float:\n",
        "    return self.__ladoHorizontal\n",
        "\n",
        "  def area(self)-> float:\n",
        "    return self.__ladoVertical * self.__ladoHorizontal\n",
        "\n",
        "  def perimetro(self)-> float:\n",
        "    return (self.__ladoVertical * 2) + (self.__ladoHorizontal * 2)\n",
        "\n",
        "class Cuadrado:\n",
        "  def __init__(self, lado):\n",
        "    self.__lado = Rectangulo(lado,lado)\n",
        "\n",
        "  def __repr__(self) -> float:\n",
        "    return f\"Largo de sus lados es de: { self.__lado }\"\n",
        "\n",
        "  def area(self) -> float:\n",
        "    return self.__lado.getLadoVertical() * self.__lado.getLadoHorizontal()\n",
        "\n",
        "  def perimetro(self):\n",
        "    return (self.__lado.getLadoVertical() * 2) + (self.__lado.getLadoHorizontal() * 2)\n",
        "\n",
        "cuadrado1 = Cuadrado(5.0)\n",
        "\n",
        "cuadrado1.area()\n",
        "cuadrado1.perimetro()"
      ],
      "metadata": {
        "id": "uPv1DPuRXL6Z",
        "colab": {
          "base_uri": "https://localhost:8080/"
        },
        "outputId": "88c29dd2-9925-48c2-df57-b2e709df0928"
      },
      "execution_count": null,
      "outputs": [
        {
          "output_type": "execute_result",
          "data": {
            "text/plain": [
              "20.0"
            ]
          },
          "metadata": {},
          "execution_count": 42
        }
      ]
    },
    {
      "cell_type": "markdown",
      "metadata": {
        "id": "30rZj5FbkT9T"
      },
      "source": [
        "### **Ejercicio 6**\n",
        "\n",
        "Las plataformas de música online como ***YouTube*** y ***Spotify*** almacenan la información asociada a las canciones en estructuras de datos complejas para hacer las búsquedas de manera eficiente. Para esto se deben modelar las canciones. Implementar el TDA \"Cancion\" con los siguientes componentes:\n",
        "- Nombre\n",
        "- Artista\n",
        "- Duración\n",
        "- Género musical (6 posibles: Rock, Jazz, Blues, Funk, Reggae y Rap).\n",
        "- Año de edición\n",
        "- Número de likes\n",
        "\n",
        "Implementar las siguientes operaciones:\n",
        "- Constructor: Debe incluir las validaciones necesarias.\n",
        "- \\_\\_repr__: Al usar la función *print* con una variable del tipo canción debe mostrar: **'nombre' - 'artista' ('duracion')**.\n",
        "- mayorDuracion: Operación que recibe dos canciones por parámetros y retorna la de mayor duración.\n",
        "- agregaLikes: Operación que recibe un número e incrementa la cantidad de likes de la canción en ese número.\n",
        "- masVotada: Operacion que recibe dos canciones y sin son del mismo artista y del mismo género musical, retorna la que tiene mayor cantidad de likes. En caso contrario debe lanzar una excepción."
      ]
    },
    {
      "cell_type": "code",
      "metadata": {
        "colab": {
          "base_uri": "https://localhost:8080/"
        },
        "outputId": "51746a41-0813-471e-b170-39a7e64f5115",
        "id": "CW-o5ydtjDCn"
      },
      "source": [
        "class Cancion:\n",
        "  def __init__(self, nombre : str, artista : str, duracion : float, genero : str, anio : int, likes : int):\n",
        "    self.__nombre = nombre\n",
        "    self.__artista = artista\n",
        "    self.__duracion = duracion\n",
        "    self.__genero = validarTipo2(genero, genero, str, condicion = genero == \"Rock\" or genero == \"Jazz\" or genero == \"Blues\" or genero == \"Funk\" or genero == \"Reggae\" or genero == \"Rap\").lower()\n",
        "    self.__anio = anio\n",
        "    self.__likes = likes\n",
        "\n",
        "  def __repr__(self):\n",
        "    return f\"{self.__nombre} - { self.__artista} ({self.__duracion})\"\n",
        "\n",
        "  def mayorDuracion(cancionUno, cancionDos) -> \"cancion\":\n",
        "    resultado = None\n",
        "    if cancionUno.__duracion >= cancionDos.__duracion:\n",
        "      resultado =  cancionUno\n",
        "    else: resultado = cancionDos\n",
        "    return resultado\n",
        "\n",
        "  def agregaLikes(self, cantidad):\n",
        "    self.__likes += cantidad\n",
        "    return self.__likes\n",
        "\n",
        "  def getLikes(self):\n",
        "    return self.__likes\n",
        "\n",
        "  def masVotada(cancionUno, cancionDos) -> \"cancion\":\n",
        "    resultado = None\n",
        "    if cancionUno.__artista == cancionDos.__artista and cancionUno.__genero == cancionDos.__genero and cancionUno.__likes >= cancionDos.__likes:\n",
        "      resultado = cancionUno\n",
        "    elif cancionUno.__artista == cancionDos.__artista and cancionUno.__genero == cancionDos.__genero and cancionUno.__likes < cancionDos.__likes:\n",
        "      resultado = cancionDos\n",
        "    else: raise Exception(\"No se puede hacer una comparacion\")\n",
        "    return resultado\n",
        "\n",
        "velvet = Cancion(\"Velvet\", \"Dubliners\", 1.20, \"Rock\", 1997,0)\n",
        "\n",
        "road = Cancion(\"Road\", \"Dubliners\", 1.30, \"Rock\", 2010, 0)\n",
        "\n",
        "road.agregaLikes(10)\n",
        "velvet.agregaLikes(15)\n",
        "\n",
        "print(road.getLikes())\n",
        "print(velvet.getLikes())\n",
        "\n",
        "print(Cancion.mayorDuracion(road,velvet))\n",
        "print(Cancion.masVotada(road,velvet))\n",
        "\n",
        "\n",
        "\n",
        "\n"
      ],
      "execution_count": null,
      "outputs": [
        {
          "output_type": "stream",
          "name": "stdout",
          "text": [
            "10\n",
            "15\n",
            "Road - Dubliners (1.3)\n",
            "Velvet - Dubliners (1.2)\n"
          ]
        }
      ]
    },
    {
      "cell_type": "markdown",
      "metadata": {
        "id": "1yx_0M8PtkmE"
      },
      "source": [
        "### **Ejercicio 7**\n",
        "\n",
        "Implementar el TDA \"Quiniela\" que modela un juego de quiniela con dos números premiados. La estructura contiene:\n",
        "- Primer número premiado\n",
        "- Segundo número premiado\n",
        "- Multiplicador (cuánto se paga por cada peso apostado)\n",
        "\n",
        "Implementar las siguientes operaciones:\n",
        "- Constructor: Debe incluir las validaciones necesarias, teniendo en cuenta que los números que participan se encuentran entre 0 y 999.\n",
        "- \\_\\_repr__: Al usar la función *print* con una variable del tipo quiniela debe mostrar: **Primer número ganador: 'numero' - Segundo número ganador: 'numero' - Paga: 'multiplicador'X**.\n",
        "- esNumeroGanador: Operación que recibe un número por parámetros y retorna *True* si el número resultó ganador o *False* en caso contrario.\n",
        "- importeAPagar: Operación que recibe un número y el monto apostado por parámetros y retorna el importe a pagar si la apuesta es ganadora o 0 en caso contrario. Si el número es el primer premio, se paga 'mutiplicador' por cada peso apostado, si es el segundo premio se paga la mitad. Solo se aceptan apuestas hasta $1000.\n",
        "- premiadosCercanos: Operación que retorna *True* si los números premiados están a menos de 10 números de distancia y *False* en caso contrario.\n",
        "\n",
        "\n"
      ]
    },
    {
      "cell_type": "code",
      "source": [
        "class Quiniela:\n",
        "  def __init__(self, primerNumero:int, segundoNumero: int, multiplicador:int):\n",
        "    if primerNumero >= 0 or segundoNumero < 999:\n",
        "      self.__primerNumero = primerNumero\n",
        "    if segundoNumero >= 0 or segundoNumero < 999:\n",
        "     self.__segundoNumero = segundoNumero\n",
        "    self.__multiplicador = multiplicador\n",
        "\n",
        "  def __repr__(self):\n",
        "    return f\"Primer número ganador: {self.__primerNumero} - Segundo número ganador: {self.__segundoNumero} - Paga: {self.__multiplicador}X.\"\n",
        "\n",
        "  def esNumeroGanador(self, numero)-> bool:\n",
        "    respuesta = None\n",
        "    if(numero == self.__primerNumero or numero == self.__segundoNumero):\n",
        "      respuesta= True\n",
        "    else: respuesta = False\n",
        "    return respuesta\n",
        "\n",
        "  def importeAPagar(self, numero, apuesta) -> int:\n",
        "    respuesta = None\n",
        "    if(numero == self.__primerNumero and apuesta > 0 and apuesta <= 1000):\n",
        "      respuesta= apuesta * self.__multiplicador\n",
        "    elif(numero == self.__segundoNumero and (apuesta > 0 and apuesta <= 1000)):\n",
        "      respuesta = (apuesta * self.__multiplicador) / 2\n",
        "    return respuesta\n",
        "\n",
        "  def premiadosCercanos(self):\n",
        "    respuesta = None\n",
        "    for i in range(self.__primerNumero-1, (self.__primerNumero + 11)):\n",
        "      if(i == self.__segundoNumero):\n",
        "        respuesta = True\n",
        "    for j in reversed(range(self.__primerNumero - 11, self.__primerNumero )):\n",
        "      if(j == self.__segundoNumero):\n",
        "        respuesta = True\n",
        "    if respuesta == None:\n",
        "      respuesta = False\n",
        "    return respuesta\n",
        "\n",
        "\n",
        "\n",
        "juego = Quiniela(90, 100, 4)\n",
        "\n",
        "#print(juego.esNumeroGanador(15))\n",
        "#juego.importeAPagar(50,20)\n",
        "\n",
        "juego.premiadosCercanos()\n",
        "\n"
      ],
      "metadata": {
        "id": "05VjOJFp0UP2",
        "colab": {
          "base_uri": "https://localhost:8080/"
        },
        "outputId": "348ce8f1-297c-4fc1-f810-5a4656b9b6a5"
      },
      "execution_count": null,
      "outputs": [
        {
          "output_type": "execute_result",
          "data": {
            "text/plain": [
              "True"
            ]
          },
          "metadata": {},
          "execution_count": 54
        }
      ]
    }
  ]
}