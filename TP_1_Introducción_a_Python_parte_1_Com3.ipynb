{
  "cells": [
    {
      "cell_type": "markdown",
      "metadata": {
        "id": "view-in-github",
        "colab_type": "text"
      },
      "source": [
        "<a href=\"https://colab.research.google.com/github/FlamarokClass/EstructuraDeDatos/blob/master/TP_1_Introducci%C3%B3n_a_Python_parte_1_Com3.ipynb\" target=\"_parent\"><img src=\"https://colab.research.google.com/assets/colab-badge.svg\" alt=\"Open In Colab\"/></a>"
      ]
    },
    {
      "cell_type": "markdown",
      "metadata": {
        "id": "42630xxYD0gZ"
      },
      "source": [
        "# ![alt text](https://upload.wikimedia.org/wikipedia/commons/thumb/c/c3/Python-logo-notext.svg/50px-Python-logo-notext.svg.png) **Trabajo Práctico 1: Introducción a Python Parte 1** ![alt text](https://upload.wikimedia.org/wikipedia/commons/thumb/c/c3/Python-logo-notext.svg/50px-Python-logo-notext.svg.png)\n",
        "\n",
        "En estos ejercicios vamos a trabajar cosas que nos permitan empezar a programar esquinausando Python.\n",
        "\n",
        "La idea es que ustedes vayan resolviendo los ejercicios sin la necesidad de instalarse nada en sus computadoras.\n",
        "Antes que nada, creen una copia de este archivo en su ***Google Drive*** para tener permisos de edición, luego pueden compartirlo con quien quieran, tengan cuidado con los permisos al momento de compartir!!!!!!!. Si quieren, nos pueden compartir su documento para que ayudemos con las dudas.\n",
        "\n",
        "### **florencia.dias@unahur.edu.ar** ###\n",
        "\n",
        "En los bloques de código como el que les aparece aca abajo, se puede programar en Python, al pararse dentro del bloque, aparecerá un ícono de \"*play*\" en la esquina superior izquierda, \"*clickeando*\" en este ícono, se ejecuta el código escrito y se muestra la salida debajo, probemos:"
      ]
    },
    {
      "cell_type": "code",
      "execution_count": null,
      "metadata": {
        "colab": {
          "base_uri": "https://localhost:8080/"
        },
        "id": "IH0qfE_oTzyR",
        "outputId": "24bdff2b-bae2-495a-bf59-251a4eb764bc"
      },
      "outputs": [
        {
          "output_type": "stream",
          "name": "stdout",
          "text": [
            "<class 'bool'>\n",
            "True\n",
            "<class 'int'>\n",
            "5\n"
          ]
        }
      ],
      "source": [
        "varNumerica = True\n",
        "print(type(varNumerica))\n",
        "print(varNumerica)\n",
        "\n",
        "varNumerica = 5\n",
        "print(type(varNumerica))\n",
        "print(varNumerica)\n"
      ]
    },
    {
      "cell_type": "markdown",
      "metadata": {
        "id": "YiSL7GMcLOO9"
      },
      "source": [
        "Una cosa a tener en cuenta es que todos los bloques de código estan conectados  entre sí, es por eso que si vemos en el bloque de código de abajo, podemos usar la variable \"varNumerica\" declarada en el bloque anterior, veamos un ejemplo:"
      ]
    },
    {
      "cell_type": "code",
      "execution_count": null,
      "metadata": {
        "id": "XTQPIJfZAH8h",
        "colab": {
          "base_uri": "https://localhost:8080/",
          "height": 141
        },
        "outputId": "2f69c5c8-96be-4265-ca17-63b878131447"
      },
      "outputs": [
        {
          "output_type": "error",
          "ename": "NameError",
          "evalue": "name 'varNumerico' is not defined",
          "traceback": [
            "\u001b[0;31m---------------------------------------------------------------------------\u001b[0m",
            "\u001b[0;31mNameError\u001b[0m                                 Traceback (most recent call last)",
            "\u001b[0;32m<ipython-input-4-e13d685e039c>\u001b[0m in \u001b[0;36m<cell line: 1>\u001b[0;34m()\u001b[0m\n\u001b[0;32m----> 1\u001b[0;31m \u001b[0mprint\u001b[0m\u001b[0;34m(\u001b[0m\u001b[0mvarNumerico\u001b[0m\u001b[0;34m)\u001b[0m\u001b[0;34m\u001b[0m\u001b[0;34m\u001b[0m\u001b[0m\n\u001b[0m",
            "\u001b[0;31mNameError\u001b[0m: name 'varNumerico' is not defined"
          ]
        }
      ],
      "source": [
        "print(varNumerico)"
      ]
    },
    {
      "cell_type": "markdown",
      "metadata": {
        "id": "SWxNqIroNiiS"
      },
      "source": [
        "Ahora si, luego de las aclaraciones del caso y sabiendo como escribir y ejecutar código en los bloques de este archivo, empezamos con la guía."
      ]
    },
    {
      "cell_type": "markdown",
      "metadata": {
        "id": "JspwDwHavN5s"
      },
      "source": [
        "#**Primera parte: Declaración de variables y operaciones básicas**"
      ]
    },
    {
      "cell_type": "markdown",
      "metadata": {
        "id": "nbWbQ1jTO3AP"
      },
      "source": [
        "### **Ejercicio 1**\n",
        "\n",
        "Primer programa en Python. Escribir un programa que imprima por pantalla \"Hola mundo\"."
      ]
    },
    {
      "cell_type": "code",
      "execution_count": null,
      "metadata": {
        "id": "joL3PhcCL-6Z",
        "colab": {
          "base_uri": "https://localhost:8080/"
        },
        "outputId": "206a817d-264c-41da-9fcc-66a502e6548b"
      },
      "outputs": [
        {
          "output_type": "stream",
          "name": "stdout",
          "text": [
            "Hola mundo\n"
          ]
        }
      ],
      "source": [
        "print(\"Hola mundo\")"
      ]
    },
    {
      "cell_type": "markdown",
      "metadata": {
        "id": "dNJ7NrxMMTXf"
      },
      "source": [
        "### **Ejercicio 2**\n",
        "\n",
        "Escribir un programa que cargue en una variable la cadena de caracteres “Hola mundo” y luego la imprima por pantalla."
      ]
    },
    {
      "cell_type": "code",
      "execution_count": null,
      "metadata": {
        "id": "Y4N45RZKMb3J",
        "colab": {
          "base_uri": "https://localhost:8080/"
        },
        "outputId": "194705e7-08b0-45e6-f0bc-79ce0d11f217"
      },
      "outputs": [
        {
          "output_type": "stream",
          "name": "stdout",
          "text": [
            "Hola mundo\n"
          ]
        }
      ],
      "source": [
        "varImpresion = \"Hola mundo\"\n",
        "print(varImpresion)"
      ]
    },
    {
      "cell_type": "markdown",
      "metadata": {
        "id": "G3Dwrq7lNVdx"
      },
      "source": [
        "### **Ejercicio 3**\n",
        "\n",
        "Escribir un programa que cree dos variables enteras, le asigne números arbitrarios (cualquiera) y muestre por pantalla: la suma, la resta, la multiplicación, la división entera y el resto de la división entera."
      ]
    },
    {
      "cell_type": "code",
      "execution_count": null,
      "metadata": {
        "id": "tXIUdY6VN48C",
        "colab": {
          "base_uri": "https://localhost:8080/"
        },
        "outputId": "e0f93e67-6f94-4cbf-ffd6-73e568419036"
      },
      "outputs": [
        {
          "output_type": "stream",
          "name": "stdout",
          "text": [
            "7\n",
            "3\n",
            "10\n",
            "2\n",
            "1\n"
          ]
        }
      ],
      "source": [
        "varNumerica1 = 5\n",
        "varNumerica2 = 2\n",
        "print(varNumerica1 + varNumerica2)\n",
        "print(varNumerica1 - varNumerica2)\n",
        "print(varNumerica1 * varNumerica2)\n",
        "print(varNumerica1 // varNumerica2)\n",
        "print(varNumerica1 % varNumerica2)"
      ]
    },
    {
      "cell_type": "markdown",
      "metadata": {
        "id": "55LHODvxOHbW"
      },
      "source": [
        "### **Ejercicio 4**\n",
        "\n",
        "Implementar algoritmos que permitan:\n",
        "\n",
        "\n",
        "*   Calcular el perímetro y el área de un rectángulo, dada su base y su altura\n",
        "*   Calcular el perímetro y el área de un círculo dado su radio.\n",
        "\n",
        "Declarar las variables necesarias y asignarle números arbitrarios"
      ]
    },
    {
      "cell_type": "code",
      "execution_count": null,
      "metadata": {
        "id": "SvRdQvtQOGgo",
        "colab": {
          "base_uri": "https://localhost:8080/"
        },
        "outputId": "865ce889-a375-47da-da92-589eca0b96e6"
      },
      "outputs": [
        {
          "output_type": "stream",
          "name": "stdout",
          "text": [
            "18\n",
            "20\n",
            "43.96\n",
            "153.86\n"
          ]
        }
      ],
      "source": [
        "#P(R) = 2*b + 2*h\n",
        "#A(R) = b*h\n",
        "#P(C) = 2*3.14*r\n",
        "#A(C) = 3.14*r*r\n",
        "#Operador potencia: 5**2\n",
        "\n",
        "base = 5\n",
        "altura = 4\n",
        "radio = 7\n",
        "\n",
        "def perimetroRectangulo():\n",
        "  return 2*base + 2*altura\n",
        "\n",
        "def areaRectangulo():\n",
        "  return base*altura\n",
        "\n",
        "def perimetroCirculo():\n",
        "  return 2*3.14*radio\n",
        "\n",
        "def areaCirculo():\n",
        "  return 3.14*radio**2\n",
        "\n",
        "print(perimetroRectangulo())\n",
        "print(areaRectangulo())\n",
        "print(perimetroCirculo())\n",
        "print(areaCirculo())"
      ]
    },
    {
      "cell_type": "markdown",
      "metadata": {
        "id": "j34Vr_TaN5v7"
      },
      "source": [
        "### **Ejercicio 5**\n",
        "\n",
        "Escribir un programa que pida una temperatura en grados Celsius al usuario, realice la transformación de grados Celsius a Fahrenheit e imprima el resultado por pantalla."
      ]
    },
    {
      "cell_type": "code",
      "execution_count": null,
      "metadata": {
        "id": "2NMYcPsFPVoY",
        "colab": {
          "base_uri": "https://localhost:8080/"
        },
        "outputId": "d37f7cfe-b0ae-4180-8152-4c047ad5d493"
      },
      "outputs": [
        {
          "output_type": "stream",
          "name": "stdout",
          "text": [
            "Ingrese una  temperatura en grados Celsius12\n",
            "53.6\n"
          ]
        }
      ],
      "source": [
        "#T(C) = 1.8*C + 32\n",
        "\n",
        "pedirTemp = float(input(\"Ingrese una  temperatura en grados Celsius \"))\n",
        "\n",
        "transformacion = 1.8*pedirTemp + 32\n",
        "\n",
        "print(transformacion)"
      ]
    },
    {
      "cell_type": "markdown",
      "metadata": {
        "id": "V4TXH8iygA5S"
      },
      "source": [
        "### **Ejercicio 6**\n",
        "\n",
        "Escribir un programa que pregunte por el número de horas trabajadas y el costo por hora. Después debe mostrar por pantalla el sueldo que corresponde."
      ]
    },
    {
      "cell_type": "code",
      "execution_count": null,
      "metadata": {
        "id": "q5h196hQgBUy",
        "colab": {
          "base_uri": "https://localhost:8080/"
        },
        "outputId": "9bb59cfc-9a8b-4e3c-9939-a8d7091cd032"
      },
      "outputs": [
        {
          "output_type": "stream",
          "name": "stdout",
          "text": [
            "Ingrese el numero de horas trabajadas 5\n",
            "Ingrese el costo por hora 1200\n",
            "120000\n"
          ]
        }
      ],
      "source": [
        "pedirHoras = int(input(\"Ingrese el numero de horas trabajadas \"))\n",
        "pedirCosto = int(input(\"Ingrese el costo por hora \"))\n",
        "\n",
        "calcularSueldo = ((pedirHoras*pedirCosto)*5)*4\n",
        "\n",
        "print(calcularSueldo)\n"
      ]
    },
    {
      "cell_type": "markdown",
      "metadata": {
        "id": "hiC2Y35TgWN1"
      },
      "source": [
        "### **Ejercicio 7**\n",
        "\n",
        "Escribir un programa que pida un peso (en kg) y una estatura (en metros), calcule el índice de masa corporal y lo almacene en una variable. Luego debe muestrar por pantalla la frase: \"El índice de masa corporal es: \\<imc>\". Donde \\<imc> es el índice de masa corporal calculado."
      ]
    },
    {
      "cell_type": "code",
      "execution_count": null,
      "metadata": {
        "id": "q2Krl_PWgV3v",
        "colab": {
          "base_uri": "https://localhost:8080/"
        },
        "outputId": "a7bb8a69-cb5c-41b2-c399-db193703a08a"
      },
      "outputs": [
        {
          "output_type": "stream",
          "name": "stdout",
          "text": [
            "Indicar su peso en kg 60\n",
            "Indicar su altura en metros 1.60\n",
            "El índice de masa corporal es: 153.60000000000002\n"
          ]
        }
      ],
      "source": [
        "#IMC(P,H) = P / (H*H)\n",
        "\n",
        "pedirPeso = float(input(\"Indicar su peso en kg \"))\n",
        "pedirAltura = float(input(\"Indicar su altura en metros \"))\n",
        "\n",
        "imc = str(pedirPeso * (pedirAltura)**2)\n",
        "mensaje = \"El índice de masa corporal es: \" + imc\n",
        "\n",
        "print(mensaje)"
      ]
    },
    {
      "cell_type": "markdown",
      "metadata": {
        "id": "qeZrEYeuhP0Z"
      },
      "source": [
        "### **Ejercicio 8**\n",
        "\n",
        "Escribir un programa que pregunte una cantidad a invertir, el interés anual y el número de años, y muestre por pantalla el capital obtenido en la inversión."
      ]
    },
    {
      "cell_type": "code",
      "execution_count": null,
      "metadata": {
        "id": "xB0aHFqRhQRb",
        "colab": {
          "base_uri": "https://localhost:8080/"
        },
        "outputId": "9b7f561b-5a0f-47ae-c2e7-4968f2fa1425"
      },
      "outputs": [
        {
          "output_type": "stream",
          "name": "stdout",
          "text": [
            "Cantidad a invertir100\n",
            "Indique el interes anual2\n",
            "Indique la cantidad de años2\n",
            "204.0\n"
          ]
        }
      ],
      "source": [
        "#(1+IA/100)* C *Años\n",
        "\n",
        "cantidadAInvertir = float(input(\"Cantidad a invertir \"))\n",
        "interesAnual = float(input(\"Indique el interes anual \"))\n",
        "cantidadDeAños = float(input(\"Indique la cantidad de años \"))\n",
        "\n",
        "calculo = (1+interesAnual/100)* cantidadAInvertir * cantidadDeAños\n",
        "\n",
        "print(calculo)"
      ]
    },
    {
      "cell_type": "markdown",
      "metadata": {
        "id": "_K12p-SIor7W"
      },
      "source": [
        "### **Ejercicio 9**\n",
        "\n",
        "Escribir un programa que pregunte un nombre completo en la consola y después muestre por pantalla ese nombre tres veces, una con todas las letras minúsculas, otra con todas las letras mayúsculas y otra solo con la primera letra del nombre y de los apellidos en mayúscula. Se puede introducir un nombre combinando mayúsculas y minúsculas como se quiera."
      ]
    },
    {
      "cell_type": "code",
      "execution_count": null,
      "metadata": {
        "id": "Ey98WZ5ZosRl",
        "colab": {
          "base_uri": "https://localhost:8080/"
        },
        "outputId": "d2621d49-f124-49ce-8a76-d58fd4b8860e"
      },
      "outputs": [
        {
          "output_type": "stream",
          "name": "stdout",
          "text": [
            "Indique su nombre completo: Franco Anderson\n",
            "FRANCO ANDERSON\n",
            "franco anderson\n",
            "Franco anderson\n",
            "Franco Anderson\n"
          ]
        }
      ],
      "source": [
        "#upper\n",
        "#lower\n",
        "#capitalize\n",
        "#title\n",
        "nombreCompleto = input(\"Indique su nombre completo: \")\n",
        "print(nombreCompleto.upper())\n",
        "print(nombreCompleto.lower())\n",
        "print(nombreCompleto.capitalize())\n",
        "print(nombreCompleto.title())"
      ]
    },
    {
      "cell_type": "markdown",
      "metadata": {
        "id": "68VGBXIJmixr"
      },
      "source": [
        "### **Ejercicio 10**\n",
        "\n",
        "Escribir un programa que pregunte un nombre en la consola y después muestre por pantalla: \"El \\<NOMBRE> tiene \\<N> letras\", donde \\<NOMBRE> es el nombre ingresado todo en mayúsculas y \\<N> es el número de letras que tienen el nombre."
      ]
    },
    {
      "cell_type": "code",
      "execution_count": null,
      "metadata": {
        "id": "6kSdf8xkmjI3",
        "colab": {
          "base_uri": "https://localhost:8080/"
        },
        "outputId": "253d3d6e-8135-45d7-b873-0916ae6671f1"
      },
      "outputs": [
        {
          "output_type": "stream",
          "name": "stdout",
          "text": [
            "Indique su nombre: Franco\n",
            "El nombre FRANCO tiene 6 cantidad de letras\n"
          ]
        }
      ],
      "source": [
        "nombre = input(\"Indique su nombre: \")\n",
        "#print(len(nombre))\n",
        "print(\"El nombre \" + nombre.upper() + \" tiene \" + str(len(nombre)) + \" letras\")"
      ]
    },
    {
      "cell_type": "markdown",
      "metadata": {
        "id": "tg91sLnqsz3G"
      },
      "source": [
        "### **Ejercicio 11**\n",
        "\n",
        "Escribir un programa que pida una palabra, reemplace todas las letras \"a\" por \"z\" y muestre el resultado por pantalla."
      ]
    },
    {
      "cell_type": "code",
      "execution_count": null,
      "metadata": {
        "id": "hPpWslcQs0Oa",
        "colab": {
          "base_uri": "https://localhost:8080/",
          "height": 52
        },
        "outputId": "d4f2e0fa-7f73-435f-f44e-6f1bd6aaf715"
      },
      "outputs": [
        {
          "name": "stdout",
          "output_type": "stream",
          "text": [
            "Ingrese una palabra: franco\n"
          ]
        },
        {
          "output_type": "execute_result",
          "data": {
            "text/plain": [
              "'frznco'"
            ],
            "application/vnd.google.colaboratory.intrinsic+json": {
              "type": "string"
            }
          },
          "metadata": {},
          "execution_count": 1
        }
      ],
      "source": [
        "#lower\n",
        "#upper\n",
        "#title\n",
        "#capitalize\n",
        "#startswith\n",
        "#replace\n",
        "#len(string)\n",
        "\n",
        "palabra = input(\"Ingrese una palabra: \").lower()\n",
        "\n",
        "#nombre.replace()\n",
        "\n",
        "palabra.replace(\"a\", \"z\")"
      ]
    },
    {
      "cell_type": "markdown",
      "metadata": {
        "id": "1qwz086stewZ"
      },
      "source": [
        "### **Ejercicio 12**\n",
        "\n",
        "Escribir un programa que pida dos palabras y muestre por pantalla la concatenacion de ambas.  "
      ]
    },
    {
      "cell_type": "code",
      "execution_count": null,
      "metadata": {
        "id": "blEaekW5Pfo7",
        "colab": {
          "base_uri": "https://localhost:8080/"
        },
        "outputId": "2d076107-3e36-4903-aef3-275b3a1fa942"
      },
      "outputs": [
        {
          "output_type": "stream",
          "name": "stdout",
          "text": [
            "Ingrese una palabra: perro\n",
            "Ingrese una segunda palabra: lindo\n",
            "perro lindo\n"
          ]
        }
      ],
      "source": [
        "palabra1 = input(\"Ingrese una palabra: \")\n",
        "palabra2 = input(\"Ingrese una segunda palabra: \")\n",
        "\n",
        "print(palabra1 + \" \"+ palabra2)"
      ]
    },
    {
      "cell_type": "markdown",
      "metadata": {
        "id": "yuLrj7QTtnIl"
      },
      "source": [
        "### **Ejercicio 13**\n",
        "\n",
        "Escribir un programa que pida una palabra y un número N y muestre por pantalla la palabra ingresada repetida N veces."
      ]
    },
    {
      "cell_type": "code",
      "execution_count": null,
      "metadata": {
        "id": "faif7mZYteUh",
        "colab": {
          "base_uri": "https://localhost:8080/"
        },
        "outputId": "a51482ed-9d9b-4dc2-962e-e89ce3f0eeaf"
      },
      "outputs": [
        {
          "output_type": "stream",
          "name": "stdout",
          "text": [
            "Ingrese una palabra: franco\n",
            "Ingrese una cantidad: 3\n",
            "franco\n",
            "franco\n",
            "franco\n"
          ]
        }
      ],
      "source": [
        "palabra = input(\"Ingrese una palabra: \")\n",
        "cantidad = int(input(\"Ingrese una cantidad: \"))\n",
        "\n",
        "varCondicion = 0\n",
        "while varCondicion < cantidad:\n",
        "  print(palabra)\n",
        "  varCondicion += 1\n",
        "\n"
      ]
    },
    {
      "cell_type": "markdown",
      "metadata": {
        "id": "L9d6sOSpuxCT"
      },
      "source": [
        "#**Segunda parte: Estructuras de control**"
      ]
    },
    {
      "cell_type": "markdown",
      "metadata": {
        "id": "xp3VZsqMv7d3"
      },
      "source": [
        "### **Ejercicio 14**\n",
        "\n",
        "Escribir un programa que pregunte una edad y muestre por pantalla si es mayor de edad o no."
      ]
    },
    {
      "cell_type": "code",
      "execution_count": null,
      "metadata": {
        "id": "F3lyWaa-v7yv"
      },
      "outputs": [],
      "source": [
        "edad = int(input(\"Ingrese una edad: \"))\n",
        "\n",
        "if edad<18:\n",
        "  print(\"Es menor de edad\")\n",
        "else:\n",
        "  print(\"Es mayor de edad\")"
      ]
    },
    {
      "cell_type": "markdown",
      "metadata": {
        "id": "QNlHtEHdwKBp"
      },
      "source": [
        "### **Ejercicio 15**\n",
        "\n",
        "Escribir un programa que almacene la cadena de caracteres \"contraseña\" en una variable y luego pregunte por la contraseña e imprima por pantalla si la contraseña introducida en la consola coincide con la guardada en la variable sin tener en cuenta mayúsculas y minúsculas."
      ]
    },
    {
      "cell_type": "code",
      "execution_count": null,
      "metadata": {
        "id": "6-AbFKCjwKeq",
        "colab": {
          "base_uri": "https://localhost:8080/"
        },
        "outputId": "86bf7f11-886f-413a-fad1-4732196888eb"
      },
      "outputs": [
        {
          "output_type": "stream",
          "name": "stdout",
          "text": [
            "Ingrese la contraseña: boca97\n",
            "La contraseña coincide\n"
          ]
        }
      ],
      "source": [
        "contraseña= \"boca97\"\n",
        "\n",
        "contraseñaIngresada = (input(\"Ingrese la contraseña: \").lower())\n",
        "\n",
        "if contraseñaIngresada == contraseña :\n",
        "  print(\"La contraseña coincide\")\n",
        "else:\n",
        "  print(\"Error, la contraseña no es la misma\")"
      ]
    },
    {
      "cell_type": "markdown",
      "metadata": {
        "id": "ZJ0_6OxYPWZJ"
      },
      "source": [
        "### **Ejercicio 15**\n",
        "\n",
        "Escribir un programa pida dos números enteros e informe por pantalla cual es menor de los dos, si son iguales, indicarlo por separado.\n"
      ]
    },
    {
      "cell_type": "code",
      "execution_count": null,
      "metadata": {
        "id": "SII_f1Zftfj5",
        "colab": {
          "base_uri": "https://localhost:8080/"
        },
        "outputId": "57a9f896-6612-4971-b5dd-ef7d71a3fe1f"
      },
      "outputs": [
        {
          "output_type": "stream",
          "name": "stdout",
          "text": [
            "Ingrese un nuemro: entero: 4\n",
            "Ingrese un nuemro entero: 4\n",
            "4\n",
            "4\n"
          ]
        }
      ],
      "source": [
        "primerNumero = int(input(\"Ingrese un nuemro entero: \"))\n",
        "segundoNumero = int(input(\"Ingrese un nuemro entero: \"))\n",
        "\n",
        "if primerNumero < segundoNumero:\n",
        "  print(str(primerNumero) + \" es el menor valor\")\n",
        "elif segundoNumero < primerNumero:\n",
        "  print(str(segundoNumero) + \" es el menor valor\")\n",
        "else:\n",
        "  print(primerNumero)\n",
        "  print(segundoNumero)"
      ]
    },
    {
      "cell_type": "markdown",
      "metadata": {
        "id": "AnZ1kpoQPn3Y"
      },
      "source": [
        "### **Ejercicio 16**\n",
        "\n",
        "Escribir un programa que pida un número entero e indique si dicho número es par o impar."
      ]
    },
    {
      "cell_type": "code",
      "execution_count": null,
      "metadata": {
        "id": "8TFzQHzKPt-v",
        "colab": {
          "base_uri": "https://localhost:8080/"
        },
        "outputId": "7c534a0f-7061-42cd-df1f-788282767516"
      },
      "outputs": [
        {
          "output_type": "stream",
          "name": "stdout",
          "text": [
            "Ingrese un nuemro entero: 5\n",
            "5 es impar\n"
          ]
        }
      ],
      "source": [
        "numero = int(input(\"Ingrese un nuemro entero: \"))\n",
        "\n",
        "if numero % 2 == 0:\n",
        "  print(str(numero) + \" es par\")\n",
        "elif numero % 2 == 1:\n",
        "  print(str(numero) + \" es impar\")"
      ]
    },
    {
      "cell_type": "markdown",
      "metadata": {
        "id": "Z1-LrF6Swkx_"
      },
      "source": [
        "###**Ejercicio 17**\n",
        "\n",
        "Para pagar un determinado impuesto se debe ser mayor de 18 años y tener unos ingresos iguales o superiores a $100000 mensuales. Escribir un programa que pregunte la edad y los ingresos mensuales y muestre por pantalla si se debe pagar o no."
      ]
    },
    {
      "cell_type": "code",
      "execution_count": null,
      "metadata": {
        "id": "FBMDycRlwlIY",
        "colab": {
          "base_uri": "https://localhost:8080/"
        },
        "outputId": "133bf495-c202-422a-de3c-c27c367c7a70"
      },
      "outputs": [
        {
          "output_type": "stream",
          "name": "stdout",
          "text": [
            "Ingrese su edad: 29\n",
            "Indique sus ingresos: 200000\n",
            "Debe pagar el impuesto\n"
          ]
        }
      ],
      "source": [
        "consultaEdad = int(input(\"Ingrese su edad: \"))\n",
        "consultaIngreso = int(input(\"Indique sus ingresos: \"))\n",
        "\n",
        "if(consultaEdad>= 18 and consultaIngreso >= 100000):\n",
        "  print(\"Debe pagar el impuesto\")\n",
        "else:\n",
        "  print(\"NO debe pagar el impuesto\")\n",
        "\n"
      ]
    },
    {
      "cell_type": "markdown",
      "metadata": {
        "id": "HIjqXTzoPuYU"
      },
      "source": [
        "### **Ejercicio 18**\n",
        "\n",
        "Escribir un programa que pida un número entero del 1 al 7 y muestre por pantalla el día de la semana correspondiente. Controlar que el número se encuentre en el rango correcto, si no es así, informar un error. Por ejemplo, si el número es 2 el día es martes."
      ]
    },
    {
      "cell_type": "code",
      "execution_count": null,
      "metadata": {
        "id": "6SztTz4yPz2k",
        "colab": {
          "base_uri": "https://localhost:8080/"
        },
        "outputId": "862412f5-54d5-4a52-b1cc-080eab4143e1"
      },
      "outputs": [
        {
          "output_type": "stream",
          "name": "stdout",
          "text": [
            "Ingrese un número entero del 1 al 7: 5\n",
            "Viernes\n"
          ]
        }
      ],
      "source": [
        "fecha=int(input(\"Ingrese un número entero del 1 al 7: \"))\n",
        "\n",
        "if(fecha == 1):\n",
        "  print(\"Lunes\")\n",
        "elif(fecha == 2):\n",
        "  print(\"Martes\")\n",
        "elif(fecha == 3):\n",
        "  print(\"Miercoles\")\n",
        "elif(fecha == 4):\n",
        "  print(\"Jueves\")\n",
        "elif(fecha == 5):\n",
        "  print(\"Viernes\")\n",
        "elif(fecha == 6):\n",
        "  print(\"Sabado\")\n",
        "elif(fecha == 7):\n",
        "  print(\"Domingo\")\n",
        "else: print(\"El valor ingresado no es un valor correcto\")"
      ]
    },
    {
      "cell_type": "markdown",
      "metadata": {
        "id": "KY6T0NWfP0Pq"
      },
      "source": [
        "### **Ejercicio 19**\n",
        "\n",
        "Las y los alumnas y alumnos de un curso se han dividido en dos grupos A y B de acuerdo al género y el nombre. El grupo A esta formado por las personas de genero femenino con una inicial de nombre anterior a la M y las personas de genero masculino con un inicial de nombre posterior a la N y el grupo B por el resto. Escribir un programa que pregunte la inicial y el género, y muestre por pantalla el grupo que corresponde."
      ]
    },
    {
      "cell_type": "code",
      "execution_count": null,
      "metadata": {
        "id": "tXqowWynQzPJ",
        "colab": {
          "base_uri": "https://localhost:8080/"
        },
        "outputId": "a822ce70-2f38-4c20-9c95-5c5c7ab0ebe2"
      },
      "outputs": [
        {
          "output_type": "stream",
          "name": "stdout",
          "text": [
            "Indique la inicial de su nombre: F\n",
            "Indique su género: masculino\n",
            "Su grupo es el B\n"
          ]
        }
      ],
      "source": [
        "inicial = input(\"Indique la inicial de su nombre: \").lower()\n",
        "genero = input(\"Indique su género: \").lower()\n",
        "\n",
        "if ((inicial ==\"a\" or inicial ==\"b\" or inicial ==\"c\" or inicial ==\"d\" or inicial ==\"e\" or inicial ==\"f\" or inicial ==\"g\" or inicial ==\"h\"\n",
        "or inicial ==\"i\" or inicial ==\"j\" or inicial ==\"k\" or inicial ==\"l\" or inicial ==\"m\") and genero == \"femenino\"):\n",
        "  print(\"Su grupo es el A\")\n",
        "elif((inicial ==\"n\" or inicial ==\"ñ\" or inicial ==\"o\" or inicial ==\"p\" or inicial ==\"q\" or inicial ==\"r\" or inicial ==\"s\" or inicial ==\"t\"\n",
        "or inicial ==\"u\" or inicial ==\"v\" or inicial ==\"w\" or inicial ==\"x\" or inicial ==\"y\" or inicial ==\"z\") and genero == \"masculino\"):\n",
        "  print(\"Su grupo es el A\")\n",
        "else: print(\"Su grupo es el B\")"
      ]
    },
    {
      "cell_type": "markdown",
      "metadata": {
        "id": "YgtCaggoQzwr"
      },
      "source": [
        "### **Ejercicio 20**\n",
        "\n",
        "Escribir un programa para una empresa que tiene salas de juegos para todas las edades y quiere calcular de forma automática el precio que debe cobrar a sus clientes por entrar. El programa debe preguntar la edad del cliente y mostrar el precio de la entrada. Si el cliente es menor de 4 años puede entrar gratis, si tiene entre 4 y 18 años debe pagar \\$5 y si es mayor de 18 años, \\$10."
      ]
    },
    {
      "cell_type": "code",
      "execution_count": null,
      "metadata": {
        "id": "C2k49JqwREeG",
        "colab": {
          "base_uri": "https://localhost:8080/"
        },
        "outputId": "6bac14c8-f68f-4b69-dfdc-3de98595a473"
      },
      "outputs": [
        {
          "output_type": "stream",
          "name": "stdout",
          "text": [
            "Indique su edad: 6\n",
            "$5\n"
          ]
        }
      ],
      "source": [
        "edad = int(input(\"Indique su edad: \"))\n",
        "\n",
        "if (edad < 4):\n",
        "  entrada = \"Gratis\"\n",
        "elif (edad >= 4 or edad <= 18):\n",
        "  entrada = \"$5\"\n",
        "elif (edad > 18):\n",
        "  entrada = \"$10\"\n",
        "\n",
        "print(entrada)"
      ]
    },
    {
      "cell_type": "markdown",
      "metadata": {
        "id": "6h-hloqtswqX"
      },
      "source": [
        "### **Estructuras de control repetitivas**"
      ]
    },
    {
      "cell_type": "code",
      "execution_count": null,
      "metadata": {
        "id": "D7R1eqLtyTb1",
        "colab": {
          "base_uri": "https://localhost:8080/"
        },
        "outputId": "c15fc8fd-6a5a-40cb-b6d3-ca5ddda77d9f"
      },
      "outputs": [
        {
          "output_type": "stream",
          "name": "stdout",
          "text": [
            "0\n",
            "hola\n",
            "chau\n",
            "1\n",
            "hola\n",
            "chau\n",
            "2\n",
            "hola\n",
            "chau\n",
            "3\n",
            "hola\n",
            "chau\n",
            "4\n",
            "hola\n",
            "chau\n"
          ]
        }
      ],
      "source": [
        "#range(inicio, fin, paso)\n",
        "#range(0,N,1) = range(N)\n",
        "#range(2,9,2) -> 2,4,6,8\n",
        "for var2 in range(5): #0,1,2,3,4\n",
        "  print(var2)\n",
        "  print(\"hola\")\n",
        "  print(\"chau\")\n",
        "#afuera del for"
      ]
    },
    {
      "cell_type": "code",
      "source": [
        "varCondicion = 0\n",
        "while varCondicion < 5:\n",
        "  print(\"hola\")\n",
        "  #varCondicion = varCondicion + 1\n",
        "  varCondicion += 1"
      ],
      "metadata": {
        "id": "xbL3yXdsHouz"
      },
      "execution_count": null,
      "outputs": []
    },
    {
      "cell_type": "markdown",
      "metadata": {
        "id": "i_R4RvnqRE0e"
      },
      "source": [
        "### **Ejercicio 21**\n",
        "\n",
        "Mostrar por pantalla todos los números enteros entre 1 y 100, hacerlo usando un bucle while y tambien con un bucle for."
      ]
    },
    {
      "cell_type": "code",
      "execution_count": null,
      "metadata": {
        "id": "8xtW7IzBaE8x",
        "colab": {
          "base_uri": "https://localhost:8080/"
        },
        "outputId": "ff668ce6-0c15-4b05-e3a9-3986cf81f449"
      },
      "outputs": [
        {
          "output_type": "stream",
          "name": "stdout",
          "text": [
            "1\n",
            "2\n",
            "3\n",
            "4\n",
            "5\n",
            "6\n",
            "7\n",
            "8\n",
            "9\n",
            "10\n",
            "11\n",
            "12\n",
            "13\n",
            "14\n",
            "15\n",
            "16\n",
            "17\n",
            "18\n",
            "19\n",
            "20\n",
            "21\n",
            "22\n",
            "23\n",
            "24\n",
            "25\n",
            "26\n",
            "27\n",
            "28\n",
            "29\n",
            "30\n",
            "31\n",
            "32\n",
            "33\n",
            "34\n",
            "35\n",
            "36\n",
            "37\n",
            "38\n",
            "39\n",
            "40\n",
            "41\n",
            "42\n",
            "43\n",
            "44\n",
            "45\n",
            "46\n",
            "47\n",
            "48\n",
            "49\n",
            "50\n",
            "51\n",
            "52\n",
            "53\n",
            "54\n",
            "55\n",
            "56\n",
            "57\n",
            "58\n",
            "59\n",
            "60\n",
            "61\n",
            "62\n",
            "63\n",
            "64\n",
            "65\n",
            "66\n",
            "67\n",
            "68\n",
            "69\n",
            "70\n",
            "71\n",
            "72\n",
            "73\n",
            "74\n",
            "75\n",
            "76\n",
            "77\n",
            "78\n",
            "79\n",
            "80\n",
            "81\n",
            "82\n",
            "83\n",
            "84\n",
            "85\n",
            "86\n",
            "87\n",
            "88\n",
            "89\n",
            "90\n",
            "91\n",
            "92\n",
            "93\n",
            "94\n",
            "95\n",
            "96\n",
            "97\n",
            "98\n",
            "99\n",
            "100\n"
          ]
        }
      ],
      "source": [
        "varCondicion = 0\n",
        "dato = 1\n",
        "'''\n",
        "while varCondicion < 100:\n",
        "  print(dato)\n",
        "  varCondicion += 1\n",
        "  dato +=1\n",
        "'''\n",
        "\n",
        "for datos in range(100):\n",
        "  print(dato)\n",
        "  dato+=1"
      ]
    },
    {
      "cell_type": "markdown",
      "metadata": {
        "id": "dsdrdUzNRVlx"
      },
      "source": [
        "### **Ejercicio 22**\n",
        "\n",
        "Escribir un programa que pida dos números enteros e imprima todos los números enteros entre ellos."
      ]
    },
    {
      "cell_type": "code",
      "execution_count": null,
      "metadata": {
        "id": "eiPpA7TmRjG_",
        "colab": {
          "base_uri": "https://localhost:8080/"
        },
        "outputId": "19c1065e-312a-4dbf-d7d8-a16f31d89a3a"
      },
      "outputs": [
        {
          "output_type": "stream",
          "name": "stdout",
          "text": [
            "Ingrese un número entero: 4\n",
            "Ingrese un número entero: 4\n",
            "4\n"
          ]
        }
      ],
      "source": [
        "numero1= int(input(\"Ingrese un número entero: \"))\n",
        "numero2= int(input(\"Ingrese un número entero: \"))\n",
        "\n",
        "if (numero1 < numero2 ):\n",
        "  for variable in range(numero1, numero2+1):\n",
        "    print(variable)\n",
        "else:\n",
        "  for variable in range(numero2, numero1 +1):\n",
        "    print(variable)\n"
      ]
    },
    {
      "cell_type": "markdown",
      "metadata": {
        "id": "yuxsSussRjfn"
      },
      "source": [
        "### **Ejercicio 23**\n",
        "\n",
        "Escribir un programa que pregunte un nombre en la consola y un número entero e imprima por pantalla en líneas distintas el nombre tantas veces como el número introducido."
      ]
    },
    {
      "cell_type": "code",
      "execution_count": null,
      "metadata": {
        "id": "DGb1-6f_RsWP",
        "colab": {
          "base_uri": "https://localhost:8080/"
        },
        "outputId": "899c35f5-23d9-4218-ffc2-963b796489c0"
      },
      "outputs": [
        {
          "output_type": "stream",
          "name": "stdout",
          "text": [
            "Ingrese un nombre: franco\n",
            "Ingrese una cantidad: 3\n",
            "franco\n",
            "franco\n",
            "franco\n"
          ]
        }
      ],
      "source": [
        "nombre = input(\"Ingrese un nombre: \")\n",
        "cantidad = int(input(\"Ingrese una cantidad: \"))\n",
        "\n",
        "variableCondicion = 0\n",
        "while variableCondicion < cantidad:\n",
        "  print(nombre)\n",
        "  variableCondicion += 1"
      ]
    },
    {
      "cell_type": "markdown",
      "metadata": {
        "id": "dnlPkC9XyCLe"
      },
      "source": [
        "###**Ejercicio 24**\n",
        "\n",
        "Escribir un programa que pida un número entero positivo y muestre por pantalla todos los números impares desde 1 hasta ese número."
      ]
    },
    {
      "cell_type": "code",
      "execution_count": null,
      "metadata": {
        "id": "fcDtiO_LyCiJ",
        "colab": {
          "base_uri": "https://localhost:8080/"
        },
        "outputId": "9b6798b1-982e-400f-f4d0-102e4d170825"
      },
      "outputs": [
        {
          "output_type": "stream",
          "name": "stdout",
          "text": [
            "Ingrese un número positivo entero: 20\n",
            "1\n",
            "3\n",
            "5\n",
            "7\n",
            "9\n",
            "11\n",
            "13\n",
            "15\n",
            "17\n",
            "19\n"
          ]
        }
      ],
      "source": [
        "numero = int(input(\"Ingrese un número positivo entero: \"))\n",
        "\n",
        "for var in range(1,numero,2):\n",
        "  print(var)"
      ]
    },
    {
      "cell_type": "markdown",
      "metadata": {
        "id": "tsVLTkW8Rs-O"
      },
      "source": [
        "### **Ejercicio 25**\n",
        "\n",
        "Escribir un programa que pida un número entero y muestre por pantalla un triángulo rectángulo como el de más abajo, de altura igual al número introducido.\n",
        "\n",
        "Por ejemplo, si el usuario ingresa el numero 4:\n",
        "\n",
        "\\*\n",
        "\n",
        "\\* *\n",
        "\n",
        "\\* * *\n",
        "\n",
        "\\* * * *"
      ]
    },
    {
      "cell_type": "code",
      "execution_count": null,
      "metadata": {
        "id": "7ANmm0ROR9Tg",
        "colab": {
          "base_uri": "https://localhost:8080/"
        },
        "outputId": "0c912e75-a786-4a21-bf42-2936d93df4c7"
      },
      "outputs": [
        {
          "output_type": "stream",
          "name": "stdout",
          "text": [
            "Ingrese un número positivo entero: 4\n",
            "*\n",
            "**\n",
            "***\n",
            "****\n"
          ]
        }
      ],
      "source": [
        "numeroDeRenglones = int(input(\"Ingrese un número positivo entero: \"))\n",
        "\n",
        "renglon = \"*\"\n",
        "for i in range(numeroDeRenglones):\n",
        "  print(renglon)\n",
        "  renglon = renglon + \"*\"\n"
      ]
    },
    {
      "cell_type": "markdown",
      "metadata": {
        "id": "ZZJCDA32R91Y"
      },
      "source": [
        "### **Ejercicio 26**\n",
        "\n",
        "Escribir un programa que imprima por pantalla todas las fichas del domino, una por línea, sin repetir.\n",
        "\n",
        "0 | 0 - 0 | 1 - 0 | 2 - 0 | 3 - 0 | 4 - 0 | 5 - 0 | 6\n",
        "\n",
        "1 | 1 - 1 | 2 - 1 | 3 - 1 | 4 - 1 | 5 - 1 | 6\n",
        "\n",
        "2 | 2 - 2 | 3 - 2 | 4 - 2 | 5 - 2 | 6\n",
        "\n",
        "3 | 3 - 3 | 4 - 3 | 5 - 3 | 6\n",
        "\n",
        "4 | 4 - 4 | 5 - 4 | 6\n",
        "\n",
        "5 | 5 - 5 | 6\n",
        "\n",
        "6 | 6"
      ]
    },
    {
      "cell_type": "code",
      "execution_count": null,
      "metadata": {
        "id": "LTzYmPPWSFvO"
      },
      "outputs": [],
      "source": [
        "# dos bucles for anidados"
      ]
    },
    {
      "cell_type": "markdown",
      "metadata": {
        "id": "Hh19diZlyXek"
      },
      "source": [
        "###**Ejercicio 27**\n",
        "\n",
        "Escribir un programa que pida un número entero y muestre por pantalla un triángulo rectángulo como el de más abajo.\n",
        "\n",
        "Si el usuario ingresa el numero 5:\n",
        "\n",
        "1             \n",
        "\n",
        "3 1           \n",
        "\n",
        "5 3 1         \n",
        "\n",
        "7 5 3 1       \n",
        "\n",
        "9 7 5 3 1  "
      ]
    },
    {
      "cell_type": "code",
      "metadata": {
        "colab": {
          "base_uri": "https://localhost:8080/"
        },
        "outputId": "34f0289f-3614-4df5-a2dc-2bbaf297d498",
        "id": "5ZpRkNMoV2QT"
      },
      "source": [
        "numeroEnter = int(input(\"Introduce la altura del triángulo (entero positivo): \"))\n",
        "\n",
        "for i in range(1, numeroEnter+5, 2):\n",
        "    for j in range(i, 0, -2):\n",
        "        print(j, end=\" \")\n",
        "    print(\"\")\n",
        "\n"
      ],
      "execution_count": null,
      "outputs": [
        {
          "output_type": "stream",
          "name": "stdout",
          "text": [
            "Introduce la altura del triángulo (entero positivo): 4\n",
            "1 \n",
            "3 1 \n",
            "5 3 1 \n",
            "7 5 3 1 \n"
          ]
        }
      ]
    },
    {
      "cell_type": "markdown",
      "metadata": {
        "id": "59Jbl5dbSGF2"
      },
      "source": [
        "\n",
        "### **Ejercicio 28**\n",
        "\n",
        "Escribir un programa que pida un número natural **N** e imprima por pantalla la suma de los números naturales de 1 hasta **N**.\n",
        "\n",
        "Por ejemplo para **N = 5**, la salida debe ser:\n",
        "\n",
        "1 + 2 + 3 + 4 + 5 = 15\n",
        "\n",
        "Solo debe imprimir el resultado final (por ejemplo 15)"
      ]
    },
    {
      "cell_type": "code",
      "execution_count": null,
      "metadata": {
        "id": "jIt2AeopSiVL",
        "colab": {
          "base_uri": "https://localhost:8080/"
        },
        "outputId": "1a6a0f0f-8ff6-497a-e095-2eecf7eafe05"
      },
      "outputs": [
        {
          "output_type": "stream",
          "name": "stdout",
          "text": [
            "Ingrese un número positivo entero: 10\n",
            "55\n"
          ]
        }
      ],
      "source": [
        "numero = int(input(\"Ingrese un número positivo entero: \"))\n",
        "\n",
        "valor= 0\n",
        "auxiliar = 1\n",
        "for i in range(numero):\n",
        "  valor = valor + auxiliar\n",
        "  auxiliar += 1\n",
        "\n",
        "print(valor)"
      ]
    },
    {
      "cell_type": "markdown",
      "metadata": {
        "id": "8uQf2g92Sivq"
      },
      "source": [
        "### **Ejercicio 29**\n",
        "\n",
        "Construir un programa que lea un número natural **N** y calcule la suma de los primeros **N** números pares.\n",
        "-  Si N = 2 -> Resultado = 2 + 4\n",
        "-  Si N = 3 -> Resultado = 2 + 4 + 6\n",
        "-  Si N = 4 -> Resultado = 2 + 4 + 6 + 8\n",
        "-  ......\n",
        "-  Para cualquier N -> Resultado = 2 + 4 + 6 +....+ 2*N"
      ]
    },
    {
      "cell_type": "code",
      "execution_count": null,
      "metadata": {
        "id": "9ADJ8tgxSn2Q",
        "colab": {
          "base_uri": "https://localhost:8080/"
        },
        "outputId": "c507a825-259f-4157-e5bd-191d0afbbabc"
      },
      "outputs": [
        {
          "output_type": "stream",
          "name": "stdout",
          "text": [
            "Ingrese un número positivo entero: 5\n",
            "30\n"
          ]
        }
      ],
      "source": [
        "numero = int(input(\"Ingrese un número positivo entero: \"))\n",
        "\n",
        "valor= 0\n",
        "for var in range(2,2*numero+1,2):\n",
        "  valor+=var\n",
        "\n",
        "print(valor)"
      ]
    },
    {
      "cell_type": "markdown",
      "metadata": {
        "id": "ZEi--gNXSoOZ"
      },
      "source": [
        "### **Ejercicio 30**\n",
        "\n",
        "Escribir un programa que pida dos números enteros e informa por pantalla todos los números pares entre ellos."
      ]
    },
    {
      "cell_type": "code",
      "execution_count": null,
      "metadata": {
        "id": "4_bYnYGESvV0",
        "colab": {
          "base_uri": "https://localhost:8080/"
        },
        "outputId": "15e16038-b8ec-42a9-a034-2d3280522591"
      },
      "outputs": [
        {
          "output_type": "stream",
          "name": "stdout",
          "text": [
            "Ingrese un número positivo entero: 2\n",
            "Ingrese un número positivo entero: 11\n",
            "2\n",
            "4\n",
            "6\n",
            "8\n",
            "10\n"
          ]
        }
      ],
      "source": [
        "numeroUno = int(input(\"Ingrese un número positivo entero: \"))\n",
        "numeroDos = int(input(\"Ingrese un número positivo entero: \"))\n",
        "\n",
        "for i in range(numeroUno, numeroDos+1, 2):\n",
        "    print(i)\n"
      ]
    },
    {
      "cell_type": "markdown",
      "metadata": {
        "id": "tJwW9zpHSvwA"
      },
      "source": [
        "### **Ejercicio 31**\n",
        "\n",
        "Escribir un programa que pida un número entero y muestre por pantalla la cantidad de cifras de dicho número. Se debe resolver con divisiones sucesivas por 10 usando un bucle while."
      ]
    },
    {
      "cell_type": "code",
      "execution_count": null,
      "metadata": {
        "id": "RjduT381S13q",
        "colab": {
          "base_uri": "https://localhost:8080/"
        },
        "outputId": "5331ea4b-7c9f-4dd2-a2d0-c415cb9cb643"
      },
      "outputs": [
        {
          "output_type": "stream",
          "name": "stdout",
          "text": [
            "Ingrese un número positivo entero: 9000\n",
            "La cantidad de digitos son: 4\n"
          ]
        }
      ],
      "source": [
        "numeroUno = int(input(\"Ingrese un número positivo entero: \"))\n",
        "\n",
        "varCondicion = 0\n",
        "contador = 0\n",
        "\n",
        "while numeroUno != 0 :\n",
        "  numeroUno = numeroUno // 10\n",
        "  contador += 1\n",
        "\n",
        "print(\"La cantidad de digitos son: \" + str(contador))"
      ]
    },
    {
      "cell_type": "markdown",
      "metadata": {
        "id": "zo91uPVAS2Tk"
      },
      "source": [
        "### **Ejercicio 32**\n",
        "\n",
        "Escribir un programa que pida un número entero e informe si dicho numero es primo o compuesto."
      ]
    },
    {
      "cell_type": "code",
      "execution_count": null,
      "metadata": {
        "id": "Ouev8laiS9vw",
        "colab": {
          "base_uri": "https://localhost:8080/"
        },
        "outputId": "add46aba-d32b-4ec5-f13e-b8482e2f4e71"
      },
      "outputs": [
        {
          "output_type": "stream",
          "name": "stdout",
          "text": [
            "Ingrese un número positivo entero: 11\n",
            "Es Primo\n"
          ]
        }
      ],
      "source": [
        "numeroUno = int(input(\"Ingrese un número positivo entero: \"))\n",
        "sumar = 0\n",
        "\n",
        "for i in range(1,11):\n",
        "  if(numeroUno % i == 0):\n",
        "    sumar += 1\n",
        "\n",
        "if (sumar <= 2):\n",
        "  print(\"Es Primo\")\n",
        "else: print(\"Es Compuesto\")"
      ]
    }
  ],
  "metadata": {
    "colab": {
      "provenance": [],
      "include_colab_link": true
    },
    "kernelspec": {
      "display_name": "Python 3",
      "name": "python3"
    }
  },
  "nbformat": 4,
  "nbformat_minor": 0
}