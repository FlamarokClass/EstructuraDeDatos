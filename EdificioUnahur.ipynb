{
  "nbformat": 4,
  "nbformat_minor": 0,
  "metadata": {
    "colab": {
      "provenance": [],
      "authorship_tag": "ABX9TyNauRRlscJj3zhfANo0+Rmn",
      "include_colab_link": true
    },
    "kernelspec": {
      "name": "python3",
      "display_name": "Python 3"
    },
    "language_info": {
      "name": "python"
    }
  },
  "cells": [
    {
      "cell_type": "markdown",
      "metadata": {
        "id": "view-in-github",
        "colab_type": "text"
      },
      "source": [
        "<a href=\"https://colab.research.google.com/github/FlamarokClass/EstructuraDeDatos/blob/master/EdificioUnahur.ipynb\" target=\"_parent\"><img src=\"https://colab.research.google.com/assets/colab-badge.svg\" alt=\"Open In Colab\"/></a>"
      ]
    },
    {
      "cell_type": "markdown",
      "source": [
        "# ***Ejercicio 1***\n",
        "Escribir la función cantidadPrimos(arreglo), que retorna la cantidad de números primos que forman parte de un arreglo. Las soluciones que NO sean recursivas no serán tomadas en cuenta.\n",
        "Por ejemplo:\n",
        "Si arr1 = [5, 10, 9, 8, 13, 21] => cantidadPrimos(arr1) = 2\n",
        "Ayuda: Se puede asumir que ya se tiene la función esPrimo(n) que devuelve verdadero cuando n es primo.\n"
      ],
      "metadata": {
        "id": "mW1spTJYJGkK"
      }
    },
    {
      "cell_type": "code",
      "execution_count": null,
      "metadata": {
        "id": "Hs00jkCSI-sZ"
      },
      "outputs": [],
      "source": [
        "import numpy as np\n",
        "def cantidadPrimos(arreglo : np.array , nPrimos = 0) -> int:\n",
        "  longitud = len(arreglo)\n",
        "  if longitud == 1:\n",
        "    if esPrimo(arreglo[0]):\n",
        "      nPrimos +=1\n",
        "  else:\n",
        "    if esPrimo(arrlego[0]):\n",
        "      nPrimos += 1\n",
        "    nPrimos += cantidadPrimos(arrlego[1:], nPrimos)\n",
        "  return nPrimos\n"
      ]
    },
    {
      "cell_type": "markdown",
      "source": [
        "\n",
        "\n",
        "# **Ejercicio 2**\n",
        "En UNAHUR se está desarrollando un software para la asignación de aulas para las materias en los edificios de la Universidad. Un aula se define con 2 cosas:\n",
        "Nombre de materia\n",
        "Cantidad de alumnos\n",
        "Cada edificio tiene un nombre y aulas distribuidas en 3 pisos. Vamos a suponer que un edificio de aulas tiene la misma cantidad de aulas en cada uno de los pisos. Lo que se necesita hacer es asignar materias con sus correspondientes estudiantes a las aulas de los edificios.  \n",
        "Implementar el TDA EdificioUnaHur que contenga al menos las siguientes operaciones:\n",
        "init(nombre, cantAulasPiso): Que recibe el nombre, la cantidad de aulas por piso del edificio.\n",
        "asignarAula(nombreMateria, cantEstudiantes): Recibe la cantidad de estudiantes de la materia que se desea asignar, busca en el edificio la primera aula desocupada y los pone en ella. La función debe retornar la ubicación (piso y número de aula dentro del piso) del aula utilizada. Si no hay ningún número de aula en ningún piso, disponible, debe arrojar una excepción.\n",
        "cantidadAlumnos(nPiso): Recibe un número de piso y retorna la cantidad total de estudiantes cursando en ese piso.\n",
        "nuevaCursada(): Deja el edificio sin estudiantes en todas las aulas (vacío).\n",
        "repr(): que muestra el edificio.\n",
        "\n"
      ],
      "metadata": {
        "id": "dnmXl39ie_dA"
      }
    },
    {
      "cell_type": "code",
      "source": [
        "import numpy as np\n",
        "\n",
        "class Aula:\n",
        "  def __init__(self, nombreMateria : str, cantAulumnos : int):\n",
        "    self.__nombreMateria = nombreMateria\n",
        "    self.__cantAulumnos = cantAulumnos\n",
        "\n",
        "  def __repr__(self):\n",
        "    return f\"El Nombre del Aula {self.__nombreMateria} para {self.__cantAulumnos} alumnos\"\n",
        "\n",
        "  def getNombre(self) -> str:\n",
        "    return self.__nombreMateria\n",
        "\n",
        "  def getCantAlumnos(self) -> int:\n",
        "    return self.__cantAulumnos\n",
        "\n",
        "class EdificioUnahur():\n",
        "  def __init__(self,nombre : str, cantAulasPiso : int, cantPisos = 3):\n",
        "    self.__nombre = nombre\n",
        "    self.__cantPisos = cantPisos\n",
        "    self.__cantAulasPiso = cantAulasPiso\n",
        "    self.__edificio = np.empty((cantPisos,self.__cantAulasPiso), Aula)\n",
        "\n",
        "  def __repr__(self):\n",
        "    return str(self.__edificio)\n",
        "\n",
        "  '''def asignarAula(self, nombreDeMateria : str, cantEstudiantes : int) -> None:\n",
        "    disponibles = 0\n",
        "    for indiceFila in range(len(self.__edificio)):\n",
        "      for indiceCol in range(len(self.__edificio[indiceFila])):\n",
        "        if self.__edificio[indiceFila,indiceCol] == None:\n",
        "          self.__edificio[indiceFila,indiceCol] = Aula(nombreDeMateria,cantEstudiantes)\n",
        "          disponibles += 1\n",
        "          break # encontro espacio, sale del Piso\n",
        "      if disponibles == 1:\n",
        "        break # no sigue recorriendo otros pisos\n",
        "    if disponibles == 0:\n",
        "      raise Exception(\"No hay Aulas disponibles\")\n",
        "    return f\"Aula {self.__edificio[indiceFila,indiceCol].getNombre()}: Piso {indiceFila}, Aula n° {indiceCol}\"\n",
        "'''\n",
        "\n",
        "  def asignarAula(self, nombreDeMateria : str, cantEstudiantes : int) -> None:\n",
        "    for indiceFila in range(len(self.__edificio)):\n",
        "      for indiceCol in range(len(self.__edificio[indiceFila])):\n",
        "        if self.__edificio[indiceFila,indiceCol] == None:\n",
        "          self.__edificio[indiceFila,indiceCol] = Aula(nombreDeMateria,cantEstudiantes)\n",
        "          return f\"Aula {self.__edificio[indiceFila,indiceCol].getNombre()}: Piso {indiceFila}, Aula n° {indiceCol}\"\n",
        "    raise Exception(\"No hay Aulas disponibles\")\n",
        "\n",
        "  def cantidadAlumnos(self, nPiso : int) -> int:\n",
        "    contador = 0\n",
        "    if nPiso <= self.__cantPisos:\n",
        "      for columna in range(len(self.__edificio[nPiso])):\n",
        "        if self.__edificio[nPiso, columna] is not None:\n",
        "          contador += self.__edificio[nPiso,columna].getCantAlumnos()\n",
        "    return contador\n",
        "\n",
        "  def nuevaCursada(self):\n",
        "    for indiceFila in range(len(self.__edificio)):\n",
        "      for indiceCol in range(len(self.__edificio[indiceFila])):\n",
        "        self.__edificio[indiceFila,indiceCol] = None\n",
        "    return str(self.__edificio)\n",
        "\n",
        "\n",
        "matematica = Aula(\"mate\", 14)\n",
        "\n",
        "lengua = Aula(\"lengua\", 10)\n",
        "\n",
        "bio = Aula(\"bio\", 5)\n",
        "\n",
        "Malvinas = EdificioUnahur(\"Mavinas\",3)\n",
        "\n",
        "print(Malvinas)\n",
        "print(Malvinas.asignarAula(\"matematica\", 10))\n",
        "print(Malvinas.asignarAula(\"lengua\", 10))\n",
        "print(Malvinas.asignarAula(\"bio\", 10))\n",
        "print(Malvinas.asignarAula(\"sac\", 10))\n",
        "print(Malvinas.asignarAula(\"tic\", 10))\n",
        "print(Malvinas.cantidadAlumnos(0))\n",
        "print(Malvinas.nuevaCursada())\n"
      ],
      "metadata": {
        "colab": {
          "base_uri": "https://localhost:8080/"
        },
        "id": "F692URWid6lX",
        "outputId": "dd090e7d-2b09-470d-e234-a9260eec6489"
      },
      "execution_count": null,
      "outputs": [
        {
          "output_type": "stream",
          "name": "stdout",
          "text": [
            "[[None None None]\n",
            " [None None None]\n",
            " [None None None]]\n",
            "Aula matematica: Piso 0, Aula n° 0\n",
            "Aula lengua: Piso 0, Aula n° 1\n",
            "Aula bio: Piso 0, Aula n° 2\n",
            "Aula sac: Piso 1, Aula n° 0\n",
            "Aula tic: Piso 1, Aula n° 1\n",
            "30\n",
            "[[None None None]\n",
            " [None None None]\n",
            " [None None None]]\n"
          ]
        }
      ]
    }
  ]
}