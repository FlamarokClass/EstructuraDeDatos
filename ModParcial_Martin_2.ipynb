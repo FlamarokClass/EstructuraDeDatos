{
  "nbformat": 4,
  "nbformat_minor": 0,
  "metadata": {
    "colab": {
      "provenance": [],
      "authorship_tag": "ABX9TyOgeghHm3QeXjWEtuPSr8JX",
      "include_colab_link": true
    },
    "kernelspec": {
      "name": "python3",
      "display_name": "Python 3"
    },
    "language_info": {
      "name": "python"
    }
  },
  "cells": [
    {
      "cell_type": "markdown",
      "metadata": {
        "id": "view-in-github",
        "colab_type": "text"
      },
      "source": [
        "<a href=\"https://colab.research.google.com/github/FlamarokClass/EstructuraDeDatos/blob/master/ModParcial_Martin_2.ipynb\" target=\"_parent\"><img src=\"https://colab.research.google.com/assets/colab-badge.svg\" alt=\"Open In Colab\"/></a>"
      ]
    },
    {
      "cell_type": "markdown",
      "source": [
        "# ***Ejercicio 1***\n",
        "Escribir la función cantidadPrimos(arreglo), que retorna la cantidad de números primos que forman parte de un arreglo. Las soluciones que NO sean recursivas no serán tomadas en cuenta.\n",
        "Por ejemplo:\n",
        "Si arr1 = [5, 10, 9, 8, 13, 21] => cantidadPrimos(arr1) = 2\n",
        "Ayuda: Se puede asumir que ya se tiene la función esPrimo(n) que devuelve verdadero cuando n es primo.\n"
      ],
      "metadata": {
        "id": "mW1spTJYJGkK"
      }
    },
    {
      "cell_type": "code",
      "execution_count": null,
      "metadata": {
        "id": "Hs00jkCSI-sZ"
      },
      "outputs": [],
      "source": [
        "import numpy as np\n",
        "def cantidadPrimos(arreglo : np.array , nPrimos = 0) -> int:\n",
        "  longitud = len(arreglo)\n",
        "  if longitud == 1:\n",
        "    if esPrimo(arreglo[0]):\n",
        "      nPrimos +=1\n",
        "  else:\n",
        "    if esPrimo(arrlego[0]):\n",
        "      nPrimos += 1\n",
        "    nPrimos += cantidadPrimos(arrlego[1:], nPrimos)\n",
        "  return nPrimos\n"
      ]
    },
    {
      "cell_type": "markdown",
      "source": [],
      "metadata": {
        "id": "DuGs04OeLI63"
      }
    }
  ]
}