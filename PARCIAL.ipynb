{
  "nbformat": 4,
  "nbformat_minor": 0,
  "metadata": {
    "colab": {
      "provenance": [],
      "authorship_tag": "ABX9TyOX0+S6foDsEe9K36pao4Cq",
      "include_colab_link": true
    },
    "kernelspec": {
      "name": "python3",
      "display_name": "Python 3"
    },
    "language_info": {
      "name": "python"
    }
  },
  "cells": [
    {
      "cell_type": "markdown",
      "metadata": {
        "id": "view-in-github",
        "colab_type": "text"
      },
      "source": [
        "<a href=\"https://colab.research.google.com/github/FlamarokClass/EstructuraDeDatos/blob/master/PARCIAL.ipynb\" target=\"_parent\"><img src=\"https://colab.research.google.com/assets/colab-badge.svg\" alt=\"Open In Colab\"/></a>"
      ]
    },
    {
      "cell_type": "code",
      "execution_count": null,
      "metadata": {
        "id": "x7RcVX_T_kuD"
      },
      "outputs": [],
      "source": [
        "#Operador potencia: 5**2\n",
        "#Operador // division\n",
        "#Operador % resto de division\n",
        "#Operador / division desimal\n",
        "\n",
        "#CASTEO + INPUT\n",
        "pedirTemp = float(input(\"Ingrese una  temperatura en grados Celsius \"))\n",
        "\n",
        "nombreCompleto = input(\"Indique su nombre completo: \")\n",
        "print(nombreCompleto.upper()) # FRANCO ANDERSON\n",
        "print(nombreCompleto.lower())  #franco anderson\n",
        "print(nombreCompleto.capitalize()) # Franco anderson\n",
        "print(nombreCompleto.title()) # Franco Anderson\n",
        "#replace\n",
        "#len(string)\n",
        "\n",
        "if numero % 2 == 0:\n",
        "  print(str(numero) + \" es par\")\n",
        "elif numero % 2 == 1:\n",
        "  print(str(numero) + \" es impar\")"
      ]
    },
    {
      "cell_type": "markdown",
      "source": [
        "# **FOR**"
      ],
      "metadata": {
        "id": "ASpKPbhGbDEz"
      }
    },
    {
      "cell_type": "code",
      "source": [
        "#range(inicio, fin, paso)\n",
        "#range(0,N,1) = range(N)\n",
        "#range(2,9,2) -> 2,4,6,8\n",
        "for var2 in range(5): #0,1,2,3,4\n",
        "  print(var2)\n",
        "  print(\"hola\")\n",
        "  print(\"chau\")\n",
        "#afuera del for"
      ],
      "metadata": {
        "id": "A06PEltYbFlp"
      },
      "execution_count": null,
      "outputs": []
    },
    {
      "cell_type": "markdown",
      "source": [
        "# **WHILE**"
      ],
      "metadata": {
        "id": "nLQEXA8jbH5S"
      }
    },
    {
      "cell_type": "code",
      "source": [
        "varCondicion = 0\n",
        "dato = 1\n",
        "while varCondicion < 100:\n",
        "  print(dato)\n",
        "  varCondicion += 1\n",
        "  dato +=1\n",
        "\n"
      ],
      "metadata": {
        "id": "8624obWtbJsp"
      },
      "execution_count": null,
      "outputs": []
    },
    {
      "cell_type": "markdown",
      "source": [
        "# **Procedimiento**"
      ],
      "metadata": {
        "id": "Dw2lvwVLb5Sq"
      }
    },
    {
      "cell_type": "code",
      "source": [
        "def procedimiento():\n",
        "  print(\"Hola mundo!\")\n",
        "\n",
        "procedimiento()"
      ],
      "metadata": {
        "id": "CaDNuqX1b8Gy"
      },
      "execution_count": null,
      "outputs": []
    },
    {
      "cell_type": "markdown",
      "source": [
        "# **Funcion**\n",
        "Los valores pasados por parametros salen modificados"
      ],
      "metadata": {
        "id": "ows44KmhcCvq"
      }
    },
    {
      "cell_type": "code",
      "source": [
        "def imprimirSaludo():\n",
        "  nombre = input(\"Indique Su nombre: \")\n",
        "  mensaje = print(\"Hola \" + nombre.capitalize() +\" !!!\")\n",
        "  return\n",
        "\n",
        "n= imprimirSaludo()\n",
        "\n",
        "###########################################################################################\n",
        "def mayor():\n",
        "  condicion = 0\n",
        "  resultado = 0\n",
        "  while condicion != 10:\n",
        "    numero = int(input(\"Indique un valor entero positivo: \"))\n",
        "    condicion += 1\n",
        "    if numero <= resultado:\n",
        "      resultado = resultado\n",
        "    elif numero >= resultado :\n",
        "      resultado = numero\n",
        "  return resultado\n",
        "\n",
        "## 2da Manera con for\n",
        "\n",
        "def maximo(num1,num2):\n",
        "  maxNum = 0\n",
        "  if num1 > num2:\n",
        "    maxNum = num1\n",
        "  else: maxNum = num2\n",
        "\n",
        "\n",
        "mayor = None\n",
        "\n",
        "for i in range(10):\n",
        "  numero = float(input(f\"Instroduce el número {i + 1 }: \"))\n",
        "  if mayor is None : # Primer numero ingresado\n",
        "    mayor = numero\n",
        "  else:\n",
        "    mayor = maximo(mayor, numero)\n",
        "\n",
        "\n",
        "n = mayor()\n",
        "\n",
        "###########################################################################################\n",
        "\n",
        "def areaCirculo(radio):\n",
        "  calculo = 3.1416 * radio**2\n",
        "  return calculo\n",
        "\n",
        "def volumenCilindro(radio, altura):\n",
        "  calculo = areaCirculo(radio) * altura\n",
        "  return calculo\n",
        "\n",
        "volumen = volumenCilindro(4,6)\n",
        "print(f\"el Volumen del cilindro es: {volumen}\")\n",
        "\n",
        "\n",
        "####################################################################################\n",
        "\n",
        "def notas(primera,segunda,tercera):\n",
        "  resultado = (primera + segunda + tercera) / 3\n",
        "  if resultado >= 7:\n",
        "    mensaje = \"APROBADO\"\n",
        "  else: mensaje = \"DESAPROBADO\"\n",
        "  return mensaje\n",
        "\n",
        "nota = notas(4,4,6)\n",
        "print(f\"La Nota final es: {nota}\")\n",
        "\n",
        "##################################################################################\n",
        "def esBiciesto(unAnio):\n",
        "  resultado = False\n",
        "  if (unAnio % 4 == 0 and unAnio % 100 != 0 or unAnio % 400 == 0):\n",
        "      resultado = True\n",
        "  else: resultado\n",
        "  return resultado\n",
        "\n",
        "anioUno= int(input(\"Indique un año: \"))\n",
        "anioDos= int(input(\"Indique otro año: \"))\n",
        "\n",
        "def cantidadDeBiciestos(primerAnio, segundoAnio):\n",
        "  contador = 0\n",
        "  for i in range(primerAnio,segundoAnio):\n",
        "    if (esBiciesto(i) == True):\n",
        "      contador += 1\n",
        "  return contador\n",
        "\n",
        "print(cantidadDeBiciestos(anioUno, anioDos))\n",
        "\n",
        "##################################################################################\n",
        "\n",
        "def cantidadDigitos(numero:int)->int:\n",
        "  cantCifras = 0\n",
        "  while numero!=0:\n",
        "    numero //= 10\n",
        "    cantCifras += 1\n",
        "  return cantCifras\n",
        "#3445//10 = 344\n",
        "#3445%10 = 5\n",
        "def sumaDigitos(numero:int)->int:\n",
        "  sumaDeDigitos = 0\n",
        "  while numero!=0:\n",
        "    #print(numero)\n",
        "    #print(numero//10)\n",
        "    #print(numero%10)\n",
        "    sumaDeDigitos += numero%10\n",
        "    numero //= 10\n",
        "  return sumaDeDigitos\n",
        "\n",
        "#################################################################################"
      ],
      "metadata": {
        "id": "h73m6UqrcE96"
      },
      "execution_count": null,
      "outputs": []
    },
    {
      "cell_type": "markdown",
      "source": [
        "# **TDA**"
      ],
      "metadata": {
        "id": "9Atmf_MugNtJ"
      }
    },
    {
      "cell_type": "markdown",
      "metadata": {
        "id": "cwvo5HlCXnwM"
      },
      "source": [
        "**En cada ejercicio, luego de implementar el TDA pedido, tienen que probar cada una de las operaciones en un programa principal, ejecutando cada una de ellas**\n",
        "\n",
        "**En el video les comenté de la función \\_\\_str__ para la representación de variables de los TDAs, en lugar de \\_\\_str__ pueden implementar \\_\\_repr__ que es similar pero más general (No solo sirve para el *print*, sino para la representación en general de variables del TDA)**\n"
      ]
    },
    {
      "cell_type": "code",
      "source": [
        "def validarTipo2(variable, nombre, tipo, condicion = True):\n",
        "  if isinstance(variable, tipo) and condicion:\n",
        "    return variable\n",
        "  else:\n",
        "    raise Exception(\"La variable \" + nombre + \" debe ser de tipo \" + str(tipo) + \". o falla la condicion \"  )\n",
        "\n",
        "def validarTipo(variable, nombre, tipo):\n",
        "  if isinstance(variable, tipo):\n",
        "    return variable\n",
        "  else:\n",
        "    raise Exception(\"La variable \" + nombre + \" debe ser de tipo \" + str(tipo) + \".\")\n",
        "\n",
        "def validarAño(año):\n",
        "  if validarTipo(año, \"año\", int) and año >= 1870:\n",
        "    return año\n",
        "  else:\n",
        "    raise Exception(\"Año incorrecto\")\n",
        "\n",
        "\n",
        "def validarAltura(altura):\n",
        "  if validarTipo(altura, \"altura\", float) and altura > 0:\n",
        "    return altura\n",
        "  else:\n",
        "    raise Exception(\"Altura incorrecta\")\n"
      ],
      "metadata": {
        "id": "Zw0Z6fHghB1P"
      },
      "execution_count": null,
      "outputs": []
    },
    {
      "cell_type": "code",
      "source": [
        "#TDA Auto\n",
        "#cantPuertas -> int\n",
        "#Marca -> str\n",
        "#Modelo -> str\n",
        "#cilindrada -> float\n",
        "\n",
        "class Auto:\n",
        "  def __init__(self, cantPuertas:int, marca:str, modelo:str, cilindrada:float):\n",
        "    self.__cantidadPuertas = cantPuertas\n",
        "    self.__marca = marca\n",
        "    self.__modelo = modelo\n",
        "    self.__cilindrada = cilindrada\n",
        "\n",
        "  def __repr__(self):\n",
        "    return f\"{self.__marca}({self.__modelo})\"\n",
        "\n",
        "  def esIneficiente(self, cilLimite:float)->bool:\n",
        "    return self.__cilindrada >= cilLimite\n",
        "\n",
        "  def setMarca(self, marcaNueva:str):\n",
        "    self.__marca = marcaNueva"
      ],
      "metadata": {
        "id": "sEit5lNGvaLO"
      },
      "execution_count": null,
      "outputs": []
    },
    {
      "cell_type": "code",
      "source": [
        "auto1 = Auto(5,\"VW\",\"gol\",1.8)\n",
        "print(auto1)\n"
      ],
      "metadata": {
        "colab": {
          "base_uri": "https://localhost:8080/"
        },
        "id": "1JGx8Zyf-8Lk",
        "outputId": "f7365922-8b95-458e-83a2-41054ee2e434"
      },
      "execution_count": null,
      "outputs": [
        {
          "output_type": "stream",
          "name": "stdout",
          "text": [
            "VW(gol)\n"
          ]
        }
      ]
    },
    {
      "cell_type": "code",
      "source": [
        "auto1 = Auto(5,\"VW\",\"gol\",1.8)\n",
        "print(auto1)\n",
        "print(Auto.esIneficiente(auto1,1.5))\n",
        "print(auto1.esIneficiente(1.5))\n",
        "auto1.setMarca(\"Ford\")\n",
        "print(auto1)"
      ],
      "metadata": {
        "colab": {
          "base_uri": "https://localhost:8080/"
        },
        "id": "cm3McJk3wLjr",
        "outputId": "6c8ef87a-d3dc-4027-80dc-08fdeccb7028"
      },
      "execution_count": null,
      "outputs": [
        {
          "output_type": "stream",
          "name": "stdout",
          "text": [
            "VW(gol)\n",
            "True\n",
            "True\n",
            "Ford(gol)\n"
          ]
        }
      ]
    },
    {
      "cell_type": "code",
      "source": [
        "#TDA como parametro de una funcion\n",
        "def test(auto:Auto):\n",
        "  auto.setMarca(\"Chevrolet\")"
      ],
      "metadata": {
        "id": "DjOOsbt12leQ"
      },
      "execution_count": null,
      "outputs": []
    },
    {
      "cell_type": "code",
      "source": [
        "auto2 = Auto(4,\"Ford\",\"Fiesta\",1.4)\n",
        "print(auto2)\n",
        "test(auto2)\n",
        "print(auto2)"
      ],
      "metadata": {
        "colab": {
          "base_uri": "https://localhost:8080/"
        },
        "id": "mEWYtb5L250V",
        "outputId": "22b27b69-31bb-4771-b3a9-24b678fcbb9f"
      },
      "execution_count": null,
      "outputs": [
        {
          "output_type": "stream",
          "name": "stdout",
          "text": [
            "Ford(Fiesta)\n",
            "Chevrolet(Fiesta)\n"
          ]
        }
      ]
    },
    {
      "cell_type": "code",
      "source": [
        "import copy #deepcopy\n",
        "#Operador de asignacion\n",
        "auto3 = Auto(4,\"Ford\",\"Fiesta\",1.4)\n",
        "auto4 = copy.deepcopy(auto3)\n",
        "print(auto3)\n",
        "print(auto4)\n",
        "auto3.setMarca(\"VW\")\n",
        "print()\n",
        "print(auto3)\n",
        "print(auto4)"
      ],
      "metadata": {
        "colab": {
          "base_uri": "https://localhost:8080/"
        },
        "id": "gW3lxRgk3wgu",
        "outputId": "df24d6ba-8286-4521-c816-afa9df150231"
      },
      "execution_count": null,
      "outputs": [
        {
          "output_type": "stream",
          "name": "stdout",
          "text": [
            "Ford(Fiesta)\n",
            "Ford(Fiesta)\n",
            "\n",
            "VW(Fiesta)\n",
            "Ford(Fiesta)\n"
          ]
        }
      ]
    },
    {
      "cell_type": "code",
      "source": [
        "print(auto3.__marca)"
      ],
      "metadata": {
        "colab": {
          "base_uri": "https://localhost:8080/"
        },
        "id": "nG8tp7bF6ZiZ",
        "outputId": "9a14b888-9257-4dab-dfdd-590988663603"
      },
      "execution_count": null,
      "outputs": [
        {
          "output_type": "stream",
          "name": "stdout",
          "text": [
            "DDD\n"
          ]
        }
      ]
    },
    {
      "cell_type": "code",
      "source": [
        "auto5 = Auto(3,\"Chevrolet\",\"Corsa\",1.4)\n"
      ],
      "metadata": {
        "id": "hbIl8EJSDjuw"
      },
      "execution_count": null,
      "outputs": []
    },
    {
      "cell_type": "markdown",
      "metadata": {
        "id": "DyzOhAhyXPt8"
      },
      "source": [
        "### **Ejercicio 1**\n",
        "\n",
        "Implementar el TDA \"Propiedad\" que modela un inmueble, con una estructura definida por los siguientes componentes:\n",
        "- Calle\n",
        "- Número\n",
        "- Localidad\n",
        "- Año de construcción\n",
        "- Cantidad de ambientes\n",
        "\n",
        "Implementar las siguientes operaciones:\n",
        "- Constructor: Debe incluir las validaciones necesarias, teniendo en cuenta que solo se almacenan propiedades construidas luego de 1870.\n",
        "- \\_\\_repr__: Al usar la función *print* con una variable del tipo propiedad debe mostrar: **'calle' 'numero' ('localidad')**.\n",
        "- mismaLocalidad: Operación que recibe dos propiedades y retorna *True* si estan en la misma localidad y *False* en caso contrario.\n",
        "- mayorNumeración: Operación que recibe dos propiedades y si están en la misma calle, retorna la que posee mayor numeración. Si están calles diferentes debe lanzar una excepción.\n",
        "- calculaImpuestoARBA: Operación que retorna el porcentaje de impuesto inmobiliario de una propiedad, según la siguiente regla:\n",
        " - Propiedades entre 1870 y 1949:\n",
        "   - Entre 1 y 3 ambientes: 5% de impuesto\n",
        "   - Entre 4 y 6 ambientes: 10% de impuesto\n",
        "   - Más de 6 ambientes: 25 % de impuesto\n",
        " - Propiedades desde 1950 hasta la actualidad:\n",
        "   - Entre 1 y 5 ambientes: 5% de impuesto\n",
        "   - Más de 5 ambientes: 35 % de impuesto\n"
      ]
    },
    {
      "cell_type": "code",
      "source": [
        "\n",
        "class Propiedad:\n",
        "  def __init__(self, calle:str, numero:int, localidad:str, anioConstruccion:int, cantAmbientes:int):\n",
        "    self.__calle = calle.lower()\n",
        "    self.__numero = validarTipo2(numero, numero, int, condicion = numero >= 0)\n",
        "    self.__localidad = localidad.lower()\n",
        "    self.__anioConstruccion = anioConstruccion\n",
        "    self.__cantAmbientes = validarTipo2(cantAmbientes, cantAmbientes, int, condicion = cantAmbientes >= 0)\n",
        "\n",
        "  def __repr__(self):\n",
        "    return f\"{self.__calle} {self.__numero} ({self.__localidad})\"\n",
        "\n",
        "  def mismaLocalidad(propiedadUno, propiedadDos) -> bool:\n",
        "    respuesta = None\n",
        "    if (propiedadUno.__localidad == propiedadDos.__localidad):\n",
        "      respuesta = True\n",
        "    else: respuesta = False\n",
        "    return respuesta\n",
        "\n",
        "  def mayorNumeracion(propiedadUno, propiedadDos) -> str:\n",
        "    respuesta = None\n",
        "    if (propiedadUno.__numero < propiedadDos.__numero and propiedadUno.__calle == propiedadDos.__calle):\n",
        "      respuesta = propiedadDos\n",
        "    elif(propiedadUno.__numero > propiedadDos.__numero and propiedadUno.__calle == propiedadDos.__calle):\n",
        "      respuesta = propiedadUno\n",
        "    else: raise Exception(\"Calle incorrecta\")\n",
        "    return respuesta\n",
        "\n",
        "\n",
        "  def calculaImpuestoARBA(propiedad) -> float:\n",
        "    respuesta = 0.0\n",
        "    if (propiedad.__anioConstruccion > 1870 and propiedad.__anioConstruccion < 1949):\n",
        "      if(propiedad.__cantAmbientes >= 1 and propiedad.__cantAmbientes<= 3):\n",
        "        respuesta = 1.05\n",
        "      elif(propiedad.__cantAmbientes >= 4 and propiedad.__cantAmbientes < 6):\n",
        "        respuesta = 1.10\n",
        "      elif(propiedad.__cantAmbientes >= 6):\n",
        "        respuesta = 1.25\n",
        "    elif(propiedad.__anioConstruccion > 1950):\n",
        "      if(propiedad.__cantAmbientes >= 1 and propiedad.__cantAmbientes <= 5):\n",
        "        respuesta = 1.05\n",
        "      elif(propiedad.__cantAmbientes > 5):\n",
        "        respuesta = 1.35\n",
        "    return respuesta\n",
        "\n",
        "casa = Propiedad(\"Origone\", 370, \"Villa Tesei\", 1880, 6)\n",
        "\n",
        "casa2 = Propiedad(\"Origone\", 380, \"Villa Tesei\", 1990, 5)\n",
        "\n",
        "\n",
        "print(casa)\n",
        "print(Propiedad.mayorNumeracion(casa,casa2))\n",
        "print(Propiedad.calculaImpuestoARBA(casa))"
      ],
      "metadata": {
        "id": "B36ozYCBE64s",
        "colab": {
          "base_uri": "https://localhost:8080/"
        },
        "outputId": "e99dbfc2-6b79-4161-f612-a3b6899f81aa"
      },
      "execution_count": null,
      "outputs": [
        {
          "output_type": "stream",
          "name": "stdout",
          "text": [
            "origone 370 (villa tesei)\n",
            "origone 380 (villa tesei)\n",
            "1.25\n"
          ]
        }
      ]
    },
    {
      "cell_type": "markdown",
      "metadata": {
        "id": "rP1dZEXTe-qq"
      },
      "source": [
        "### **Ejercicio 2**\n",
        "\n",
        "Implementar el TDA \"Cuenta\" que modela una cuenta bancaria, la estructura de datos esta compuesta por los siguientes componentes:\n",
        "- Número de cuenta\n",
        "- DNI del titular\n",
        "- Saldo de cuenta actual\n",
        "- Interés anual\n",
        "\n",
        "Implementar las siguientes operaciones:\n",
        "- Constructor: Debe incluir las validaciones necesarias.\n",
        "- \\_\\_repr__: Al usar la función *print* con una variable del tipo cuenta debe mostrar: **Cuenta Nro: 'numero' - Titular: 'dni' ($'saldo')**.\n",
        "- actualizarSaldo: Operación que actualiza el saldo de la cuenta aplicándole el interés diario (interés anual dividido entre 365).\n",
        "- ingresarDinero: Operación que recibe un número e ingresa esa cantidad en la cuenta.\n",
        "- retirarDinero: Operación que recibe un número y extrae esa cantidad de la cuenta (si hay saldo disponible), sino debe lanzar una excepción."
      ]
    },
    {
      "cell_type": "code",
      "metadata": {
        "id": "IEDFppP6hENW",
        "colab": {
          "base_uri": "https://localhost:8080/"
        },
        "outputId": "f51d95f9-b6e2-43a2-88a0-71b8b9433219"
      },
      "source": [
        "class Cuenta:\n",
        "  def __init__(self, numeroCuenta:int, dniTitular:int, saldoActual:float, interesAnual:float):\n",
        "    self.__numeroCuenta = validarTipo(numeroCuenta, numeroCuenta, int)\n",
        "    self.__dniTitular =  validarTipo2(dniTitular, dniTitular, int, condicion = dniTitular > 0)\n",
        "    self.__saldoActual = saldoActual\n",
        "    self.__interesAnual = interesAnual\n",
        "\n",
        "  def __repr__(self):\n",
        "    return f\"Cuenta Nro: {self.__numeroCuenta} - Titular: {self.__dniTitular} (${self.__saldoActual})\"\n",
        "\n",
        "  def actualizarSaldo(self) -> float:\n",
        "    self.__saldoActual += (self.__interesAnual / 360)\n",
        "\n",
        "  def ingresarDinero(self, cantidadDinero:float)-> float:\n",
        "    self.__saldoActual +=  cantidadDinero\n",
        "\n",
        "\n",
        "  def retirarDinero(self, cantidadDinero:float) -> float:\n",
        "    if(self.__saldoActual >= cantidadDinero):\n",
        "      self.__saldoActual -= cantidadDinero\n",
        "    else: raise Exception(\"Saldo no disponible\")\n",
        "\n",
        "  def getSaldo(self) -> int:\n",
        "    return self.__saldoActual\n",
        "\n",
        "cuenta1= Cuenta(123456, 40768233, 140.0, 1.10)\n",
        "cuenta1.actualizarSaldo()\n",
        "cuenta1.ingresarDinero(130.0)\n",
        "cuenta1.retirarDinero(110.0)\n",
        "\n",
        "cuenta1.getSaldo()"
      ],
      "execution_count": null,
      "outputs": [
        {
          "output_type": "execute_result",
          "data": {
            "text/plain": [
              "160.00305555555553"
            ]
          },
          "metadata": {},
          "execution_count": 102
        }
      ]
    },
    {
      "cell_type": "markdown",
      "metadata": {
        "id": "x8DVU8HlhE2q"
      },
      "source": [
        "### **Ejercicio 3**\n",
        "\n",
        "Implementar el TDA \"Tiempo\" que modela una duracion en horas, minutos y segundos.\n",
        "\n",
        "Se deben implementar las siguientes operaciones:\n",
        "- Constructor: Debe incluir las validaciones necesarias, la hora debe ser un número positivo y los minutos y segundos deben ser números positivos entre 0 y 59.\n",
        "- \\_\\_repr__: Al usar la función *print* con una variable del tipo tiempo debe mostrar: **'horas':'minutos':'segundos'**.\n",
        "- tiempoASegundos: Operación que toma una variable de tipo tiempo y retorna la cantidad en segundos.\n",
        "- tiemposDesdeSegundos: Operación que recibe un tiempo en segundos como parámetro y retorna una variable de tipo tiempo, en horas minutos y segundos.\n",
        "- mayorDuracion: Operación que recibe dos variables de tipo tiempo y retorna la de mayor duración."
      ]
    },
    {
      "cell_type": "code",
      "source": [
        "class Tiempo:\n",
        "  def __init__(self, horas:int, minutos:int, segundos:int):\n",
        "    self.__horas= validarTipo2(horas, horas, int, condicion = (horas <= 24 and horas >= 0))\n",
        "    self.__minutos =  validarTipo2(minutos, minutos, int, condicion = (minutos <= 60 and minutos >= 0))\n",
        "    self.__segundos = validarTipo2(segundos, segundos, int, condicion = (segundos <= 60 and segundos >= 0))\n",
        "\n",
        "  def __repr__(self):\n",
        "    return f\"{self.__horas}:{self.__minutos}:{self.__segundos}\"\n",
        "\n",
        "  def tiempoASegundos(self) -> int:\n",
        "    tiempo = (self.__horas * 3600) + (self.__minutos * 60) + self.__segundos\n",
        "    return tiempo\n",
        "\n",
        "  def tiemposDesdeSegundos(tiempoIndicado) -> int:\n",
        "    horas = tiempoIndicado // 3600\n",
        "    tiempoIndicado %= 3600\n",
        "    minutos = tiempoIndicado // 60\n",
        "    tiempoIndicado %= 60\n",
        "    segundos = tiempoIndicado\n",
        "    return Tiempo(horas, minutos, segundos)\n",
        "\n",
        "  def mayorDuracion(tiempoUno, tiempoDos) -> \"tiempo\":\n",
        "    resultado = None\n",
        "    if(tiempoUno.__horas > tiempoDos.__horas):\n",
        "      resultado = tiempoUno\n",
        "    elif(tiempoUno.__horas == tiempoDos.__horas and tiempoUno.__minutos >= tiempoDos.__minutos):\n",
        "      resultado = tiempoUno\n",
        "    elif(tiempoUno.__minutos >= tiempoDos.__minutos and tiempoUno.__segundos >= tiempoDos.__segundos):\n",
        "      resultado = tiempoUno\n",
        "    else: resultado = tiempoDos\n",
        "    return resultado\n",
        "\n",
        "  def getHoras(self) -> int:\n",
        "    return self.__horas\n",
        "\n",
        "  def getMinutos(self)-> int:\n",
        "    return self.__minutos\n",
        "\n",
        "  def getSegundos(self)-> int:\n",
        "    return self.__segundos\n",
        "\n",
        "horario1 = Tiempo(23,30,28)\n",
        "horario2 = Tiempo(21,35,27)\n",
        "\n",
        "#print(horario1.tiempoASegundos())\n",
        "#print(Tiempo.tiemposDesdeSegundos(88227))\n",
        "\n",
        "\n",
        "print(Tiempo.mayorDuracion(horario1, horario2))"
      ],
      "metadata": {
        "id": "ZtL44I9lI1Lf",
        "colab": {
          "base_uri": "https://localhost:8080/"
        },
        "outputId": "ba6110bc-fcb4-4ebe-e679-546ae5005d3b"
      },
      "execution_count": null,
      "outputs": [
        {
          "output_type": "stream",
          "name": "stdout",
          "text": [
            "23:30:28\n"
          ]
        }
      ]
    },
    {
      "cell_type": "markdown",
      "source": [
        "\n",
        "### **Ejercicio 4: TDA en dos niveles**\n",
        "\n",
        "Modelar el TDA \"Cronometro\", que contiene un tiempo inicial y un tiempo final.\n",
        "\n",
        "Se deben implementar las siguientes operaciones:\n",
        "\n",
        "- Constructor: Queremos modelar el tiempo inicial y final con el TDA \"Tiempo\". Se pueden tener dos variables que se inicializaran en otra operación de la interface.\n",
        "- Comenzar: Debe recibir las hs,min y seg iniciales.\n",
        "- Finalizar: Debe recibir las hs,min y seg finales.\n",
        "- TiempoEmpleado: Devuelve una variable de tipo Tiempo con la diferencia entre el tiempo inicial y el final."
      ],
      "metadata": {
        "id": "5gcdaYCShYkt"
      }
    },
    {
      "cell_type": "code",
      "metadata": {
        "id": "5Y-A98mZkTEq",
        "colab": {
          "base_uri": "https://localhost:8080/"
        },
        "outputId": "436e0cc4-ea32-45c9-b07c-710738e3e606"
      },
      "source": [
        "class Cronometro:\n",
        "  def __init__(self, tiempoInicial = Tiempo(0,0,0), tiempoFinal = Tiempo(0,0,0)):\n",
        "    self.__tiempoInicial = Tiempo(0,0,0) # validarTipo(tiempoInicial, \"tiempoInicial\", Tiempo)\n",
        "    self.__tiempoFinal = Tiempo(0,0,0) # validarTipo(tiempoFinal, \"tiempoFinal\", Tiempo)\n",
        "\n",
        "  def __repr__(self):\n",
        "    return f\"Tiempo Inicial: {self.__tiempoInicial} - Tiempo Final: {self.__tiempoFinal}\"\n",
        "\n",
        "  def comenzar(self,hs,min,seg) -> \"tiempo\":\n",
        "    self.__tiempoInicial = Tiempo(hs,min,seg)\n",
        "    return self.__tiempoInicial\n",
        "\n",
        "  def finalizar(self,hs,min,seg)-> \"tiempo\":\n",
        "    self.__tiempoFinal = Tiempo(hs,min,seg)\n",
        "    return self.__tiempoFinal\n",
        "\n",
        "  def tiempoEmpleado(self) -> \"tiempo\":\n",
        "    if(self.__tiempoInicial.getHoras() >= self.__tiempoFinal.getHoras()):\n",
        "      h = self.__tiempoInicial.getHoras() - self.__tiempoFinal.getHoras()\n",
        "    elif(self.__tiempoInicial.getHoras() < self.__tiempoFinal.getHoras()):\n",
        "      h = self.__tiempoFinal.getHoras() - self.__tiempoInicial.getHoras()\n",
        "\n",
        "    if(self.__tiempoInicial.getMinutos() >= self.__tiempoFinal.getMinutos()):\n",
        "      m = self.__tiempoInicial.getMinutos() - self.__tiempoFinal.getMinutos()\n",
        "    elif(self.__tiempoInicial.getMinutos() < self.__tiempoFinal.getMinutos()):\n",
        "      m = self.__tiempoFinal.getMinutos() - self.__tiempoInicial.getMinutos()\n",
        "\n",
        "    if(self.__tiempoInicial.getSegundos() >= self.__tiempoFinal.getSegundos()):\n",
        "      s= self.__tiempoInicial.getSegundos() - self.__tiempoFinal.getSegundos()\n",
        "    elif(self.__tiempoInicial.getSegundos() < self.__tiempoFinal.getSegundos()):\n",
        "      s= self.__tiempoFinal.getSegundos() - self.__tiempoInicial.getSegundos()\n",
        "    resultado = Tiempo(h,m,s)\n",
        "    return resultado\n",
        "\n",
        "cronometro1 = Cronometro()\n",
        "print(cronometro1)\n",
        "cronometro1.comenzar(5,20,55)\n",
        "cronometro1.finalizar(10,30,40)\n",
        "print(cronometro1)\n",
        "print(cronometro1.tiempoEmpleado())\n"
      ],
      "execution_count": null,
      "outputs": [
        {
          "output_type": "stream",
          "name": "stdout",
          "text": [
            "Tiempo Inicial: 0:0:0 - Tiempo Final: 0:0:0\n",
            "Tiempo Inicial: 5:20:55 - Tiempo Final: 10:30:40\n",
            "5:10:15\n"
          ]
        }
      ]
    },
    {
      "cell_type": "markdown",
      "source": [
        "### **Ejercicio 5: TDA en dos niveles**\n",
        "\n",
        "Modelar el TDA \"Rectangulo\" a partir de los dos lados que lo definen.\n",
        "\n",
        "Se deben implementar las siguientes operaciones:\n",
        "\n",
        "- Constructor: Recibe las longitudes de ambos lados\n",
        "- area: calcula y devuelve el area del rectangulo\n",
        "- perimetro: calcula y devuelve el perimetro\n",
        "- \\_\\_repr__ : imprime la longitud de los lados\n",
        "\n",
        "Luego, modelar el TDA \"Cuadrado\" teniendo unicamente como variable interna en la estructura una variable de tipo \"Rectangulo\". El TDA Cuadrado debe tener las mismas operaciones que el TDA Rectangulo.\n",
        "\n",
        "Ayuda:\n",
        "\n",
        "Área(Rectángulo) = lado1 \\* lado2\n",
        "\n",
        "Área(Cuadrado) = lado^2\n",
        "\n",
        "Perímetro(Rectangulo) = 2 \\* lado1 + 2 \\* lado2\n",
        "\n",
        "Perímetro(Cuadrado) = 4 \\* lado"
      ],
      "metadata": {
        "id": "TX3EbDojGmAV"
      }
    },
    {
      "cell_type": "code",
      "source": [
        "class Rectangulo:\n",
        "  def __init__(self, ladoVertical: float, ladoHorizontal: float):\n",
        "    self.__ladoVertical = ladoVertical\n",
        "    self.__ladoHorizontal = ladoHorizontal\n",
        "\n",
        "  def __repr__(self):\n",
        "    return f\"Largo Vertical: {self.__ladoVertical} - Lado Horizontal: {self.__ladoHorizontal}\"\n",
        "\n",
        "  def getLadoVertical(self)-> float:\n",
        "    return self.__ladoVertical\n",
        "\n",
        "  def getLadoHorizontal(self)-> float:\n",
        "    return self.__ladoHorizontal\n",
        "\n",
        "  def area(self)-> float:\n",
        "    return self.__ladoVertical * self.__ladoHorizontal\n",
        "\n",
        "  def perimetro(self)-> float:\n",
        "    return (self.__ladoVertical * 2) + (self.__ladoHorizontal * 2)\n",
        "\n",
        "class Cuadrado:\n",
        "  def __init__(self, lado):\n",
        "    self.__lado = Rectangulo(lado,lado)\n",
        "\n",
        "  def __repr__(self) -> float:\n",
        "    return f\"Largo de sus lados es de: { self.__lado }\"\n",
        "\n",
        "  def area(self) -> float:\n",
        "    return self.__lado.getLadoVertical() * self.__lado.getLadoHorizontal()\n",
        "\n",
        "  def perimetro(self):\n",
        "    return (self.__lado.getLadoVertical() * 2) + (self.__lado.getLadoHorizontal() * 2)\n",
        "\n",
        "cuadrado1 = Cuadrado(5.0)\n",
        "\n",
        "cuadrado1.area()\n",
        "cuadrado1.perimetro()"
      ],
      "metadata": {
        "id": "uPv1DPuRXL6Z",
        "colab": {
          "base_uri": "https://localhost:8080/"
        },
        "outputId": "88c29dd2-9925-48c2-df57-b2e709df0928"
      },
      "execution_count": null,
      "outputs": [
        {
          "output_type": "execute_result",
          "data": {
            "text/plain": [
              "20.0"
            ]
          },
          "metadata": {},
          "execution_count": 42
        }
      ]
    },
    {
      "cell_type": "markdown",
      "metadata": {
        "id": "30rZj5FbkT9T"
      },
      "source": [
        "### **Ejercicio 6**\n",
        "\n",
        "Las plataformas de música online como ***YouTube*** y ***Spotify*** almacenan la información asociada a las canciones en estructuras de datos complejas para hacer las búsquedas de manera eficiente. Para esto se deben modelar las canciones. Implementar el TDA \"Cancion\" con los siguientes componentes:\n",
        "- Nombre\n",
        "- Artista\n",
        "- Duración\n",
        "- Género musical (6 posibles: Rock, Jazz, Blues, Funk, Reggae y Rap).\n",
        "- Año de edición\n",
        "- Número de likes\n",
        "\n",
        "Implementar las siguientes operaciones:\n",
        "- Constructor: Debe incluir las validaciones necesarias.\n",
        "- \\_\\_repr__: Al usar la función *print* con una variable del tipo canción debe mostrar: **'nombre' - 'artista' ('duracion')**.\n",
        "- mayorDuracion: Operación que recibe dos canciones por parámetros y retorna la de mayor duración.\n",
        "- agregaLikes: Operación que recibe un número e incrementa la cantidad de likes de la canción en ese número.\n",
        "- masVotada: Operacion que recibe dos canciones y sin son del mismo artista y del mismo género musical, retorna la que tiene mayor cantidad de likes. En caso contrario debe lanzar una excepción."
      ]
    },
    {
      "cell_type": "code",
      "metadata": {
        "colab": {
          "base_uri": "https://localhost:8080/"
        },
        "outputId": "51746a41-0813-471e-b170-39a7e64f5115",
        "id": "CW-o5ydtjDCn"
      },
      "source": [
        "class Cancion:\n",
        "  def __init__(self, nombre : str, artista : str, duracion : float, genero : str, anio : int, likes : int):\n",
        "    self.__nombre = nombre\n",
        "    self.__artista = artista\n",
        "    self.__duracion = duracion\n",
        "    self.__genero = validarTipo2(genero, genero, str, condicion = genero == \"Rock\" or genero == \"Jazz\" or genero == \"Blues\" or genero == \"Funk\" or genero == \"Reggae\" or genero == \"Rap\").lower()\n",
        "    self.__anio = anio\n",
        "    self.__likes = likes\n",
        "\n",
        "  def __repr__(self):\n",
        "    return f\"{self.__nombre} - { self.__artista} ({self.__duracion})\"\n",
        "\n",
        "  def mayorDuracion(cancionUno, cancionDos) -> \"cancion\":\n",
        "    resultado = None\n",
        "    if cancionUno.__duracion >= cancionDos.__duracion:\n",
        "      resultado =  cancionUno\n",
        "    else: resultado = cancionDos\n",
        "    return resultado\n",
        "\n",
        "  def agregaLikes(self, cantidad):\n",
        "    self.__likes += cantidad\n",
        "    return self.__likes\n",
        "\n",
        "  def getLikes(self):\n",
        "    return self.__likes\n",
        "\n",
        "  def masVotada(cancionUno, cancionDos) -> \"cancion\":\n",
        "    resultado = None\n",
        "    if cancionUno.__artista == cancionDos.__artista and cancionUno.__genero == cancionDos.__genero and cancionUno.__likes >= cancionDos.__likes:\n",
        "      resultado = cancionUno\n",
        "    elif cancionUno.__artista == cancionDos.__artista and cancionUno.__genero == cancionDos.__genero and cancionUno.__likes < cancionDos.__likes:\n",
        "      resultado = cancionDos\n",
        "    else: raise Exception(\"No se puede hacer una comparacion\")\n",
        "    return resultado\n",
        "\n",
        "velvet = Cancion(\"Velvet\", \"Dubliners\", 1.20, \"Rock\", 1997,0)\n",
        "\n",
        "road = Cancion(\"Road\", \"Dubliners\", 1.30, \"Rock\", 2010, 0)\n",
        "\n",
        "road.agregaLikes(10)\n",
        "velvet.agregaLikes(15)\n",
        "\n",
        "print(road.getLikes())\n",
        "print(velvet.getLikes())\n",
        "\n",
        "print(Cancion.mayorDuracion(road,velvet))\n",
        "print(Cancion.masVotada(road,velvet))\n",
        "\n",
        "\n",
        "\n",
        "\n"
      ],
      "execution_count": null,
      "outputs": [
        {
          "output_type": "stream",
          "name": "stdout",
          "text": [
            "10\n",
            "15\n",
            "Road - Dubliners (1.3)\n",
            "Velvet - Dubliners (1.2)\n"
          ]
        }
      ]
    },
    {
      "cell_type": "markdown",
      "metadata": {
        "id": "1yx_0M8PtkmE"
      },
      "source": [
        "### **Ejercicio 7**\n",
        "\n",
        "Implementar el TDA \"Quiniela\" que modela un juego de quiniela con dos números premiados. La estructura contiene:\n",
        "- Primer número premiado\n",
        "- Segundo número premiado\n",
        "- Multiplicador (cuánto se paga por cada peso apostado)\n",
        "\n",
        "Implementar las siguientes operaciones:\n",
        "- Constructor: Debe incluir las validaciones necesarias, teniendo en cuenta que los números que participan se encuentran entre 0 y 999.\n",
        "- \\_\\_repr__: Al usar la función *print* con una variable del tipo quiniela debe mostrar: **Primer número ganador: 'numero' - Segundo número ganador: 'numero' - Paga: 'multiplicador'X**.\n",
        "- esNumeroGanador: Operación que recibe un número por parámetros y retorna *True* si el número resultó ganador o *False* en caso contrario.\n",
        "- importeAPagar: Operación que recibe un número y el monto apostado por parámetros y retorna el importe a pagar si la apuesta es ganadora o 0 en caso contrario. Si el número es el primer premio, se paga 'mutiplicador' por cada peso apostado, si es el segundo premio se paga la mitad. Solo se aceptan apuestas hasta $1000.\n",
        "- premiadosCercanos: Operación que retorna *True* si los números premiados están a menos de 10 números de distancia y *False* en caso contrario.\n",
        "\n",
        "\n"
      ]
    },
    {
      "cell_type": "code",
      "source": [
        "class Quiniela:\n",
        "  def __init__(self, primerNumero:int, segundoNumero: int, multiplicador:int):\n",
        "    if primerNumero >= 0 or segundoNumero < 999:\n",
        "      self.__primerNumero = primerNumero\n",
        "    if segundoNumero >= 0 or segundoNumero < 999:\n",
        "     self.__segundoNumero = segundoNumero\n",
        "    self.__multiplicador = multiplicador\n",
        "\n",
        "  def __repr__(self):\n",
        "    return f\"Primer número ganador: {self.__primerNumero} - Segundo número ganador: {self.__segundoNumero} - Paga: {self.__multiplicador}X.\"\n",
        "\n",
        "  def esNumeroGanador(self, numero)-> bool:\n",
        "    respuesta = None\n",
        "    if(numero == self.__primerNumero or numero == self.__segundoNumero):\n",
        "      respuesta= True\n",
        "    else: respuesta = False\n",
        "    return respuesta\n",
        "\n",
        "  def importeAPagar(self, numero, apuesta) -> int:\n",
        "    respuesta = None\n",
        "    if(numero == self.__primerNumero and apuesta > 0 and apuesta <= 1000):\n",
        "      respuesta= apuesta * self.__multiplicador\n",
        "    elif(numero == self.__segundoNumero and (apuesta > 0 and apuesta <= 1000)):\n",
        "      respuesta = (apuesta * self.__multiplicador) / 2\n",
        "    return respuesta\n",
        "\n",
        "  def premiadosCercanos(self):\n",
        "    respuesta = None\n",
        "    for i in range(self.__primerNumero-1, (self.__primerNumero + 11)):\n",
        "      if(i == self.__segundoNumero):\n",
        "        respuesta = True\n",
        "    for j in reversed(range(self.__primerNumero - 11, self.__primerNumero )):\n",
        "      if(j == self.__segundoNumero):\n",
        "        respuesta = True\n",
        "    if respuesta == None:\n",
        "      respuesta = False\n",
        "    return respuesta\n",
        "\n",
        "\n",
        "\n",
        "juego = Quiniela(90, 100, 4)\n",
        "\n",
        "#print(juego.esNumeroGanador(15))\n",
        "#juego.importeAPagar(50,20)\n",
        "\n",
        "juego.premiadosCercanos()\n",
        "\n"
      ],
      "metadata": {
        "id": "05VjOJFp0UP2",
        "colab": {
          "base_uri": "https://localhost:8080/"
        },
        "outputId": "348ce8f1-297c-4fc1-f810-5a4656b9b6a5"
      },
      "execution_count": null,
      "outputs": [
        {
          "output_type": "execute_result",
          "data": {
            "text/plain": [
              "True"
            ]
          },
          "metadata": {},
          "execution_count": 54
        }
      ]
    },
    {
      "cell_type": "markdown",
      "source": [
        "# **RECURSIVIDAD**"
      ],
      "metadata": {
        "id": "L7SlxDvzgtFJ"
      }
    },
    {
      "cell_type": "markdown",
      "metadata": {
        "id": "xjXgmD3mskbR"
      },
      "source": [
        "### **Ejercicio 1**\n",
        "\n",
        "Implementar una función que calcule el factorial de un número de forma recursiva"
      ]
    },
    {
      "cell_type": "code",
      "source": [
        "def factorial(num):\n",
        "  resultado = 0\n",
        "  if num < 0:\n",
        "    raise Exception(\"No es numero entero\")\n",
        "  if num == 0:\n",
        "    return 1\n",
        "  if num >= 0 :\n",
        "    resultado = num * factorial(num-1)\n",
        "    print(num,resultado)\n",
        "    return resultado\n",
        "\n",
        "print(factorial(5))"
      ],
      "metadata": {
        "id": "8fVp2blSfezs",
        "colab": {
          "base_uri": "https://localhost:8080/"
        },
        "outputId": "14f183a4-a0d7-4878-ed7d-0a46290909ef"
      },
      "execution_count": null,
      "outputs": [
        {
          "output_type": "stream",
          "name": "stdout",
          "text": [
            "1 1\n",
            "2 2\n",
            "3 6\n",
            "4 24\n",
            "5 120\n",
            "120\n"
          ]
        }
      ]
    },
    {
      "cell_type": "markdown",
      "metadata": {
        "id": "oQU_Yv1QuOXm"
      },
      "source": [
        "### **Ejercicio 2**\n",
        "\n",
        "Una canilla de una casa pierde agua de forma que todos los días pierde 2 gotas más que el día anterior. Escribir una función recursiva que calcule cuantas gotas perderá la canilla el día N. El primer día solo perdía dos gotas."
      ]
    },
    {
      "cell_type": "code",
      "metadata": {
        "id": "3QmA2qDGvs2d",
        "colab": {
          "base_uri": "https://localhost:8080/"
        },
        "outputId": "68a54e2f-db7a-4650-eae1-5efad445c72c"
      },
      "source": [
        "def canilla(dias):\n",
        "  if dias < 0:\n",
        "    raise Exception (\"Debe ser un Numero entero\")\n",
        "  resultado = None\n",
        "  elif dias == 1:\n",
        "    return 2\n",
        "  elif dias > 1:\n",
        "    resultado = 2 + canilla(dias-1) # gotas del dia anterior + 2 gotas\n",
        "    print(dias,resultado)\n",
        "    return resultado\n",
        "\n",
        "canilla1 = canilla(6)"
      ],
      "execution_count": null,
      "outputs": [
        {
          "output_type": "stream",
          "name": "stdout",
          "text": [
            "2 4\n",
            "3 6\n",
            "4 8\n",
            "5 10\n",
            "6 12\n"
          ]
        }
      ]
    },
    {
      "cell_type": "markdown",
      "metadata": {
        "id": "mJwO1DVLJ5q2"
      },
      "source": [
        "### **Ejercicio 3**\n",
        "\n",
        "Implementar una función recursiva que calcule los números de la serie de Fibonacci. La función para generar la serie de Fibonacci es la siguiente (donde N es el índice del número en la serie):\n",
        "\n",
        "![alt text](https://matematicasmodernas.com/wp-content/uploads/2014/03/EcuacionF.jpg)\n",
        "\n",
        "Luego escribir un programa que pida un número N (mayor o igual a 0) al usuario e imprima por pantalla los primeros N números de la serie de Fibonacci\n",
        "\n",
        "Sobre la sucesion de Fibonacci: https://www.vix.com/es/btg/curiosidades/4461/que-es-la-sucesion-de-fibonacci\n",
        "\n",
        "\n"
      ]
    },
    {
      "cell_type": "code",
      "metadata": {
        "id": "Hg30Eej9pP3Q",
        "colab": {
          "base_uri": "https://localhost:8080/"
        },
        "outputId": "8ed46d6a-b71c-4bf0-b1ad-3aac4ded9975"
      },
      "source": [
        "def fibo(numero):\n",
        "  resultado = 0\n",
        "  if numero == 0:\n",
        "    return 0\n",
        "  elif numero == 1:\n",
        "    return 1\n",
        "  elif numero > 1 :\n",
        "    resultado = fibo(numero-1) + fibo(numero-2) # ACA SI HAY UNA SUMATORIA\n",
        "    print(numero, resultado)\n",
        "    return resultado\n",
        "\n",
        "\n",
        "fibo1= fibo(7)"
      ],
      "execution_count": null,
      "outputs": [
        {
          "output_type": "stream",
          "name": "stdout",
          "text": [
            "2 1\n",
            "3 2\n",
            "2 1\n",
            "4 3\n",
            "2 1\n",
            "3 2\n",
            "5 5\n",
            "2 1\n",
            "3 2\n",
            "2 1\n",
            "4 3\n",
            "6 8\n",
            "2 1\n",
            "3 2\n",
            "2 1\n",
            "4 3\n",
            "2 1\n",
            "3 2\n",
            "5 5\n",
            "7 13\n"
          ]
        }
      ]
    },
    {
      "cell_type": "markdown",
      "metadata": {
        "id": "5LOgT_WupRbE"
      },
      "source": [
        "### **Ejercicio 4**\n",
        "\n",
        "Escribir una función recursiva que calcule el número triangular de índice N. El número triangular de índice N es la suma de todos los números desde 1 hasta N.\n",
        "\n",
        "Algunos ejemplos:\n",
        "\n",
        "*T(1) = 1*\n",
        "\n",
        "*T(2) = 1 + 2*\n",
        "\n",
        "*T(3) = 1 + 2 + 3*\n",
        "\n",
        "*T(4) = 1 + 2 + 3 + 4*\n",
        "\n",
        "*T(5) = 1 + 2 + 3 + 4 + 5*\n",
        "\n",
        "...\n",
        "\n",
        "*T(N) = 1 + 2 + 3 + 4 + ... + N*"
      ]
    },
    {
      "cell_type": "code",
      "metadata": {
        "id": "553FmJ6pqii-",
        "colab": {
          "base_uri": "https://localhost:8080/"
        },
        "outputId": "77a992c3-5539-490c-c291-b574ecadd52d"
      },
      "source": [
        "#T(N) = N + T(N-1)\n",
        "\n",
        "def calcularNumeroTriangular(numero):\n",
        "  calculo = 0\n",
        "  if(numero < 0):\n",
        "    raise Exception(\"No se puede\")\n",
        "  elif(numero == 1):\n",
        "    return 1\n",
        "  elif(numero > 1):\n",
        "    calculo = numero + calcularNumeroTriangular(numero-1) # la variable almacena la suma de todos los numeros desde 1 a numero\n",
        "    print(numero,calculo)\n",
        "    return calculo\n",
        "\n",
        "triangulo = calcularNumeroTriangular(4)"
      ],
      "execution_count": null,
      "outputs": [
        {
          "output_type": "stream",
          "name": "stdout",
          "text": [
            "2 3\n",
            "3 6\n",
            "4 10\n"
          ]
        }
      ]
    },
    {
      "cell_type": "markdown",
      "metadata": {
        "id": "7JAbyL8nqjZW"
      },
      "source": [
        "### **Ejercicio 5**\n",
        "\n",
        "En las redes sociales se produce una continua interacción y cada vez que un usuario realiza una acción, la comunidad se modifica. Suponiendo que un *influencer* que usa ***Instagram*** cada vez que postea algo, aumenta su cantidad de seguidores según la siguiente regla:\n",
        "- Durante los primeros 20 posteos, siempre suma una cantidad fija de 1000 (mil) seguidores en cada uno.\n",
        "- A partir del posteo 21, la cantidad de seguidores duplica la cantidad previa de seguidores, mas  500 seguidores extra.\n",
        "\n",
        "Implementar una función recursiva que permita saber cuantos seguidores tendra el *Instagramer* luego de una cantidad determinada de posteos."
      ]
    },
    {
      "cell_type": "code",
      "metadata": {
        "id": "5SdJZdQorUIb",
        "colab": {
          "base_uri": "https://localhost:8080/"
        },
        "outputId": "a5b762be-dae8-4d87-8c9a-b516e314b881"
      },
      "source": [
        "def validarPositivo(n):\n",
        "  if n < 0:\n",
        "    raise Exception(\"Numero negatico\")\n",
        "\n",
        "def seguidores(post):\n",
        "  calculo = 0\n",
        "  if(post == 0):   # 1 CASO BASE\n",
        "    return 0\n",
        "  elif(post == 1): # 2DO CASO BASE\n",
        "    return 1000\n",
        "  elif(1 < post <= 20):\n",
        "    calculo = 1000 + seguidores(post-1)\n",
        "    return calculo\n",
        "  elif(post >= 21):\n",
        "    calculo = 2* seguidores(post-1) +500\n",
        "    print(calculo,post)\n",
        "    return calculo\n",
        "\n",
        "\n",
        "cacho= seguidores(25)"
      ],
      "execution_count": null,
      "outputs": [
        {
          "output_type": "stream",
          "name": "stdout",
          "text": [
            "40500 21\n",
            "81500 22\n",
            "163500 23\n",
            "327500 24\n",
            "655500 25\n"
          ]
        }
      ]
    },
    {
      "cell_type": "markdown",
      "metadata": {
        "id": "-u_y1o2XrUpw"
      },
      "source": [
        "### **Ejercicio 6**\n",
        "\n",
        "Un equipo de albañiles de una obra, tiene que planificar la colocación de pisos. Dicha tarea se realiza teniendo algunas consideraciones específicas, que tienen que ver con el corte de las baldosas, con el material de pegado y la cantidad de trabajadores que hay en cada momento. En el arranque, el día uno (1), los albañiles colocan siempre 100 baldosas.\n",
        "Luego, la cantidad que se coloca cada día se organiza de esta manera:\n",
        "- Los días pares se colocan el doble de baldosas del día anterior.\n",
        "- Los días impares (salvo el primer día) se coloca una cantidad igual a la suma de las que se colocaron los 2 dias anteriores.\n",
        "\n",
        "Implementar una función que permita saber la cantidad de baldosas que se colocan un día determinado."
      ]
    },
    {
      "cell_type": "code",
      "metadata": {
        "id": "1Vek6PTrse-p",
        "colab": {
          "base_uri": "https://localhost:8080/"
        },
        "outputId": "f70d1080-4c97-4bd0-e4be-cc98003cf8aa"
      },
      "source": [
        "# Recomendacion hacer 1ro la funcion que calcula la cant de baldosas para un dia determinado luego hacer otra fucion, que utlice la 1ra\n",
        "\n",
        "def colocacion(dias): #cantidad en un dia determinado\n",
        "  calculo = 0\n",
        "  if(dias == 1):\n",
        "    return 1000\n",
        "  elif(dias % 2 == 0): #dias pares\n",
        "    calculo = 2 * colocacion(dias-1)\n",
        "    return calculo\n",
        "  elif(dias %2 == 1 and dias != 1):\n",
        "    calculo = colocacion(dias-1) + colocacion(dias-2)\n",
        "    print(dias, calculo)\n",
        "    return calculo\n",
        "\n",
        "def acumBaldozas(n): # ACUMULADOR (formatos similares para todos los acum)\n",
        "  if n == 1 :\n",
        "    return colocacion(1)\n",
        "  else: colocacion(n) + acumBaldozas(n-1) #\n",
        "\n",
        "edificio1= colocacion(4)\n",
        "print(edificio1)"
      ],
      "execution_count": null,
      "outputs": [
        {
          "output_type": "stream",
          "name": "stdout",
          "text": [
            "3 3000\n",
            "6000\n"
          ]
        }
      ]
    },
    {
      "cell_type": "markdown",
      "metadata": {
        "id": "EVmZea0Cselk"
      },
      "source": [
        "### **Ejercicio 7**\n",
        "\n",
        "Luego de una lluvia muy grande se acumula gran cantidad de agua en un estanque, durante el primer día, el agua comienza a ponerse de color verde y un grupo de científicos decide medir cuantas algas encuentra dentro del tanque. La primer medición le da como resultado 12 algas. Luego deciden ir a realizar la medición todos los días para tratar de establecer un patrón de crecimiento y se encuentran que las algas crecen con la siguiente regla:\n",
        "- Durante los siguientes 10 días (del dia 2 al 11) la cantidad de algas en el tanque es 15 más de las que había el día anterior.\n",
        "- A partir del día 12, la cantidad de algas en el tanque es el triple de las que había el día previo más una cantidad fija de 100.\n",
        "\n",
        "Escriba una función recursiva que calcule la cantidad de algas en el tanque en un día N.\n",
        "\n",
        "Nota: Suponer que no mueren algas en el tanque."
      ]
    },
    {
      "cell_type": "code",
      "metadata": {
        "id": "30rAj4BTtQMo",
        "colab": {
          "base_uri": "https://localhost:8080/"
        },
        "outputId": "b0f46b74-00e8-4a2d-afb3-4f87f02007d3"
      },
      "source": [
        "def algas(dias):\n",
        "  if(dias == 1):\n",
        "    return 12\n",
        "  if(dias >= 2 and dias <= 11):\n",
        "    calculo = 15 + algas(dias-1)\n",
        "    return calculo\n",
        "  if(dias >= 12):\n",
        "    calculo = 3 * algas(dias-1) + 100\n",
        "    print(dias,calculo)\n",
        "    return calculo\n",
        "\n",
        "tanque1 = algas(5)\n",
        "tanque2 = algas(13)\n",
        "print(tanque1)\n",
        "print(tanque2)"
      ],
      "execution_count": null,
      "outputs": [
        {
          "output_type": "stream",
          "name": "stdout",
          "text": [
            "12 586\n",
            "13 1858\n",
            "72\n",
            "1858\n"
          ]
        }
      ]
    },
    {
      "cell_type": "markdown",
      "metadata": {
        "id": "ahvaeTRS0Gm7"
      },
      "source": [
        "### **Ejercicio 8**\n",
        "\n",
        "Escribir una función recursiva que calcule la potencia N de un número M (M a la N), ambos números enteros positivos.   "
      ]
    },
    {
      "cell_type": "code",
      "metadata": {
        "id": "w9R8zTz_0Pku",
        "colab": {
          "base_uri": "https://localhost:8080/"
        },
        "outputId": "66f91191-a192-442e-8928-daef733d7c31"
      },
      "source": [
        "#M^N = M * M * M * .....* M (N veces) = M * M^(N-1)\n",
        "#Piensen caso base\n",
        "\n",
        "#M² = M*M\n",
        "#M³ = M*M*M\n",
        "#M⁴ = M*M*M*M\n",
        "\n",
        "def potenciacion(base : int, exponente: int):\n",
        "  if(exponente == 0):\n",
        "    return 1\n",
        "  if(exponente == 1):         #CASO BASE\n",
        "    return base\n",
        "  if(exponente >= 2):\n",
        "    calculo = base * potenciacion(base,exponente-1)\n",
        "    print(exponente,calculo)\n",
        "    return calculo\n",
        "\n",
        "potencia1 = potenciacion(2,5)\n",
        "print(potencia1)"
      ],
      "execution_count": null,
      "outputs": [
        {
          "output_type": "stream",
          "name": "stdout",
          "text": [
            "2 4\n",
            "3 8\n",
            "4 16\n",
            "5 32\n",
            "32\n"
          ]
        }
      ]
    },
    {
      "cell_type": "markdown",
      "metadata": {
        "id": "1ahXjm9z0QND"
      },
      "source": [
        "### **Ejercicio 9**\n",
        "\n",
        "Problema del trigo en el tablero de ajedrez:\n",
        "\n",
        "![alt text](https://i0.wp.com/matematicascercanas.com/wp-content/uploads/2015/03/leyenda_ajedrez.jpg?w=600&ssl=1)\n",
        "\n",
        "Si se colocase sobre un tablero de ajedrez, un grano de trigo en el primer casillero, dos en el segundo, cuarto en el tercero y asi sucesivamente, doblando la cantidad de granos en cada casilla ¿Cuantos granos de trigo habría en el tablero en total al final? Resolver el problema con una función recursiva.\n",
        "\n",
        "Leyenda del Trigo y el tablero de ajedrez y mas datos: https://matematicascercanas.com/2014/03/10/la-leyenda-del-tablero-de-ajedrez-y-los-granos-de-trigo/"
      ]
    },
    {
      "cell_type": "code",
      "metadata": {
        "id": "WLUBQcfx1hGE",
        "colab": {
          "base_uri": "https://localhost:8080/"
        },
        "outputId": "ef11ca5a-6daf-45df-c15b-1c88c0cb9cc7"
      },
      "source": [
        "#cantidadGranosEnTablero(cantCasilleros) = cantidadGranosEnCasillero(cantCasilleros) + cantidadGranosEnTablero(cantCasilleros-1)\n",
        "# Acumula los de la operacion anterior.\n",
        "\n",
        "def cantidadDeGranosEnCasillero(cantCasilleros): # resuelve la cantidad de un casillero determinado\n",
        "  if(cantCasilleros == 1):\n",
        "    return 1\n",
        "  if(cantCasilleros >= 2 ):\n",
        "    calculo = 2 * cantidadDeGranosEnCasillero(cantCasilleros-1)\n",
        "    return calculo\n",
        "\n",
        "def cantidadDeGranosEnTablero(cantCasilleros): # acumulador\n",
        "  calculo = 0\n",
        "  if(cantCasilleros == 1):\n",
        "    return 1\n",
        "  else:\n",
        "    calculo = cantidadDeGranosEnCasillero(cantCasilleros) + cantidadGranosEnTablero(cantCasilleros-1)\n",
        "    print(cantCasilleros, calculo)\n",
        "    return calculo\n",
        "\n",
        "tablero = cantidadDeGranosEnTablero(5)\n",
        "print(tablero)"
      ],
      "execution_count": null,
      "outputs": [
        {
          "output_type": "stream",
          "name": "stdout",
          "text": [
            "5 25\n",
            "25\n"
          ]
        }
      ]
    },
    {
      "cell_type": "markdown",
      "metadata": {
        "id": "UcGyejNf1hYo"
      },
      "source": [
        "### **Ejercicio 10**\n",
        "\n",
        "En un edificio alto, las cucarachas se van distribuyendo por pisos de esta forma:\n",
        "- En el primer piso hay una cucaracha\n",
        "- En los pisos pares el doble del número de piso (por ejemplo en el piso 8 hay 16 cucarachas)\n",
        "- El resto de los pisos tienen la suma de las cucarachas de los dos pisos anteriores.\n",
        "\n",
        "Escribir una función recursiva que calcule la cantidad de cucarachas en un edificio en función de la cantidad de pisos."
      ]
    },
    {
      "cell_type": "code",
      "metadata": {
        "id": "l_oaoB0S2_Fa",
        "colab": {
          "base_uri": "https://localhost:8080/"
        },
        "outputId": "5e9e6195-a90d-4cd5-d13f-942264204709"
      },
      "source": [
        "def cucarachasPorPiso(pisos:int):\n",
        "  if(pisos < 0):\n",
        "    raise Exception(\"Debe ser un valor positivo\")\n",
        "  elif(pisos == 0):\n",
        "    return 0\n",
        "  elif(pisos == 1):\n",
        "    return 1\n",
        "  elif (pisos > 1 and pisos % 2 == 0):\n",
        "    calculo = 2 * pisos\n",
        "    return calculo\n",
        "  elif(pisos > 1 and pisos % 2 != 0):\n",
        "    calculo = cucarachasPorPiso(pisos-1) + cucarachasPorPiso(pisos-2)\n",
        "    return calculo\n",
        "\n",
        "def cucarachasEnElEdificio(pisos, cucas): # Acumulador\n",
        "  if(pisos == 0):\n",
        "    totalCucas = cucas\n",
        "  else:\n",
        "    totalCucas= cucarachasEnElEdificio(pisos -1, cucas + cucarachasPorPiso(pisos))\n",
        "\n",
        "piso7= cucarachasPorPiso(7)\n",
        "piso8= cucarachasPorPiso(8)\n",
        "piso9= cucarachasPorPiso(9)\n",
        "print(piso7)\n",
        "print(piso8)\n",
        "print(piso9)"
      ],
      "execution_count": null,
      "outputs": [
        {
          "output_type": "stream",
          "name": "stdout",
          "text": [
            "25\n",
            "16\n",
            "41\n"
          ]
        }
      ]
    },
    {
      "cell_type": "markdown",
      "metadata": {
        "id": "HnGv90m72_dg"
      },
      "source": [
        "### **Ejercicio 11**\n",
        "\n",
        "Escribir la función recursiva repetirPalabra, que recibe como parámetro una palabra (cadena de caracteres) y un número N. La función debe retornar una nueva cadena que contenga la palabra repetida N veces, por ejemplo:\n",
        "\n",
        "*repetirPalabra(\"hola\",3) -> \"holaholahola\"*"
      ]
    },
    {
      "cell_type": "code",
      "metadata": {
        "id": "sLVYYAqz3zX_",
        "colab": {
          "base_uri": "https://localhost:8080/"
        },
        "outputId": "454b06b5-03f9-41f1-9b7d-efc70e6bc569"
      },
      "source": [
        "#repetirPalabra(\"hola\",2) -> \"holahola\"\n",
        "#repetirPalabra(\"hola\",3) -> \"holaholahola\"\n",
        "#repetirPalabra(\"hola\",4) -> \"holaholaholahola\"\n",
        "#....\n",
        "#repetirPalabra(palabra, N) = repetirPalabra(palabra, N-1) + palabra\n",
        "#Pensar el caso base\n",
        "\n",
        "def repetirPalabra(palabra : str,  cantidad : int):\n",
        "  if (cantidad <= 0 ):\n",
        "    raise Exception(\"Debe ser un entero positivo\")\n",
        "  if(cantidad == 1):\n",
        "    return palabra\n",
        "  if(cantidad > 1):\n",
        "    calcular = palabra + repetirPalabra(palabra, cantidad-1)\n",
        "    return calcular\n",
        "\n",
        "mensaje1= repetirPalabra(\"franco\",4)\n",
        "print(mensaje1)"
      ],
      "execution_count": null,
      "outputs": [
        {
          "output_type": "stream",
          "name": "stdout",
          "text": [
            "francofrancofrancofranco\n"
          ]
        }
      ]
    },
    {
      "cell_type": "markdown",
      "metadata": {
        "id": "OuXPsBX64RLT"
      },
      "source": [
        "### **Ejercicio 12**\n",
        "\n",
        "Escribir una función recursiva que calcule el número combinatorio, es decir, las combinaciones de N elementos tomados de a M, usando la siguiente expresión:\n",
        "\n",
        "![numeroCombiantorio.png](https://i.ibb.co/y408VDB/numero-Combiantorio.png)"
      ]
    },
    {
      "cell_type": "code",
      "metadata": {
        "id": "zk-lsLvu4Qwp"
      },
      "source": [
        "def combinartirio(n, m):\n",
        "  if m <= 0 or n<=0 or n< m:\n",
        "    raise Exception\n",
        "  elif (m ==1):\n",
        "    resultado = n\n",
        "  elif m == n:\n",
        "    resultado = 1\n",
        "  else:\n",
        "    resultado = combinartirio(n-1, m-1) + combinartirio(n, m-1)\n",
        "\n"
      ],
      "execution_count": null,
      "outputs": []
    },
    {
      "cell_type": "markdown",
      "source": [
        "# **VECTORES**\n",
        "\n",
        "> Tamaño fijo con todos sus elementos numericos del mismo tipo\n",
        "\n",
        "\n",
        "*    Son unidimensionales\n",
        "\n",
        "*  vector2 = vector1 # nueva refencia a vector 1, pero la posicion en memoria es la misma para eso inicio la variable le indico que tenga el largo del vector1 y le ingreso los datos por iteracion\n",
        "\n",
        "\n",
        "\n"
      ],
      "metadata": {
        "id": "JkQE3pt2hROQ"
      }
    },
    {
      "cell_type": "markdown",
      "source": [
        "## **Declaracion de vectores**"
      ],
      "metadata": {
        "id": "qofK30OIX86e"
      }
    },
    {
      "cell_type": "code",
      "source": [
        "import numpy as np # np hace refencia a numpy\n",
        "\n",
        "vector = np.zeros(10, int) # declaramos un vector de 10 enteros (todos 0)\n",
        "otroVector = np.array([1,2,3,4,5])\n",
        "print(len(vector)) #\"Longitud de vector (cantidad de elementos)\"\n"
      ],
      "metadata": {
        "id": "y7VRPWwXKmnE"
      },
      "execution_count": null,
      "outputs": []
    },
    {
      "cell_type": "markdown",
      "source": [
        "## **Acceso con indices / posiciones**"
      ],
      "metadata": {
        "id": "AYJsM_GolA69"
      }
    },
    {
      "cell_type": "code",
      "source": [
        "vector[0] = 20 # en la posicion 0 le cargamos un 20\n",
        "vector[5] = 10 # en la posicion 5 le cargamos un 10\n",
        " #vector[10] = 58 # la posicion 10 no existe, porque llega hasta 9, deberia de dar un error del 0 al 9 (posiciones) pero son 10 elementos\n",
        "#print(vector[2:6]) # accedemos al elemento utilizando rangos, de 2 hasta 5"
      ],
      "metadata": {
        "id": "u62X8W3Avvkr"
      },
      "execution_count": null,
      "outputs": []
    },
    {
      "cell_type": "markdown",
      "source": [
        "## **Recorridos de vectores**"
      ],
      "metadata": {
        "id": "n8uHAw5FtrZ4"
      }
    },
    {
      "cell_type": "code",
      "source": [
        "import numpy as np\n",
        "\n",
        "vector = np.array([3,5,1,8,14]) # declaramos vector de enteros\n",
        "\n",
        "print(vector)\n",
        "print(\"Recorrido sobre elementos directamente (sentido directo)\")\n",
        "for elemento in vector:\n",
        "  print(elemento)\n",
        "\n",
        "print(\"\\n\", vector)\n",
        "print(\"Recorrido sobre elementos directamente (sentido inverso)\")\n",
        "for elemento in reversed(vector):\n",
        "  print(elemento)\n",
        "\n",
        "print(\"\\n\", vector)\n",
        "print(\"Recorrido usando indices / posiciones (sentido directo)\")\n",
        "for posicion in range(len(vector)): #len de vector es 5, el rango de 0 hasta 4\n",
        "  print(\"Posicion: \", posicion) # imprime el valor de posicion (0,1,2,3,4)\n",
        "  print(vector[posicion]) # imprimi el elemento del vector en esa posicion\n",
        "\n",
        "print(\"\\n\", vector)\n",
        "print(\"Recorrido usando indices / posiciones (sentido inverso)\")\n",
        "for posicion in reversed(range(len(vector))):\n",
        "  print(\"Posicion: \", posicion)\n",
        "  print(vector[posicion])"
      ],
      "metadata": {
        "id": "EsYQwLChtw9l"
      },
      "execution_count": null,
      "outputs": []
    },
    {
      "cell_type": "markdown",
      "source": [
        "## **Arreglos de caracteres y tipo str**"
      ],
      "metadata": {
        "id": "brR8QSkl1rMl"
      }
    },
    {
      "cell_type": "code",
      "source": [
        "import numpy as np\n",
        "\n",
        "########### Arreglos de caracteres ###########\n",
        "print(\"########### Arreglos de caracteres ###########\")\n",
        "\n",
        "cadena = np.array([\"hr\",\"or\",\"l\",\"a\"]) # declaramos arreglo de caracteres\n",
        "\n",
        "print(cadena)\n",
        "cadena [1] = \"f\" # modificamos el elemento en posion 1\n",
        "print(cadena)\n",
        "\n",
        "########### Tipo Str ###########\n",
        "print(\"########### Tipo Str ###########\")\n",
        "\n",
        "cadenaStr = \"hola\"  # declaramos una variable de tipo str\n",
        "\n",
        "print(cadenaStr)\n",
        "print(cadenaStr[0]) # accedemos al elemento en posicion 0, podemos leer\n",
        "\n",
        "#cadenaStr[1] = \"f\" # no me deja ya que es inmutable, no se puede modificar, no se puede escribir"
      ],
      "metadata": {
        "colab": {
          "base_uri": "https://localhost:8080/"
        },
        "id": "tfWd1D3G1zpC",
        "outputId": "41a9e22d-24c4-4472-89e2-286e3642c2a2"
      },
      "execution_count": null,
      "outputs": [
        {
          "output_type": "stream",
          "name": "stdout",
          "text": [
            "########### Arreglos de caracteres ###########\n",
            "['hr' 'or' 'l' 'a']\n",
            "['hr' 'f' 'l' 'a']\n",
            "########### Tipo Str ###########\n",
            "hola\n",
            "h\n"
          ]
        }
      ]
    },
    {
      "cell_type": "markdown",
      "source": [
        "## **Arreglos como parametros de funciones / procedimientos**"
      ],
      "metadata": {
        "id": "GzmV_rBp39Gi"
      }
    },
    {
      "cell_type": "code",
      "source": [
        "import numpy as np\n",
        "\n",
        "def funcionEjemplo(vector): # recibe por parametro un vector\n",
        "  vector[1] = 20 #lo modifica\n",
        "  return\n",
        "\n",
        "v = np.array ([2,5,3,9])\n",
        "\n",
        "print(\"v: \", v)\n",
        "\n",
        "funcionEjemplo(v)\n",
        "\n",
        "print(\"\\nLuego de ejecutar funcionEjemplo\") # paso por referencia, las modificaciones valen afuera de la funcion\n",
        "print(\"v: \", v)"
      ],
      "metadata": {
        "colab": {
          "base_uri": "https://localhost:8080/"
        },
        "id": "KOLo2d0R3-ss",
        "outputId": "f766bd5d-5e8f-44ce-ef66-72a34c014af7"
      },
      "execution_count": null,
      "outputs": [
        {
          "output_type": "stream",
          "name": "stdout",
          "text": [
            "v:  [2 5 3 9]\n",
            "\n",
            "Luego de ejecutar funcionEjemplo\n",
            "v:  [ 2 20  3  9]\n"
          ]
        }
      ]
    },
    {
      "cell_type": "markdown",
      "metadata": {
        "id": "1pwGE5uuosAo"
      },
      "source": [
        "### **Ejercicio 1**\n",
        "\n",
        "Escribir una función que recibe un numero entero N y le pide al usuario que ingrese N numeros. Al final, el programa debe retornar un vector contiendo los números que fueron ingresados. Tambien debe imprimir por pantalla la suma total de los valores y el promedio. Se deben hacer funciones para resolver el promedio y la suma total."
      ]
    },
    {
      "cell_type": "code",
      "execution_count": null,
      "metadata": {
        "id": "sJuWgqpe8Sjx",
        "colab": {
          "base_uri": "https://localhost:8080/"
        },
        "outputId": "d9158369-f4cf-4139-9b1a-1b93a50895d9"
      },
      "outputs": [
        {
          "output_type": "stream",
          "name": "stdout",
          "text": [
            "Ingrese un numero: 1\n",
            "Ingrese un numero: 2\n",
            "Ingrese un numero: 3\n",
            "6\n",
            "2.0\n",
            "[1 2 3]\n"
          ]
        }
      ],
      "source": [
        "import numpy as np\n",
        "def sumaTotal(vector:np.array)->int:\n",
        "  suma = 0 #Inicializo la variable \"suma\" en 0\n",
        "  for valor in vector: #Para cada valor en el vector:\n",
        "    suma += valor #suma será el valor que hay en la variable \"suma\" más el \"valor\" actual que haya tomado del vector\n",
        "  #Suma iterando por las posiciones\n",
        "  #for pos in range(len(vector)):\n",
        "  #  suma += vector[pos]\n",
        "  return suma #Una vez que termine de iterar devolvemos el valor de la variable \"suma\"\n",
        "\n",
        "def promedio(vector:np.array)-> float:\n",
        "  return sumaTotal(vector)/len(vector) #El promedio es la suma de los elementos dividida la cantidad de elementos\n",
        "\n",
        "def ingresarEnteros(N:int)->np.array:\n",
        "  salida = np.zeros(N, int) #Inicializo la salida con un vector de ceros\n",
        "  for pos in range(len(salida)): #0,1,2,3,4,....,N-1 #Obtengo los índices\n",
        "    salida[pos] = int(input(\"Ingrese un numero: \")) #Asigno a cada lugar del vector, un número ingresado por el usuario\n",
        "  print(sumaTotal(salida)) #Retorno el valor de la suma\n",
        "  print(promedio(salida)) #Retorno el valor del promedio\n",
        "  return salida #Retorno el vector ingresado por el usuario\n",
        "\n",
        "v = ingresarEnteros(3)\n",
        "print(v)"
      ]
    },
    {
      "cell_type": "markdown",
      "source": [
        "### **Ejercicio 2**\n",
        "\n",
        "Escribir una función que recibe un vector de strings y retorna otro con los mismos elementos del vector de entrada pero en orden inverso."
      ],
      "metadata": {
        "id": "i_1fkXYBkl2A"
      }
    },
    {
      "cell_type": "code",
      "source": [
        "def invertirArreglo(vector:np.array)->np.array:\n",
        "  vectorInvertido = np.zeros(len(vector), str) #Inicializo un vector de ceros\n",
        "  pos = 0 #Inicializo la variable posición para ir iterando en el vector\n",
        "  for valor in reversed(vector): #Itero los valores en el vector invertido\n",
        "    vectorInvertido[pos] = valor #Asigno a mi vector de ceros, para cada lugar, un valor (tomados invertidos del vector original)\n",
        "    pos += 1 #Incremento mi contador de vector invertido\n",
        "  return vectorInvertido #Retorno el valor invertido\n",
        "\n",
        "palabra = np.array([\"h\",\"o\",\"l\",\"a\",\"c\",\"o\",\"m\",\"o\"])\n",
        "print(palabra)\n",
        "print(invertirArreglo(palabra))"
      ],
      "metadata": {
        "id": "AzSCUv54kmLn",
        "colab": {
          "base_uri": "https://localhost:8080/"
        },
        "outputId": "20b3a3c9-e0f5-4f88-f3ce-64ad113ff76f"
      },
      "execution_count": null,
      "outputs": [
        {
          "output_type": "stream",
          "name": "stdout",
          "text": [
            "['h' 'o' 'l' 'a' 'c' 'o' 'm' 'o']\n",
            "['o' 'm' 'o' 'c' 'a' 'l' 'o' 'h']\n"
          ]
        }
      ]
    },
    {
      "cell_type": "code",
      "source": [
        "\"hola\"[::-1]"
      ],
      "metadata": {
        "colab": {
          "base_uri": "https://localhost:8080/",
          "height": 35
        },
        "id": "xGeSWbWf3TE4",
        "outputId": "a0c082f0-0976-41ac-b1ef-be678c989681"
      },
      "execution_count": null,
      "outputs": [
        {
          "output_type": "execute_result",
          "data": {
            "text/plain": [
              "'aloh'"
            ],
            "application/vnd.google.colaboratory.intrinsic+json": {
              "type": "string"
            }
          },
          "metadata": {},
          "execution_count": 4
        }
      ]
    },
    {
      "cell_type": "code",
      "source": [
        "def stringInversor1(stringVector:np.array)->np.array: #Otra forma de pensarlo es invertir los strings, dentro de un vector\n",
        "  salida = np.zeros(len(stringVector)).astype(str) #Inicializo mi vector de salida con ceros\n",
        "\n",
        "  for i in range(len(stringVector)): #Itero en lo índices del vector de entrada\n",
        "    salida[i] = stringVector[i][::-1] #Cada elemento del vector de entrada es un string, que puedo manipular como un vector. Recorro todos los elementos de atrás para adelante\n",
        "\n",
        "  return salida #Retorno el valor de salida con cada string invertido.\n",
        "\n",
        "misStrings = np.array([\"Hola\" , \"Mundo\" , \"Como\" , \"Estas\"])\n",
        "\n",
        "print(stringInversor1(misStrings))"
      ],
      "metadata": {
        "colab": {
          "base_uri": "https://localhost:8080/"
        },
        "id": "Pizis-dD3UrS",
        "outputId": "9fae85c6-66f7-4dac-af2b-085a92402f60"
      },
      "execution_count": null,
      "outputs": [
        {
          "output_type": "stream",
          "name": "stdout",
          "text": [
            "['aloH' 'odnuM' 'omoC' 'satsE']\n"
          ]
        }
      ]
    },
    {
      "cell_type": "code",
      "source": [
        "def stringInversor2(stringVector:np.array)->np.array: #Otra forma de hacer la versión que vimos antes:\n",
        "  salida = np.zeros(len(stringVector)).astype(str) #Inicializo mi vector de salida en cero\n",
        "\n",
        "  for i in range(len(stringVector)): #Para cada índice en el rango del vector de strings\n",
        "    salida[i] = stringVector[len(stringVector)-(i+1)] #Asignamos a la salida el último elemento: tamaño del vector menos el índice que estamos recorriendo\n",
        "\n",
        "  return salida #Devolvemos la salida\n",
        "\n",
        "print(stringInversor2(misStrings))"
      ],
      "metadata": {
        "colab": {
          "base_uri": "https://localhost:8080/"
        },
        "id": "Il6ovcuo3Ykt",
        "outputId": "9bea3e7f-ee38-4ab8-ee09-d171e8596a67"
      },
      "execution_count": null,
      "outputs": [
        {
          "output_type": "stream",
          "name": "stdout",
          "text": [
            "['Estas' 'Como' 'Mundo' 'Hola']\n"
          ]
        }
      ]
    },
    {
      "cell_type": "markdown",
      "source": [
        "### **Ejercicio 3**\n",
        "\n",
        "Escribir la función sumaDeVectores que recibe dos vectores de enteros del mismo tamaño y retorna otro con la suma de ambos. La suma de vectores se realiza componente a componente, segun la siguiente forma:\n",
        "\n",
        "v<sub>1</sub> = [ v<sub>11</sub> , v<sub>12</sub> , v<sub>13</sub> , ... , v<sub>1N</sub> ]\n",
        "\n",
        "v<sub>2</sub> = [ v<sub>21</sub> , v<sub>22</sub> , v<sub>23</sub> , ... , v<sub>2N</sub> ]\n",
        "\n",
        "v<sub>1</sub> + v<sub>2</sub> = [ v<sub>11</sub> + v<sub>21</sub> , v<sub>12</sub> + v<sub>22</sub> , v<sub>13</sub> + v<sub>23</sub> , ... , v<sub>1N</sub> + v<sub>2N</sub> ]"
      ],
      "metadata": {
        "id": "WAxORLS4lsQn"
      }
    },
    {
      "cell_type": "code",
      "source": [
        "def sumaVectores(v1:np.array, v2:np.array)->np.array:\n",
        "  salida = np.zeros(len(v1), int) #Inicializo mi vector de salida con ceros\n",
        "  for posicion in range(len(salida)): #Itero sobre los índices\n",
        "    salida[posicion] = v1[posicion] + v2[posicion] #A cada posición del vector de salida le asigno la suma de ambos vectores\n",
        "  return salida #Retorno la salida\n",
        "\n",
        "suma = sumaVectores(np.array([2,3,4,5]),np.array([5,1,2,3]))\n",
        "print(suma)"
      ],
      "metadata": {
        "id": "tZRep8aplrwo",
        "colab": {
          "base_uri": "https://localhost:8080/"
        },
        "outputId": "27f06e3f-09fc-42b1-ea7f-0541cda7879e"
      },
      "execution_count": null,
      "outputs": [
        {
          "output_type": "stream",
          "name": "stdout",
          "text": [
            "[7 4 6 8]\n"
          ]
        }
      ]
    },
    {
      "cell_type": "code",
      "source": [
        "def sumaDeVectores(vec1:np.array , vec2:np.array)->np.array: #Otra forma de ver lo mismo\n",
        "  N = len(vec1) #Me interesa N porque es el parámetro de todos mis vectores\n",
        "  if N != len(vec2): #Valido que los vectores que voy a sumar tengan el mismo tamaño\n",
        "    raise Exception(f\"Los vectores deben tener el mismo Tamaño! vec1 tiene {len(vec1)} elementos y vec2 tiene {len(vec2)}\") #lanzo una excepción\n",
        "\n",
        "  resultado = np.zeros(N) #Inicializo el vector resultado con N ceros\n",
        "\n",
        "  for i in range(N): #Itero sobre los índices\n",
        "    resultado[i] = vec1[i] + vec2[i] #Asigno en cada posición la suma de ambos vecores\n",
        "\n",
        "  return resultado #Retorno el resultado\n",
        "\n",
        "vec1 = np.array([1 , 2 , 3])\n",
        "vec2 = np.array([4 , 5 , 6])\n",
        "#vec3 = np.array([7 , 8 , 9 , 10])\n",
        "\n",
        "print(sumaDeVectores(vec1 , vec2))\n",
        "#print(sumaDeVectores(vec2 , vec3))"
      ],
      "metadata": {
        "colab": {
          "base_uri": "https://localhost:8080/"
        },
        "id": "9-MXK98Z3e6D",
        "outputId": "f86d1118-0666-4142-dc98-02964ffc99e9"
      },
      "execution_count": null,
      "outputs": [
        {
          "output_type": "stream",
          "name": "stdout",
          "text": [
            "[5. 7. 9.]\n"
          ]
        }
      ]
    },
    {
      "cell_type": "markdown",
      "metadata": {
        "id": "xQdIQRhp-STK"
      },
      "source": [
        "### **Ejercicio 4**\n",
        "\n",
        "Escribir una función que recibe un vector y desplaza todos sus elementos una posición hacia la derecha: el primero pasa a ser el segundo, el segundo pasa a ser el tercero y así sucesivamente. El último pasa a ser el primero.\n",
        "\n",
        "Por ejemplo:\n",
        "\n",
        "v1 = [2, 4, 1, 5, 7, **9**]\n",
        "\n",
        "**desplazarADerecha(v1)**\n",
        "\n",
        "=> v1 = [**9**, 2, 4, 1, 5, 7]"
      ]
    },
    {
      "cell_type": "code",
      "execution_count": null,
      "metadata": {
        "id": "w6qrLd4-XwHB",
        "colab": {
          "base_uri": "https://localhost:8080/"
        },
        "outputId": "3f034c81-95f5-46b3-c9f3-d8039a566eb5"
      },
      "outputs": [
        {
          "output_type": "stream",
          "name": "stdout",
          "text": [
            "[2 4 1 5 7 9]\n",
            "[9 2 4 1 5 7]\n"
          ]
        }
      ],
      "source": [
        "def desplazarADerecha(vector:np.array)->None: #En este caso devuelvo el mismo vector modificado\n",
        "  ultimo = vector[len(vector)-1] #9 #Tomo el último valor\n",
        "  for pos in reversed(range(0, len(vector)-1)): #range(0,5) -> 0,1,2,3,4 #Itero sobre los valores menos uno (por  que tengo el último)\n",
        "    #pos = va desde 4 hasta 0\n",
        "    vector[pos+1] = vector[pos]  #vector[1] = vector[0] #Muevo todos los números a la derecha\n",
        "  v[0] = ultimo #Asigno mi último a la posición cero\n",
        "\n",
        "v = np.array([2, 4, 1, 5, 7, 9])\n",
        "print(v)\n",
        "desplazarADerecha(v)\n",
        "print(v)"
      ]
    },
    {
      "cell_type": "code",
      "source": [
        "def desplazarADerecha(vector: np.array)-> None:#Como hacerlo con un vector intermedio\n",
        "  vectorDesplazado = np.zeros(len(vector), int) #Inicializo mi vector intermedio de ceros\n",
        "  vectorDesplazado[0] = vector[-1] #Inciailizo el primer elemento de mi vector resultado con\n",
        "  for pos in range(1, len(vector)): #Para cada índice empezando desde 1, porque el 0 ya lo tengo asignado\n",
        "        vectorDesplazado[pos] = vector[pos-1] #La posición de ese vector será la posición anterior del vector original (de esta forma desplazo a la derecha)\n",
        "  for pos in range(len(vectorDesplazado)): #Ahora para cada índice (cualquiera de los dos vectores)\n",
        "    vector[pos] = vectorDesplazado[pos] #Asigno en mi vector original los valores tal cual del vector intermedio\n",
        "\n",
        "v1  = np.array([2, 4, 1, 9, 8])\n",
        "print(v1)\n",
        "desplazarADerecha(v1)\n",
        "print(v1)"
      ],
      "metadata": {
        "colab": {
          "base_uri": "https://localhost:8080/"
        },
        "id": "X_l1so703oxR",
        "outputId": "cfcb9288-4337-4704-dec3-0d36ea2b63ea"
      },
      "execution_count": null,
      "outputs": [
        {
          "output_type": "stream",
          "name": "stdout",
          "text": [
            "[2 4 1 9 8]\n",
            "[8 2 4 1 9]\n"
          ]
        }
      ]
    },
    {
      "cell_type": "code",
      "source": [
        "def posicionADerecha(vector1):\n",
        "  nuevoVector = np.zeros(len(vector1), int)\n",
        "  for posicion in range(len(vector1) - 1):\n",
        "    nuevoVector[posicion + 1] = vector1[posicion]\n",
        "  nuevoVector[0] = vector1[len(vector1) - 1]\n",
        "  vector1 = nuevoVector\n",
        "  return vector1"
      ],
      "metadata": {
        "id": "kmAOLc9530Km"
      },
      "execution_count": null,
      "outputs": []
    },
    {
      "cell_type": "code",
      "source": [
        "def desplazarVectorDer(vector:np.array)->None: #Más compacto\n",
        "  arrAux = np.array(vector) #copio el vector\n",
        "  for i in range(len(vector)): #Le asigno a cada posición la posición anterior\n",
        "    vector[i] = arrAux[i-1]    ###Esta usando la posicion -1 en la primer iteracion\n",
        "\n",
        "v1  = np.array([2, 4, 1, 9, 8])\n",
        "print(v1)\n",
        "desplazarVectorDer(v1)\n",
        "print(v1)"
      ],
      "metadata": {
        "colab": {
          "base_uri": "https://localhost:8080/"
        },
        "id": "dTUBuf9o32xT",
        "outputId": "402e7b7a-6cc9-4f7c-816a-e4451549eb71"
      },
      "execution_count": null,
      "outputs": [
        {
          "output_type": "stream",
          "name": "stdout",
          "text": [
            "[2 4 1 9 8]\n",
            "[8 2 4 1 9]\n"
          ]
        }
      ]
    },
    {
      "cell_type": "markdown",
      "metadata": {
        "id": "uMMYGjtoXuJD"
      },
      "source": [
        "### **Ejercicio 5**\n",
        "\n",
        "Desarrollar una función que inserte un elemento en una posición en un vector. Al insertar el elemento, se debe producir un desplazamiento a la derecha de todos los elementos en las posiciones siguientes, el último elemento se pierde.\n",
        "\n",
        "Por ejemplo:\n",
        "\n",
        "v1 = [2, 4, 1, 7, 6, 2]\n",
        "\n",
        "**insertar(v1, 5, 3)** #insertamos un 5 en la posición 3\n",
        "\n",
        "=> v1 = [2, 4, 1, **5**, 7, 6]"
      ]
    },
    {
      "cell_type": "code",
      "execution_count": null,
      "metadata": {
        "id": "rQEF6QpbX-r0",
        "colab": {
          "base_uri": "https://localhost:8080/"
        },
        "outputId": "ee7d5a6b-cc12-40f1-e36c-b10af3023c39"
      },
      "outputs": [
        {
          "output_type": "stream",
          "name": "stdout",
          "text": [
            "5 4\n",
            "4 3\n",
            "[2 4 1 5 7 6]\n"
          ]
        }
      ],
      "source": [
        "def insertar(arr, pos, val):\n",
        "  for i in reversed(range(pos, len(arr)-1)): #Tomo los índices desde la posicion donde quiero insertar hasta el anteúltimo (dado que el último se pierde). Lo invierto (para empezar de atrás hacia adelante)\n",
        "    print(i+1, i) #Para control veo cuáles son los índices que estoy trabajando\n",
        "    arr[i+1] = arr[i] #En una primera iteración, i debe ser el anteúltimo elemento. Por lo que i+1 es el último elemento, asigno como último al anteúltimo. Así sigo hast la posición en la que voy a insertar\n",
        "  arr[pos] = val #una vez llegado tanto pos como pos+1 son el mismo número. Le asigno el valor que quiero insertar\n",
        "\n",
        "arr1 = np.array([2, 4, 1, 7, 6, 2])\n",
        "insertar(arr1, 3, 5)\n",
        "print(arr1)"
      ]
    },
    {
      "cell_type": "code",
      "source": [
        "def insertar2(vector:np.array , numero:int , posicion:int)->np.array: #Otra forma de verlo:\n",
        "  N = len(vector) #Tamaño de mi vector\n",
        "  for i in range(N-1 , posicion , -1): #Armo un rango desde el anteúltimo índice, hasta la posición que quiero, avanzando de a -1 (para atrás)\n",
        "    vector[i] = vector[i-1] #Asigno a cada posición, el valor anterior\n",
        "\n",
        "  vector[posicion] = numero #En la posición de interés agrego el número\n",
        "\n",
        "  return vector #Retorno el vector\n",
        "\n",
        "v1 = [2, 4, 1, 7, 6, 2]\n",
        "\n",
        "print(insertar2(v1 , 5 , 3))"
      ],
      "metadata": {
        "colab": {
          "base_uri": "https://localhost:8080/"
        },
        "id": "sF78DwpT4DLx",
        "outputId": "f06ddd74-5dbe-4413-c85f-9a434f62bd0e"
      },
      "execution_count": null,
      "outputs": [
        {
          "output_type": "stream",
          "name": "stdout",
          "text": [
            "[2, 4, 1, 5, 7, 6]\n"
          ]
        }
      ]
    },
    {
      "cell_type": "markdown",
      "metadata": {
        "id": "FvY2_qmwX_KA"
      },
      "source": [
        "### **Ejercicio 6**\n",
        "\n",
        "Escribir una función que elimine el elemento que ocupa una determinada posición de un vector. Al eliminar, los elementos a la derecha del eliminado, deben desplazarse a la izquierda un lugar y agregar un cero en la última posición.\n",
        "\n",
        "Por ejemplo:\n",
        "\n",
        "v1 = [4, 3, **5**, 8, 6, 7]\n",
        "\n",
        "**eliminar(v1, 2)** #eliminamos el elemento de la posicion 2\n",
        "\n",
        "=> v1 = [4, 3, **8, 6, 7, 0**]"
      ]
    },
    {
      "cell_type": "code",
      "source": [
        "#v1 = [3, 5, 8, 6, 7, 7] 0 -> len(v1)-2 -> range(0,len(v1)-1)\n",
        "\n",
        "def eliminar(vector:np.array, posDel:int)->None:\n",
        "  if 0 <= posDel < len(vector): #Primero valido que la posición a eliminar esté dentro del rango de nuestro vector\n",
        "    for pos in range(posDel,len(vector)-1): #Para cada posición entre el indice que eliminaremos y el tamaño del vector:\n",
        "      vector[pos] = vector[pos+1] #Asignamos a cada posición el valor de su derecha\n",
        "    vector[len(vector)-1] = 0 #Ponemos un cero en la última posición\n",
        "  else: #En caso que no esté el valor a eliminar dentro del rango:\n",
        "    raise IndexError(\"Posicion incorrecta\") #Lanzamos un error\n",
        "\n",
        "v1  = np.array([4, 3, 5, 5, 6, 7])\n",
        "print(v1)\n",
        "eliminar(v1,2)\n",
        "print(v1)\n",
        "eliminar(v1,2)\n",
        "print(v1)"
      ],
      "metadata": {
        "id": "DiFLt4rvCP0j",
        "colab": {
          "base_uri": "https://localhost:8080/"
        },
        "outputId": "2950f272-3479-4300-f35c-d42b70ededd8"
      },
      "execution_count": null,
      "outputs": [
        {
          "output_type": "stream",
          "name": "stdout",
          "text": [
            "[4 3 5 5 6 7]\n",
            "[4 3 5 6 7 0]\n",
            "[4 3 6 7 0 0]\n"
          ]
        }
      ]
    },
    {
      "cell_type": "markdown",
      "metadata": {
        "id": "dfuNkFxdYT--"
      },
      "source": [
        "### **Ejercicio 7**\n",
        "\n",
        "Escribir una función que elimine todas las apariciones de un determinado elemento de un vector. Al eliminar se deben insertar tantos ceros al final como elementos se eliminaron.\n",
        "\n",
        "Por ejemplo:\n",
        "\n",
        "arr1 = [4, 3, 5, 8, 6, 5, 7, 5]\n",
        "\n",
        "**eliminarApariciones(arr1, 5)** #eliminamos todos los 5 del arreglo\n",
        "\n",
        "=> arr1 = [4, 3, 8, 6, 7, **0, 0, 0**]"
      ]
    },
    {
      "cell_type": "code",
      "execution_count": null,
      "metadata": {
        "id": "o6twFUebYsO3",
        "colab": {
          "base_uri": "https://localhost:8080/"
        },
        "outputId": "eff701bf-4fcd-4576-da02-2a5f1c16ac54"
      },
      "outputs": [
        {
          "output_type": "stream",
          "name": "stdout",
          "text": [
            "[4 3 5 8 6 5 7 5]\n",
            "[4 3 8 6 7 0 0 0]\n"
          ]
        }
      ],
      "source": [
        "#Recorrer array y usar funcion del ejercicio 5 para eliminar los elementos de a uno\n",
        "def eliminarApariciones(vector:np.array, datoDel:int)->None:\n",
        "  pos = 0 #Inicializo un contador en cero\n",
        "  while pos < len(vector): #Mientras el contador sea menor que el tamaño del vector:\n",
        "    if vector[pos] == datoDel: #Si el elemento de la posición POS coincide con el dato a eliminar:\n",
        "      eliminar(vector, pos) #Reciclamos el código, llamamos a la función eliminar que lo elimina, desplaza todos los números a la izquierda y agrega un cero en último lugar\n",
        "    #Notemos acá que si elimina, en la próxima iteración volvemos a ver el mismo lugar porque en POS está el valor que antes estaba a la izquierda\n",
        "    else:\n",
        "      pos += 1 #Si el valor no coincide, incrementamos el valor del contador y seguimos iterando\n",
        "v3 = np.array([4, 3, 5, 8, 6, 5, 7, 5])\n",
        "print(v3)\n",
        "eliminarApariciones(v3,5)\n",
        "print(v3)"
      ]
    },
    {
      "cell_type": "markdown",
      "metadata": {
        "id": "J5x_ui9jeE2c"
      },
      "source": [
        "### **Ejercicio 8**\n",
        "\n",
        "Escribir un procedimiento que reciben un vector y:\n",
        "- Imprime un subvector con los dos primeros elementos.\n",
        "- Imprime un subvector con los tres últimos elementos.\n",
        "- Imprime un subvector con los elementos desde la posiciones 2 hasta la 5\n",
        "- Imprime un subvector con los elementos alternados cada dos. Por ej.: v1 = [2 , 1 , 4 , 5 , 2 , 7 , 9] debería imprimir [2 , 4 , 2 , 9]\n",
        "\n",
        "Nota: Se debe utilizar la notacion **vector [ pos<sub>inicio</sub> : pos<sub>fin</sub> ]**"
      ]
    },
    {
      "cell_type": "code",
      "source": [
        "def subVectores(unVector:np.array)->None:\n",
        "  N = len(unVector) #Guardo el tamaño de mi vector\n",
        "  subVector1 = unVector[0:2] #Tomo los dos primeros elementos. Recordemos que es [0:2), el 2 no está incluído\n",
        "  subVector2 = unVector[-3:N] #Tomo los últimos tres elementos (desde -3 hasta N-1)\n",
        "  subVector3 = unVector[2:5+1] #Tomo los elementos desde el 2 hasta el 5 (dejo explícito que es 5+1 porque el último no está incluído)\n",
        "  subVector4 = unVector[0:N:2] #Tomo los elementos del primero al último saltando de a dos\n",
        "\n",
        "  print(f'Los dos primeros elementos son {subVector1}')\n",
        "  print(f'Los últimos tres elementos son {subVector2}')\n",
        "  print(f'Los elementos desde la posición 2 hasta la 5 son {subVector3}')\n",
        "  print(f'Los elementos alternados cada dos son {subVector4}')\n",
        "\n",
        "  return\n",
        "\n",
        "v1 = np.array([2 , 1 , 4 , 5 , 2 , 7 , 9])\n",
        "\n",
        "subVectores(v1)"
      ],
      "metadata": {
        "id": "r-X5N4RIVR0j",
        "colab": {
          "base_uri": "https://localhost:8080/"
        },
        "outputId": "32a3d7e3-53cc-416d-f986-7942eb61d47a"
      },
      "execution_count": null,
      "outputs": [
        {
          "output_type": "stream",
          "name": "stdout",
          "text": [
            "Los dos primeros elementos son [2 1]\n",
            "Los últimos tres elementos son [2 7 9]\n",
            "Los elementos desde la posición 2 hasta la 5 son [4 5 2 7]\n",
            "Los elementos alternados cada dos son [2 4 2 9]\n"
          ]
        }
      ]
    },
    {
      "cell_type": "code",
      "source": [
        "arr1 = np.array([4, 3, 5, 8, 6, 5, 7, 5])\n",
        "#print(arr1[2:6])\n",
        "\n",
        "print(arr1[:2]) #primeros 2\n",
        "print(arr1[len(arr1)-3:]) #ultimos 3\n",
        "print(arr1[2:6])\n",
        "print(arr1[::2])"
      ],
      "metadata": {
        "colab": {
          "base_uri": "https://localhost:8080/"
        },
        "id": "mf_YaRw44u19",
        "outputId": "88073fcc-6fd9-4625-cd0c-defba862351f"
      },
      "execution_count": null,
      "outputs": [
        {
          "output_type": "stream",
          "name": "stdout",
          "text": [
            "[4 3]\n",
            "[5 7 5]\n",
            "[5 8 6 5]\n",
            "[4 5 6 7]\n"
          ]
        }
      ]
    },
    {
      "cell_type": "code",
      "source": [
        "miVector = np.array([1 , 2 , 3 , 4 ,5])\n",
        "print(miVector[0])\n",
        "print(miVector[1:])\n",
        "print(miVector[1:][0])\n",
        "print(miVector[1:][1:])\n",
        "\n",
        "miVectorSolito = np.array([45])\n",
        "print(miVectorSolito[1:])"
      ],
      "metadata": {
        "colab": {
          "base_uri": "https://localhost:8080/"
        },
        "id": "hi_3w_8C45lI",
        "outputId": "e724580b-c903-4111-a298-81679f0ddd34"
      },
      "execution_count": null,
      "outputs": [
        {
          "output_type": "stream",
          "name": "stdout",
          "text": [
            "1\n",
            "[2 3 4 5]\n",
            "2\n",
            "[3 4 5]\n",
            "[]\n"
          ]
        }
      ]
    },
    {
      "cell_type": "markdown",
      "metadata": {
        "id": "X1Vx_Ubwdj32"
      },
      "source": [
        "### **Ejercicio 9**\n",
        "\n",
        "Escribir una función **recursiva** que reciba un vector como parámetro y retorne la suma de todos sus elementos."
      ]
    },
    {
      "cell_type": "code",
      "source": [
        "#v1 = [2,3,1,5,4]\n",
        "#suma(v1) = 2+3+1+5+4 = 2 + (3+1+5+4)\n",
        "#suma(v) = v[0] + suma(v[1:])    si len(v) > 0\n",
        "#           0                    si len(v) = 0\n",
        "\n",
        "def sumaRecursiva(vector:np.array)->int:\n",
        "  sumaTotal = None #Inicializo mi variable de salida como None\n",
        "  if len(vector) == 0: #Si el vector de entrada está vacío:\n",
        "    sumaTotal = 0 #La suma total es cero\n",
        "  else: #Sino:\n",
        "    sumaTotal = vector[0] + sumaRecursiva(vector[1:]) # 2 + sumaRecursiva([3,1,5,4]) #EL valor de la suma será el primer elemento del vector más la suma del subvector que contiene todos los elementos menos el primero\n",
        "  return sumaTotal #Retorno el valor de la suma total\n",
        "\n",
        "  #sumaTotal = vector[0] + vector[1] + vector[2] + .... + vector[N]\n",
        "  #sumaTotal = vector[0] + vector[1:][0] + vector[1:][1:][0] + .... + 0\n",
        "\n",
        "v1 = np.array([2,3,1,5,4])\n",
        "print(sumaRecursiva(v1))"
      ],
      "metadata": {
        "colab": {
          "base_uri": "https://localhost:8080/"
        },
        "id": "vONq9r6r5Ak8",
        "outputId": "67db0ff8-a463-4ce9-afc9-5274d1f7b176"
      },
      "execution_count": null,
      "outputs": [
        {
          "output_type": "stream",
          "name": "stdout",
          "text": [
            "15\n"
          ]
        }
      ]
    },
    {
      "cell_type": "code",
      "source": [
        "#v1 = [2,3,1,5,4]\n",
        "#suma(v1) = 2+3+1+5+4 = 2 + (3+1+5+4)\n",
        "#suma(v) = v[0] + suma(v[1:])    si len(v) > 0\n",
        "#           0                    si len(v) = 0\n",
        "\n",
        "#sumar los elementos de v1 desde posicion 0 hasta el final -> sumaRecursiva2(v1, 0)\n",
        "#sumar los elementos de v1 desde posicion 2 hasta el final -> sumaRecursiva2(v1, 2)\n",
        "#.....\n",
        "#sumar los elementos de v1 desde la ultima posicion hasta el final -> sumaRecursiva2(v1, len(v1))\n",
        "\n",
        "def sumaRecursiva2(vector:np.array, posInicial:int=0)->int:\n",
        "  sumaTotal = None\n",
        "  if posInicial == len(vector)-1: #Si la posición inicial es el último elemento del vector:\n",
        "    sumaTotal = vector[posInicial] #Sumo el último elemento a la suma total\n",
        "  else:\n",
        "    sumaTotal = vector[posInicial] + sumaRecursiva2(vector, posInicial+1) #Sino, sumo la posición en la que estoy e incremento la posición\n",
        "\n",
        "  return sumaTotal\n",
        "\n",
        "v1 = np.array([2,3,1,5,4])\n",
        "print(sumaRecursiva2(v1))"
      ],
      "metadata": {
        "colab": {
          "base_uri": "https://localhost:8080/"
        },
        "id": "eCww1WM05Gwf",
        "outputId": "01700920-3a03-4d45-df19-edad9edd2afb"
      },
      "execution_count": null,
      "outputs": [
        {
          "output_type": "stream",
          "name": "stdout",
          "text": [
            "15\n"
          ]
        }
      ]
    },
    {
      "cell_type": "code",
      "source": [
        "miVectorSolito[0]"
      ],
      "metadata": {
        "colab": {
          "base_uri": "https://localhost:8080/"
        },
        "id": "KZvvBMly5VjA",
        "outputId": "7d64b2ee-686d-46e1-8d02-04cb76e05d68"
      },
      "execution_count": null,
      "outputs": [
        {
          "output_type": "execute_result",
          "data": {
            "text/plain": [
              "45"
            ]
          },
          "metadata": {},
          "execution_count": 22
        }
      ]
    },
    {
      "cell_type": "code",
      "source": [
        "def sumaRecursiva(vectorAca:np.array)->int:\n",
        "  sum = 0 #Inicializo la variable de salida como sum = 0\n",
        "  if len(vectorAca) == 1: #Aca es la misma lógica de subvectores pero me detengo antes de quedarme sin elementos\n",
        "    sum = sum + vectorAca[0]\n",
        "  else:\n",
        "    sum = vectorAca[0] + sumaRecursiva(vectorAca[1:])\n",
        "    print(vectorAca[1:])\n",
        "  return sum\n",
        "\n",
        "vectorAca = [2,3,5,1,7,8,9]\n",
        "#vectorAca[1:] -> [3,5,1,7,8,9]\n",
        "#vectorAca[:1] -> [2]"
      ],
      "metadata": {
        "id": "McHpLnIw5Xvo"
      },
      "execution_count": null,
      "outputs": []
    },
    {
      "cell_type": "markdown",
      "metadata": {
        "id": "AXeJRrL1jmaY"
      },
      "source": [
        "### **Ejercicio 10**\n",
        "\n",
        "Escribir una función que implemente de forma **recursiva** el algoritmo de **búsqueda binaria** sobre un vector.\n",
        "\n",
        "https://es.khanacademy.org/computing/computer-science/algorithms/binary-search/a/binary-search"
      ]
    },
    {
      "cell_type": "code",
      "execution_count": null,
      "metadata": {
        "id": "gCr_ilY9kKa3",
        "colab": {
          "base_uri": "https://localhost:8080/"
        },
        "outputId": "9c24a272-267d-40a3-e1be-eb683745761a"
      },
      "outputs": [
        {
          "output_type": "stream",
          "name": "stdout",
          "text": [
            "5\n"
          ]
        }
      ],
      "source": [
        "#v tiene que estar ordenado\n",
        "#busquedaBinaria(v,3) -> posicion del elemento 3 en v    si 3 esta en v\n",
        "#                        None                            si 3 no esta en v\n",
        "#v = [2,3,5,7,8,12,34,56]\n",
        "\n",
        "\n",
        "  #busco posicion central\n",
        "  #comparo datoBuscado con el elemento del vector en la posicion central\n",
        "    # si el datoBuscado es igual -> lo encontre, es decir esta en la posicion central\n",
        "    # si no es igual\n",
        "      # si es menor -> busco el dato en la mitad inferior (0 - posicion central-1)\n",
        "      # si es mayor -> busco el dato en la mitad superior (posicion central+1 - final)\n",
        "\n",
        "def busquedaBinaria(vector:np.array, datoBuscado:int, posInicial:int, posFinal:int)->int:\n",
        "  posDato = None #Inicio la variable posición de dato como nula\n",
        "  centro = (posInicial+posFinal)//2 #Defino el centro como el indice central\n",
        "  if posFinal < posInicial: #Si la posición final es mayor que la inicial:\n",
        "    posDato = None #El resultado es nulo\n",
        "  else: #Sino\n",
        "    if vector[centro] == datoBuscado: #Si el valor central es el dato buscado:\n",
        "      posDato = centro #La posición del dato es el valor central\n",
        "    elif datoBuscado < vector[centro]: #Si el dato buscado es menor al dato central:\n",
        "      posDato = busquedaBinaria(vector, datoBuscado, posInicial, centro-1) #Buscamos en el subvector izquierdo\n",
        "    else: #Sino\n",
        "      posDato = busquedaBinaria(vector, datoBuscado, centro+1, posFinal) #Buscamos en el subvector derecho\n",
        "  return posDato #Devolvemos la posición del dato buscado\n",
        "\n",
        "posInicial = 0\n",
        "posFinal = 7\n",
        "buscoAl = 37\n",
        "miVector = np.array([3,7,12,15,24,37,42,54])\n",
        "\n",
        "print(busquedaBinaria(miVector , buscoAl , posInicial , posFinal))"
      ]
    },
    {
      "cell_type": "markdown",
      "metadata": {
        "id": "tw7Pv4o_ehEv"
      },
      "source": [
        "### **Ejercicio 11**\n",
        "\n",
        "Escribir una función **recursiva** que retorna *True* si una cadena de caracteres es un palíndromo y *False* en caso contrario.\n",
        "\n",
        "Nota: Palíndromo es la forma elegante de \"capicua\""
      ]
    },
    {
      "cell_type": "code",
      "source": [
        "#neuquen\n",
        "# True             si   len(palabra) <= 1\n",
        "\n",
        "['n','e','u','q','u','e','n']\n",
        "\n",
        "def esPalindromo(palabra:np.array)->bool:\n",
        "  salida = False #Inicializamos el valor como FALSO\n",
        "  if len(palabra) < 2: #Si el tamaño de la palabra es 1:\n",
        "    salida = True #Es palíndromo (por definción)\n",
        "  else: #Sino\n",
        "    salida = (palabra[0] == palabra[len(palabra)-1]) and esPalindromo(palabra[1:len(palabra)-1]) #Deben coincidir la primer letra y la última y además debe ser palíndromo la sub-palabra generada sin la primerletra y la última\n",
        "    #            'n'            'n'                           esPalindromo('euque')\n",
        "    #            'e'            'e'                           esPalindromo('uqu')\n",
        "  return salida #Devuelvo la salida\n",
        "\n",
        "p = np.array(['n','e','u','q','u','e','n'])\n",
        "print(esPalindromo(p))"
      ],
      "metadata": {
        "id": "bKfYdZkmVZVK",
        "colab": {
          "base_uri": "https://localhost:8080/"
        },
        "outputId": "c7072964-2f55-4020-acd8-c74eeec90540"
      },
      "execution_count": null,
      "outputs": [
        {
          "output_type": "stream",
          "name": "stdout",
          "text": [
            "True\n"
          ]
        }
      ]
    },
    {
      "cell_type": "code",
      "source": [
        "def esPalindromo(unString:str)->bool:\n",
        "  N = len(unString) #Asigno una variable con el tamanio de la palabra\n",
        "  unString = unString.lower() #Convierto todas las letras a minúscula porque python distingue miúsculas de mayúsculas (opcional)\n",
        "  if N < 2: #Si el tamanio es menor a 2:\n",
        "    resultado = True #Es palíndromo por defincioón\n",
        "  elif unString[0] == unString[-1]: #Si coinciden la primer letra y la última:\n",
        "      resultado = esPalindromo(unString[1:N-1]) #Evalúo si el resto de la palabra es palíndromo\n",
        "  else: #Sino\n",
        "    resultado = False #No es palíndromo\n",
        "\n",
        "  return resultado #Retorno el resultado booleano\n",
        "\n",
        "print(esPalindromo(\"Neuquen\"))\n",
        "print(esPalindromo(\"AnitaLavaLaTina\"))\n",
        "print(esPalindromo(\"Alla\"))\n",
        "print(esPalindromo(\"Argentina\"))"
      ],
      "metadata": {
        "colab": {
          "base_uri": "https://localhost:8080/"
        },
        "id": "Y8qhaUE653L0",
        "outputId": "0b1414d2-6b67-478a-80dd-914a0664528d"
      },
      "execution_count": null,
      "outputs": [
        {
          "output_type": "stream",
          "name": "stdout",
          "text": [
            "True\n",
            "True\n",
            "True\n",
            "False\n"
          ]
        }
      ]
    },
    {
      "cell_type": "code",
      "source": [
        "len('AnitaLavaLaTina')"
      ],
      "metadata": {
        "colab": {
          "base_uri": "https://localhost:8080/"
        },
        "id": "_FNsAEko58v0",
        "outputId": "ff45cb1d-852e-483f-d357-f5ce5674dda8"
      },
      "execution_count": null,
      "outputs": [
        {
          "output_type": "execute_result",
          "data": {
            "text/plain": [
              "15"
            ]
          },
          "metadata": {},
          "execution_count": 29
        }
      ]
    },
    {
      "cell_type": "markdown",
      "source": [
        "## **Matrices**"
      ],
      "metadata": {
        "id": "ZFWbtVO4xDi2"
      }
    },
    {
      "cell_type": "markdown",
      "source": [
        "## **Declaracion de matrices**"
      ],
      "metadata": {
        "id": "-qnkXBtjARf2"
      }
    },
    {
      "cell_type": "code",
      "source": [
        "########### Bidimencionales ###########\n",
        "print(\"########### Bidimencionales ###########\")\n",
        "\n",
        "matriz = np.zeros ((3,4), int) #filas y columnas\n",
        "\n",
        "print(\"\\nMatriz\")\n",
        "print(matriz)"
      ],
      "metadata": {
        "colab": {
          "base_uri": "https://localhost:8080/"
        },
        "id": "tvaqh9zM6z5w",
        "outputId": "e4708756-2f65-4749-d6d4-f3ee10d90dc6"
      },
      "execution_count": null,
      "outputs": [
        {
          "output_type": "stream",
          "name": "stdout",
          "text": [
            "########### Bidimencionales ###########\n",
            "\n",
            "Matriz\n",
            "[[0 0 0 0]\n",
            " [0 0 0 0]\n",
            " [0 0 0 0]]\n"
          ]
        }
      ]
    },
    {
      "cell_type": "markdown",
      "source": [
        "## **Acceso con indices / posiciones**"
      ],
      "metadata": {
        "id": "8ZEJm5y57oq_"
      }
    },
    {
      "cell_type": "code",
      "source": [
        "########### Bidimencionales ###########\n",
        "print(\"########### Bidimencionales ###########\")\n",
        "\n",
        "matriz[0][0] = 20\n",
        "matriz[0][2] = 10\n",
        "matriz[1][3] = 50\n",
        "\n",
        "print(\"Matriz con modificaciones\")\n",
        "print(matriz)\n",
        "print(\"Primer fila\")\n",
        "print(matriz[0])\n",
        "print(\"Segunda fila\")\n",
        "print(matriz[1])\n",
        "print(\"Elemento fila 1, columna 3\")\n",
        "print(matriz[1][3])\n",
        "print(\"Columna 3\")\n",
        "print(matriz[:,3])"
      ],
      "metadata": {
        "colab": {
          "base_uri": "https://localhost:8080/"
        },
        "id": "T9rtx-4U72lD",
        "outputId": "ee1a0465-6f90-4b56-8288-e2ed2335fd29"
      },
      "execution_count": null,
      "outputs": [
        {
          "output_type": "stream",
          "name": "stdout",
          "text": [
            "########### Bidimencionales ###########\n",
            "Matriz con modificaciones\n",
            "[[20  0 10  0]\n",
            " [ 0  0  0 50]\n",
            " [ 0  0  0  0]]\n",
            "Primer fila\n",
            "[20  0 10  0]\n",
            "Segunda fila\n",
            "[ 0  0  0 50]\n",
            "Elemento fila 1, columna 3\n",
            "50\n",
            "Columna 3\n",
            "[ 0 50  0]\n"
          ]
        }
      ]
    },
    {
      "cell_type": "markdown",
      "source": [
        "## **Medicion de mediciones**"
      ],
      "metadata": {
        "id": "WMhx3F2M6vpb"
      }
    },
    {
      "cell_type": "code",
      "source": [
        "print(\"Cantidad de filas\")\n",
        "print(len(matriz))\n",
        "\n",
        "print(\"Cantidad de columnas\")\n",
        "print(len(matriz[0]))\n",
        "\n",
        "print(\"Dimension de matriz\")\n",
        "print(matriz.shape)\n",
        "\n",
        "(filas,columnas) = matriz.shape # en dos variables distintas\n",
        "print(filas)\n",
        "print(columnas)"
      ],
      "metadata": {
        "colab": {
          "base_uri": "https://localhost:8080/"
        },
        "id": "9tEIiE7C-M2R",
        "outputId": "9517209e-3f5c-487a-9372-c69e192fbb44"
      },
      "execution_count": null,
      "outputs": [
        {
          "output_type": "stream",
          "name": "stdout",
          "text": [
            "Cantidad de filas\n",
            "3\n",
            "Cantidad de columnas\n",
            "4\n",
            "Dimension de matriz\n",
            "(3, 4)\n",
            "3\n",
            "4\n"
          ]
        }
      ]
    },
    {
      "cell_type": "markdown",
      "source": [
        "## **Recorridos de matrices**"
      ],
      "metadata": {
        "id": "tsEu7-uj-IUI"
      }
    },
    {
      "cell_type": "code",
      "source": [
        "import numpy as np\n",
        "\n",
        "matriz = np.array([[3,5,1],[2,8,14],[12,3,9],[23,4,0]]) # generamos matriz de 4 filas y 3 columnas\n",
        "\n",
        "print(matriz)\n",
        "print(\"\\nRecorrido sobre elementos directamente (sentido directo)\")\n",
        "for fila in matriz: # en la primera iteracion entra a la primer fila\n",
        "  for elemento in fila: # fila es un vector\n",
        "    print(elemento)\n",
        "\n",
        "print(\"\\n\", matriz)\n",
        "print(\"Recorrido sobre elementos directamente (sentido inverso)\")\n",
        "for fila in reversed(matriz): # en la primera iteracion entra a la ultima fila\n",
        "  for elemento in reversed(fila):\n",
        "    print(elemento)\n",
        "\n",
        "print(\"\\n\", matriz)\n",
        "print(\"Recorrido usando indices / posiciones (sentido directo)\")\n",
        "for posicionFila in range(len(matriz)): #len de matriz es la cantidad de filas, y el  rango es 0,1,2 y 3\n",
        "  for posicionColumna in range(len(matriz[posicionFila])): # para cada fila hacemos un rango por columnas, 0,1 y 2\n",
        "    print(\"Posicion:\", posicionFila,\",\", posicionColumna)\n",
        "    print(matriz[posicionFila][posicionColumna])\n",
        "\n",
        "print(\"\\n\", matriz)\n",
        "print(\"Recorrido usando indices / posiciones (sentido inverso)\")\n",
        "for posicionFila in reversed(range(len(matriz))): #\n",
        "  for posicionColumna in reversed(range(len(matriz[posicionFila]))):\n",
        "    print(\"Posicion:\", posicionFila,\",\", posicionColumna)\n",
        "    print(matriz[posicionFila][posicionColumna])"
      ],
      "metadata": {
        "id": "n2qOz1fLxG0F"
      },
      "execution_count": null,
      "outputs": []
    },
    {
      "cell_type": "markdown",
      "metadata": {
        "id": "0g6QV3ZhZp6J"
      },
      "source": [
        "### **Ejercicio 12**\n",
        "\n",
        "Escribir una función que recibe las dimensiones y retorna una matriz rellena de la siguiente forma: En la posición ( n , m ) debe contener n + m.\n",
        "\n",
        "Por ejemplo:\n",
        "\n",
        "mat1 = rellenaMatriz(4,3)\n",
        "\n",
        "=> mat1 =\n",
        "\n",
        "| <!--   --> |Col 0|Col 1|Col 2|\n",
        "|------------|:---:|:---:|:---:|\n",
        "| **Fila 0** |  0  |  1  |  2  |\n",
        "| **Fila 1** |  1  |  2  |  3  |\n",
        "| **Fila 2** |  2  |  3  |  4  |\n",
        "| **Fila 3** |  3  |  4  |  5  |"
      ]
    },
    {
      "cell_type": "code",
      "execution_count": null,
      "metadata": {
        "id": "UW1iXcs9aULl",
        "colab": {
          "base_uri": "https://localhost:8080/"
        },
        "outputId": "680d44fd-7f20-4597-cd24-245c522a2a79"
      },
      "outputs": [
        {
          "output_type": "stream",
          "name": "stdout",
          "text": [
            "[[0 1 2]\n",
            " [1 2 3]\n",
            " [2 3 4]\n",
            " [3 4 5]]\n"
          ]
        }
      ],
      "source": [
        "def rellenaMatriz(nFilas:int, nCols:int)->np.array: #Definimos una función que toma un número de filas, un número de columnas y devuelve un array\n",
        "  matrizSalida = np.zeros((nFilas,nCols), int) #Inicializo mi matriz como un arreglo de ceros (enteros) con los valores que le pasé por parámtero\n",
        "  for nFila in range(nFilas): #Para cada número de fila en mi rango de número de filas:\n",
        "    for nCol in range(nCols): #Para cada número de columna en mi rango de número de columnas:\n",
        "      matrizSalida[nFila, nCol] = nFila+nCol #La matriz de salida en la ubicación \"número de fila\" \"número de columna\" será número de fila + número de columna\n",
        "      # también podíamos hacer:\n",
        "      # matrizSalida[nFila][nCol] = nFila+nCol\n",
        "  return matrizSalida #Retornamos la matriz de salida\n",
        "\n",
        "print(rellenaMatriz(4,3))"
      ]
    },
    {
      "cell_type": "markdown",
      "metadata": {
        "id": "g96hWdmiaUmA"
      },
      "source": [
        "### **Ejercicio 13**\n",
        "\n",
        "Escribir una función que recibe una matriz cuadrada (N x N) y calcula la suma de los elementos que están por encima de la diagonal principal (excluyendo la diagonal).\n",
        "\n",
        "En el ejemplo de la imagen, la función deberia retornar: *b + c + f*\n",
        "\n",
        "![texto alternativo](https://economipedia.com/wp-content/uploads/Captura-de-Pantalla-2019-07-29-a-les-13.18.05-1.png)"
      ]
    },
    {
      "cell_type": "code",
      "execution_count": null,
      "metadata": {
        "id": "2UpEFdBbukok",
        "colab": {
          "base_uri": "https://localhost:8080/"
        },
        "outputId": "314564bf-8d35-42f7-a7f2-a44a33b91b97"
      },
      "outputs": [
        {
          "output_type": "stream",
          "name": "stdout",
          "text": [
            "[[ 1  2  3  4]\n",
            " [ 4  5  6  7]\n",
            " [ 7  8  9 10]\n",
            " [11 12 13 14]]\n",
            "32\n",
            "32\n",
            "32\n"
          ]
        }
      ],
      "source": [
        "#nCol > nFila -> triangulo superior\n",
        "#nCol == nFila -> diagonal pricipal\n",
        "#nCol < nFila -> triangulo inferior\n",
        "\n",
        "def suma_encima_diagonal(matriz): #Mi función toma como parámetro una matriz. Retorna un valor\n",
        "  suma = 0 #Inicializo el valor de salida en cero\n",
        "  nFilas, nCols = matriz.shape  #3,3 #es un PREREQUISITO que la matriz sea cuadrada, en este caso nFilas = nCols\n",
        "  for posFila in range(nFilas): #0,1,2 #Para cada fila en el rango de filas\n",
        "    for posCol in range(posFila+1, nCols): #range(2,3) -> 2 # Para cada columna en el rango de filas + 1 hasta nCols (es decir, no me interesan las columnas que sean menores que las filas)\n",
        "      suma += matriz[posFila,posCol] #Sumo a mi valor de salida el valor alojado en esa posición\n",
        "  return suma #Devolvemos el valor\n",
        "\n",
        "def sumaTsuperior(matriz:np.array)->int:\n",
        "  suma = 0\n",
        "  nFilas, nCols = matriz.shape  #3,3\n",
        "  for posFila in range(nFilas): #0,1,2\n",
        "    for posCol in range(nCols): #0,1,2\n",
        "      if posCol > posFila:\n",
        "        suma += matriz[posFila,posCol]\n",
        "  return suma\n",
        "\n",
        "#Otra forma de verlo:\n",
        "\n",
        "def sumaTriangularSuperior(matrizCuadrada:np.matrix)->int:\n",
        "  N = len(matrizCuadrada) #Como la matriz es cuadrada es lo mismo pedir len o shape\n",
        "  suma = 0 #Inicializo me falor de salida\n",
        "  for fila in range(N-1): #Recorro todas las filas menos la última, porque es triangular superior.\n",
        "    suma += matrizCuadrada[fila][fila + 1:].sum() # De cada fila, me quedo con los valores de la derecha del número de fila, es decir, con la triangular superior. Eso es un arreglo, del cual puedo sumar sus elementos.\n",
        "\n",
        "  return suma #Devuelvo el valor de la suma\n",
        "\n",
        "matriz = np.array([[1 , 2 , 3 , 4] , [4 , 5 , 6 , 7] , [7 , 8 , 9 , 10] , [11 , 12 , 13 , 14]])\n",
        "print(matriz)\n",
        "print(suma_encima_diagonal(matriz))\n",
        "print(sumaTsuperior(matriz))\n",
        "print(sumaTriangularSuperior(matriz))"
      ]
    },
    {
      "cell_type": "markdown",
      "metadata": {
        "id": "ERqaprbtbx5F"
      },
      "source": [
        "### **Ejercicio 14**\n",
        "\n",
        "Escribir una función que retorna *True* si una matriz cuadrada es matriz diagonal y *False* en caso contrario.\n",
        "\n",
        "Una matriz cuadrada diagonal es una matriz que tiene ceros en todos sus elementos, menos en la diagonal principal (No importan los elementos de la diagonal principal, pueden ser cero o no).\n",
        "\n",
        "**Si i, j son los índices de las filas y columnas de M**\n",
        "\n",
        "**=> Una matriz M es diagonal si:**\n",
        "\n",
        "**M [ i , j ] == 0 para todo i != j**\n",
        "\n",
        "Matriz diagonal de 4 x 4:\n",
        "\n",
        "| <!--   --> |Col 0|Col 1|Col 2|Col 3|\n",
        "|------------|:---:|:---:|:---:|:---:|\n",
        "| **Fila 0** |  0  |  0  |  0  |  0  |\n",
        "| **Fila 1** |  0  |  2  |  0  |  0  |\n",
        "| **Fila 2** |  0  |  0  |  4  |  0  |\n",
        "| **Fila 3** |  0  |  0  |  0  |  0  |"
      ]
    },
    {
      "cell_type": "code",
      "execution_count": null,
      "metadata": {
        "id": "ehZJVkc_cWIg",
        "colab": {
          "base_uri": "https://localhost:8080/"
        },
        "outputId": "8e7a6d70-e96b-4894-be60-6f3b0ddd069d"
      },
      "outputs": [
        {
          "output_type": "stream",
          "name": "stdout",
          "text": [
            "[[1 2 3]\n",
            " [4 5 6]\n",
            " [7 8 9]]\n",
            "False\n",
            "[[1 0 0]\n",
            " [0 5 0]\n",
            " [0 0 9]]\n",
            "True\n",
            "[[1 0 0]\n",
            " [0 5 0]\n",
            " [7 0 9]]\n",
            "False\n",
            "[[0 0 0]\n",
            " [0 0 0]\n",
            " [0 0 0]]\n",
            "True\n"
          ]
        }
      ],
      "source": [
        "def esDiagonal1(unaMatrizCuadrada:np.matrix)->bool:#Tomo una matriz cuadrada y devuelvo un valor booleano\n",
        "  filas , columnas = unaMatrizCuadrada.shape #tomo la cantidad de filas y de columnas\n",
        "\n",
        "  if filas != columnas: #Valido que la matriz sea cuadrada\n",
        "    raise Exception('La matriz debe ser cuadrada!') #Lanzo una excepción en caso que no sea cuadrada\n",
        "\n",
        "  N = filas #Podría ser columnas también, porque es cuadrada\n",
        "\n",
        "  nElementos = N*(N-1) #La cantidad de elementos que me interesan validar son N al cuadrado (elementos totales del arreglo) menos los elementos de la diagonal, que son N, entonces: nElem = N**2-N = N*(N-1)\n",
        "  elementosNulos = 0 #Inicializo un contador de elementos nulos. Espero al final de recorrer todo tener la misma cantidad de elemetnos nulos que elementos totales.\n",
        "\n",
        "  for fila in range(N): #Para cada fila en el rango de filas\n",
        "    for columna in range(N): #Para cada columna en el rango de columnas\n",
        "      if fila == columna: #Si el número de fila es igual al número de columna\n",
        "        pass #No me importa qué sucede\n",
        "      elif fila != columna and unaMatrizCuadrada[fila][columna] == 0: #Si el número de fila es distinto al de la columna y ese elemento de matriz es nulo\n",
        "        elementosNulos += 1 #Sumo uno a mis elementos nulos\n",
        "\n",
        "  return elementosNulos == nElementos #Al final comparo si el número de elementos nulos es igual al número total de elementos fuera de la diagonal.\n",
        "\n",
        "m1 = np.array([[1 , 2 , 3] , [4 , 5 , 6] , [7 , 8 , 9]])\n",
        "m2 = np.array([[1 , 0 , 0] , [0 , 5 , 0] , [0 , 0 , 9]])\n",
        "m3 = np.array([[1 , 0 , 0] , [0 , 5 , 0] , [7 , 0 , 9]])\n",
        "m4 = np.array([[0 , 0 , 0] , [0 , 0 , 0] , [0 , 0 , 0]])\n",
        "\n",
        "print(m1)\n",
        "print(esDiagonal1(m1))\n",
        "print(m2)\n",
        "print(esDiagonal1(m2))\n",
        "print(m3)\n",
        "print(esDiagonal1(m3))\n",
        "print(m4)\n",
        "print(esDiagonal1(m4))"
      ]
    },
    {
      "cell_type": "code",
      "source": [
        "#Otra forma de verlo\n",
        "def esDiagonal2(matrizCuadrada:np.array)->bool: #Defino mi función que tomará una matriz cuadrada y devolverá un booleano\n",
        "  matrizD = True #Inicializo mi valor de salida en True\n",
        "  nFilas, nCols = matrizCuadrada.shape #Me guardo las dimensiones de filas y columnas. COmo suponemos que la matriz es cuadrada tanto nFilas como nCols debe ser el mismo número\n",
        "  nFila = 0 #Inicializo un contador\n",
        "  while matrizD and nFila < nFilas-1: #Mientras matrizD sea True y nFila sea menor al número máximo de filas - 1:\n",
        "    nCol = nFila+1 #El número de columna será el número de fila + 1. Con esto me aseguro de no pasar por la diagonal pues la fila será seimpre más grande que la columna por construcción\n",
        "    while matrizD and nCol < nCols: #Mientras matrizD sea True y el número de columna sea menos al número máximo de columnas:\n",
        "      if matrizCuadrada[nFila,nCol]!=0 or matrizCuadrada[nCol,nFila]!=0: #Si el elemento es distinto de cero tanto arriba como abajo de la diagonal (espejado)\n",
        "        matrizD = False #Entonces la matriz no es diagonal\n",
        "      nCol += 1 #Aumento el contador de columna\n",
        "    nFila += 1 #Aumento el contador de fila\n",
        "  return matrizD #Retorno el valor de verdad\n",
        "\n",
        "\n",
        "m = np.array([[1,0,0,0],\n",
        "              [0,1,0,0],\n",
        "              [10,0,1,0],\n",
        "              [0,0,0,1]])\n",
        "esDiagonal2(m)\n",
        "print(m1)\n",
        "print(esDiagonal2(m1))\n",
        "print(m2)\n",
        "print(esDiagonal2(m2))\n",
        "print(m3)\n",
        "print(esDiagonal2(m3))\n",
        "print(m4)\n",
        "print(esDiagonal2(m4))"
      ],
      "metadata": {
        "colab": {
          "base_uri": "https://localhost:8080/"
        },
        "id": "klTU1zoMdRyS",
        "outputId": "a034c5f5-0916-49d1-b9ce-80ce047b2930"
      },
      "execution_count": null,
      "outputs": [
        {
          "output_type": "stream",
          "name": "stdout",
          "text": [
            "[[1 2 3]\n",
            " [4 5 6]\n",
            " [7 8 9]]\n",
            "False\n",
            "[[1 0 0]\n",
            " [0 5 0]\n",
            " [0 0 9]]\n",
            "True\n",
            "[[1 0 0]\n",
            " [0 5 0]\n",
            " [7 0 9]]\n",
            "False\n",
            "[[0 0 0]\n",
            " [0 0 0]\n",
            " [0 0 0]]\n",
            "True\n"
          ]
        }
      ]
    },
    {
      "cell_type": "markdown",
      "metadata": {
        "id": "dHytTlIXcW5P"
      },
      "source": [
        "### **Ejercicio 15**\n",
        "\n",
        "Escribir una función que retorna *True* si una matriz cuadrada de enteros es simétrica y *False* en caso contrario.\n",
        "\n",
        "Una matriz simétrica es como la de la imagen (no importan los elementos de la diagonal principal):\n",
        "\n",
        "![texto alternativo](https://economipedia.com/wp-content/uploads/Captura-de-Pantalla-2019-09-23-a-les-15.58.25.png)\n",
        "\n",
        "Es decir:\n",
        "\n",
        "**Si i, j son los índices de las filas y columnas de M**\n",
        "\n",
        "**=> Una matriz M es simétrica si:**\n",
        "\n",
        "**M [ i , j ] == M[ j, i ] para todo i != j**\n",
        "\n",
        "Matriz simétrica de 4 x 4:\n",
        "\n",
        "| <!--   --> |Col 0|Col 1|Col 2|Col 3|\n",
        "|------------|:---:|:---:|:---:|:---:|\n",
        "| **Fila 0** |  2  |  1  |  0  |  5  |\n",
        "| **Fila 1** |  1  |  2  |  9  |  7  |\n",
        "| **Fila 2** |  0  |  9  |  0  |  8  |\n",
        "| **Fila 3** |  5  |  7  |  8  |  4  |"
      ]
    },
    {
      "cell_type": "code",
      "execution_count": null,
      "metadata": {
        "id": "3SA7bN6ldIwQ",
        "colab": {
          "base_uri": "https://localhost:8080/"
        },
        "outputId": "2edf9738-a337-4856-b59d-a1e82c313595"
      },
      "outputs": [
        {
          "output_type": "stream",
          "name": "stdout",
          "text": [
            "[[1 2 3]\n",
            " [4 5 6]\n",
            " [7 8 9]]\n",
            "False\n",
            "[[1 0 0]\n",
            " [0 5 0]\n",
            " [0 0 9]]\n",
            "True\n",
            "[[1 0 7]\n",
            " [0 5 0]\n",
            " [7 0 9]]\n",
            "True\n",
            "[[0 0 0]\n",
            " [0 0 0]\n",
            " [0 0 0]]\n",
            "True\n"
          ]
        }
      ],
      "source": [
        "def esSimetrica(unaMatrizCuadrada:np.matrix)->bool:\n",
        "  filas , columnas = unaMatrizCuadrada.shape\n",
        "\n",
        "  if filas != columnas:\n",
        "    raise Exception('La matriz debe ser cuadrada!') #Lanzo una excepción si la matriz no es cuadrada\n",
        "\n",
        "  N = filas #Podría ser columnas también\n",
        "  nElementos = N*(N-1)/2 #Elementos en el triangulo superior o inferior. Se puede demostrar por inducción que N*(N-1) es siempre par\n",
        "  elementosSimetricos = 0 #Inicializo el contador de elementos simétricos\n",
        "\n",
        "  for fila in range(N): #Para cada fila en el rango de filas\n",
        "    for columna in range(N): #Para cada columna en el rango de columnas\n",
        "      if fila < columna and unaMatrizCuadrada[fila][columna] == unaMatrizCuadrada[columna][fila]: #Si el número de fila es menor que el número de columna (triangulo superior) y los elementos de matriz espejados son iguales:\n",
        "        elementosSimetricos += 1 #Entonces sumo una unidad de elementos simétricos\n",
        "\n",
        "  return elementosSimetricos == nElementos #Devuelvo si todos mis elementos son elementos simétricos\n",
        "\n",
        "\n",
        "m1 = np.array([[1 , 2 , 3] , [4 , 5 , 6] , [7 , 8 , 9]])\n",
        "m2 = np.array([[1 , 0 , 0] , [0 , 5 , 0] , [0 , 0 , 9]])\n",
        "m3 = np.array([[1 , 0 , 7] , [0 , 5 , 0] , [7 , 0 , 9]])\n",
        "m4 = np.array([[0 , 0 , 0] , [0 , 0 , 0] , [0 , 0 , 0]])\n",
        "\n",
        "print(m1)\n",
        "print(esSimetrica(m1))\n",
        "print(m2)\n",
        "print(esSimetrica(m2))\n",
        "print(m3)\n",
        "print(esSimetrica(m3))\n",
        "print(m4)\n",
        "print(esSimetrica(m4))"
      ]
    },
    {
      "cell_type": "code",
      "source": [
        "#Otra forma de verlo:\n",
        "def esSimetrica(matriz:np.array)->bool: #Tomamos una matriz cuadrada y devolvemos un valor booleano\n",
        "  matrizEsSimetrica = True #Inicializamos la variable de salida\n",
        "  nFilas, nCols = matriz.shape #Guardamos las dimensiones\n",
        "  for nFila in range(nFilas): #Para cada número de fila en el rango de filas\n",
        "    for nCol in range(nCols): #Para cada número de columna en el rango de columnas\n",
        "      if matriz[nFila,nCol] != matriz[nCol,nFila]: #Si los elementos de matriz espejados respecto de la diagonal no coinciden:\n",
        "        matrizEsSimetrica = False #Entonces la matriz no es simétrica\n",
        "\n",
        "  return matrizEsSimetrica #Devuelvo la conclusión\n",
        "\n",
        "m=np.array([[2,1,0,5],\n",
        "            [1,2,9,7],\n",
        "            [0,9,0,8],\n",
        "            [5,7,8,4]])\n",
        "print(esSimetrica(m))\n",
        "\n",
        "#m[1,2] = m[1][2]"
      ],
      "metadata": {
        "colab": {
          "base_uri": "https://localhost:8080/"
        },
        "id": "eI-bEjstdpDX",
        "outputId": "8b8255f6-a266-489f-c828-a7e212c1c350"
      },
      "execution_count": null,
      "outputs": [
        {
          "output_type": "stream",
          "name": "stdout",
          "text": [
            "True\n"
          ]
        }
      ]
    },
    {
      "cell_type": "markdown",
      "metadata": {
        "id": "190cxAcRdJfY"
      },
      "source": [
        "### **Ejercicio 16**\n",
        "\n",
        "Escribir una función **recursiva**, que calcule la suma de los elementos de la diagonal principal de una matriz.\n",
        "\n",
        "Nota: La suma de los elementos de la diagonal principal de una matriz se llama \"traza de la matriz\".\n",
        "\n",
        "Por ejemplo\n",
        "\n",
        "Si mat1 =\n",
        "\n",
        "| <!--   --> |Col 0|Col 1|Col 2|Col 3|\n",
        "|------------|:---:|:---:|:---:|:---:|\n",
        "| **Fila 0** |  2  |  1  |  0  |  5  |\n",
        "| **Fila 1** |  1  |  2  |  9  |  7  |\n",
        "| **Fila 2** |  0  |  9  |  0  |  8  |\n",
        "| **Fila 3** |  5  |  7  |  8  |  4  |\n",
        "\n",
        "=> **traza(mat1) = 2 + 2 + 0 + 4**"
      ]
    },
    {
      "cell_type": "code",
      "execution_count": null,
      "metadata": {
        "id": "jSNCfDr_eEgH",
        "colab": {
          "base_uri": "https://localhost:8080/"
        },
        "outputId": "7043724b-3bb7-41b9-b388-ecc52edf5efa"
      },
      "outputs": [
        {
          "output_type": "stream",
          "name": "stdout",
          "text": [
            "[[1 2 3]\n",
            " [4 5 6]\n",
            " [7 8 9]]\n",
            "15\n",
            "[[1 0 0]\n",
            " [0 5 0]\n",
            " [0 0 9]]\n",
            "15\n",
            "[[1 0 7]\n",
            " [0 5 0]\n",
            " [7 0 9]]\n",
            "15\n",
            "[[0 0 0]\n",
            " [0 0 0]\n",
            " [0 0 0]]\n",
            "0\n"
          ]
        }
      ],
      "source": [
        "def traza(unaMatriz:np.matrix)->int: #La traza es una función que recibe una matriz cuadrada y retorna un entero\n",
        "  filas , columnas = unaMatriz.shape #Me guardo filas y columnas\n",
        "  if filas != columnas: # Si la cantidad de filas es distinta a la cantidad de columnas:\n",
        "    raise Exception('La matriz debe ser cuadrada!') #La matriz no es cuadrada!\n",
        "\n",
        "  N = filas #Podría ser columnas también\n",
        "\n",
        "  if N == 1: #Si la dimensión de la matriz es 1x1\n",
        "    resultado = unaMatriz[0 , 0] #El resultado es trivial: la traza es el único elemento de la diagonal\n",
        "  else: #Sino\n",
        "    resultado = unaMatriz[N-1 , N-1] + traza(unaMatriz[:N-1 , :N-1]) #Tomo el último elemento de la matriz (que es el último de la diagonoal) y le sumo la traza de la sub-matriz resultante al eliminar la última fila y la última columna\n",
        "    #resultado = unaMatriz[0 , 0] + traza(unaMatriz[1: , 1:]) #Es exactamente lo mismo\n",
        "  return resultado #Devuelvo el resultado\n",
        "\n",
        "m1 = np.array([[1 , 2 , 3] , [4 , 5 , 6] , [7 , 8 , 9]])\n",
        "m2 = np.array([[1 , 0 , 0] , [0 , 5 , 0] , [0 , 0 , 9]])\n",
        "m3 = np.array([[1 , 0 , 7] , [0 , 5 , 0] , [7 , 0 , 9]])\n",
        "m4 = np.array([[0 , 0 , 0] , [0 , 0 , 0] , [0 , 0 , 0]])\n",
        "\n",
        "print(m1)\n",
        "print(traza(m1))\n",
        "print(m2)\n",
        "print(traza(m2))\n",
        "print(m3)\n",
        "print(traza(m3))\n",
        "print(m4)\n",
        "print(traza(m4))"
      ]
    },
    {
      "cell_type": "code",
      "source": [
        "def traza(matriz):\n",
        "  suma = None\n",
        "  if len(matriz) == 0:\n",
        "    suma = 0\n",
        "  else:\n",
        "    suma = matriz[0, 0] + traza(matriz[1:, 1:])\n",
        "  return suma\n",
        "\n",
        "m1 = np.array([[1 , 2 , 3] , [4 , 5 , 6] , [7 , 8 , 9]])\n",
        "m2 = np.array([[1 , 0 , 0] , [0 , 5 , 0] , [0 , 0 , 9]])\n",
        "m3 = np.array([[1 , 0 , 7] , [0 , 5 , 0] , [7 , 0 , 9]])\n",
        "m4 = np.array([[0 , 0 , 0] , [0 , 0 , 0] , [0 , 0 , 0]])\n",
        "\n",
        "print(m1)\n",
        "print(traza(m1))\n",
        "print(m2)\n",
        "print(traza(m2))\n",
        "print(m3)\n",
        "print(traza(m3))\n",
        "print(m4)\n",
        "print(traza(m4))"
      ],
      "metadata": {
        "colab": {
          "base_uri": "https://localhost:8080/"
        },
        "id": "JfhJ8P8gdvHg",
        "outputId": "3f00c395-e0b5-4581-c2ec-a7435e85442b"
      },
      "execution_count": null,
      "outputs": [
        {
          "output_type": "stream",
          "name": "stdout",
          "text": [
            "[[1 2 3]\n",
            " [4 5 6]\n",
            " [7 8 9]]\n",
            "15\n",
            "[[1 0 0]\n",
            " [0 5 0]\n",
            " [0 0 9]]\n",
            "15\n",
            "[[1 0 7]\n",
            " [0 5 0]\n",
            " [7 0 9]]\n",
            "15\n",
            "[[0 0 0]\n",
            " [0 0 0]\n",
            " [0 0 0]]\n",
            "0\n"
          ]
        }
      ]
    },
    {
      "cell_type": "markdown",
      "source": [
        "####**Ejercicio agregado**\n",
        "Implementar una función recursiva para encontrar el máximo elemento de un arreglo"
      ],
      "metadata": {
        "id": "6XqsTz_Wje5P"
      }
    },
    {
      "cell_type": "code",
      "source": [
        "#arreglo = [2,1,3,10,5,4,7]\n",
        "#max(arreglo) = arreglo[0]                                si len(arreglo) = 1\n",
        "#               maximo(arreglo[0] y max(arreglo[1:]))     si len(arreglo) > 1\n",
        "\n",
        "#Suponemos que vector no esta vacio\n",
        "\n",
        "def maximoEntre(unNumero , otroNumero):\n",
        "  if unNumero > otroNumero:\n",
        "    resultado = unNumero\n",
        "  else:\n",
        "    resultado = otroNumero\n",
        "  return resultado\n",
        "\n",
        "def maximoArreglo(vector:np.array)->int:\n",
        "  maximo = None\n",
        "  if len(vector) == 1:\n",
        "    maximo = vector[0]\n",
        "  else:\n",
        "    maximoResto = maximoArreglo(vector[1:]) #maximoArreglo([1,3,10,5,4,7])...maximoArreglo([10,5,4,7])\n",
        "    if vector[0] > maximoResto:\n",
        "      maximo = vector[0]\n",
        "    else:\n",
        "      maximo = maximoResto\n",
        "  return maximo\n",
        "\n",
        "arreglo = [2,1,3,10,5,4,7]\n",
        "print(maximoArreglo(arreglo))"
      ],
      "metadata": {
        "id": "_wwmPhUHjeiw",
        "colab": {
          "base_uri": "https://localhost:8080/"
        },
        "outputId": "d81e7259-a612-4c79-bcdf-23329ac3ff58"
      },
      "execution_count": null,
      "outputs": [
        {
          "output_type": "stream",
          "name": "stdout",
          "text": [
            "10\n"
          ]
        }
      ]
    },
    {
      "cell_type": "markdown",
      "source": [
        "####**Ejercicio agregado 2**\n",
        "Implementar una función recursiva para encontrar la posicion del máximo elemento de un arreglo"
      ],
      "metadata": {
        "id": "kEpX0o4mngm_"
      }
    },
    {
      "cell_type": "code",
      "source": [
        "#arreglo = [2,1,3,10,5,4,7]\n",
        "#posicionDelMaximo(array, posInicio) = posInicio       si posInicio = len(array)-1\n",
        "#                                    = posicion del max(array[0], array[posicion maximo en el resto])\n",
        "\n",
        "def posicionDelMaximo(vector:np.array, posInicio:int=0)->int:\n",
        "  posMaximo = None\n",
        "  if posInicio == len(vector)-1:\n",
        "    posMaximo = posInicio\n",
        "  else:\n",
        "    posicionMaximoResto = posicionDelMaximo(vector, posInicio+1)\n",
        "    if vector[posInicio] > vector[posicionMaximoResto]:\n",
        "      posMaximo = posInicio\n",
        "    else:\n",
        "      posMaximo = posicionMaximoResto\n",
        "  return posMaximo\n",
        "\n",
        "arreglo = np.array([200,1,3,1000,5,400,70])\n",
        "print(posicionDelMaximo(arreglo))\n"
      ],
      "metadata": {
        "id": "kCA5_2Y4ngD9",
        "colab": {
          "base_uri": "https://localhost:8080/"
        },
        "outputId": "32e05ebd-f967-45df-8edb-d44e3e35941e"
      },
      "execution_count": null,
      "outputs": [
        {
          "output_type": "stream",
          "name": "stdout",
          "text": [
            "3\n"
          ]
        }
      ]
    }
  ]
}