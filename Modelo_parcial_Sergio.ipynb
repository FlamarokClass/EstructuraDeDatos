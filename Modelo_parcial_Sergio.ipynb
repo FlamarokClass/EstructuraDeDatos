{
  "nbformat": 4,
  "nbformat_minor": 0,
  "metadata": {
    "colab": {
      "provenance": [],
      "include_colab_link": true
    },
    "kernelspec": {
      "name": "python3",
      "display_name": "Python 3"
    },
    "language_info": {
      "name": "python"
    }
  },
  "cells": [
    {
      "cell_type": "markdown",
      "metadata": {
        "id": "view-in-github",
        "colab_type": "text"
      },
      "source": [
        "<a href=\"https://colab.research.google.com/github/FlamarokClass/EstructuraDeDatos/blob/master/Modelo_parcial_Sergio.ipynb\" target=\"_parent\"><img src=\"https://colab.research.google.com/assets/colab-badge.svg\" alt=\"Open In Colab\"/></a>"
      ]
    },
    {
      "cell_type": "markdown",
      "source": [
        "#**Ejercicios de parcial**\n"
      ],
      "metadata": {
        "id": "00T5qxKVTgFE"
      }
    },
    {
      "cell_type": "markdown",
      "source": [
        "**Ejercicio 1**\n",
        "\n",
        "Implementar la función **recursiva** **\"inversionRecursiva\"** que recibe por parámetro un string y retorna un nuevo string conteniendo el string de entrada invertido.\n",
        "\n",
        "Por ejemplo:\n",
        "\n",
        "Si str1 = \"hola\"\n",
        "\n",
        "str2 = inversionRecursiva(str1)\n",
        "\n",
        "Entonces, str2 = \"aloh\"  \n"
      ],
      "metadata": {
        "id": "T9-MJI5tOIx8"
      }
    },
    {
      "cell_type": "code",
      "source": [
        "def inversionRecursiva(string : str) -> str:\n",
        "  longitud = len(string)\n",
        "  if len(string) == 1:\n",
        "    return string\n",
        "  else:\n",
        "    return inversionRecursiva(string[1:]) + string[0]\n",
        "\n",
        "srt1= \"casa\"\n",
        "\n",
        "print(inversionRecursiva(srt1))"
      ],
      "metadata": {
        "id": "obxj78o5P0rs",
        "colab": {
          "base_uri": "https://localhost:8080/"
        },
        "outputId": "d2a32be2-eeee-43ee-b95f-7fe8ca53e1e1"
      },
      "execution_count": null,
      "outputs": [
        {
          "output_type": "stream",
          "name": "stdout",
          "text": [
            "asac\n"
          ]
        }
      ]
    },
    {
      "cell_type": "markdown",
      "source": [
        "**Ejercicio 3**\n",
        "\n",
        "Escribir la función ***recursiva*** **\"sonIguales\"** que recibe dos strings del mismo tamaño (no vacías) y retorna *True* si son iguales y *False* en caso contrario."
      ],
      "metadata": {
        "id": "rflxWHv6SmEu"
      }
    },
    {
      "cell_type": "code",
      "source": [
        "def sonIguales(str1 : str , str2 : str) -> bool:\n",
        "  if len(str1) == 1:\n",
        "    return str1 == str2\n",
        "  else:\n",
        "    return str1[0] == str2[0] and sonIguales(str1[1:], str2[1:])\n",
        "\n",
        "str1 = \"casa\"\n",
        "str2 = \"casa\"\n",
        "\n",
        "print(sonIguales(str1, str2))"
      ],
      "metadata": {
        "id": "L_n0FM6WP3rb",
        "colab": {
          "base_uri": "https://localhost:8080/"
        },
        "outputId": "2effc09d-f2a5-45e9-b43f-15803d761d27"
      },
      "execution_count": null,
      "outputs": [
        {
          "output_type": "stream",
          "name": "stdout",
          "text": [
            "True\n"
          ]
        }
      ]
    },
    {
      "cell_type": "markdown",
      "source": [
        "**Ejercicio 4**\n",
        "\n",
        "Un chef está intentando organizar sus recetas y necesita ayuda mediante algún registro de datos. Para esto decide crear una aplicación, para la que se deben modelar este tipo de datos. Crear el TDA **\"Receta\"**, que contiene una arreglo con los ingredientes de una receta, el nombre de la receta y el tipo (Puede ser “omnivora”, “vegetariana” o “vegana” ).\n",
        "Los ingredientes se definen con los siguientes componentes:\n",
        "*  Nombre\n",
        "*  Cantidad (valor entero)\n",
        "*  Calorías que aporta a la receta\n",
        "\n",
        "Una Receta puede tener a lo sumo 20 ingredientes\n",
        "\n",
        "Implementar las siguientes operaciones:\n",
        "*  **cantidadDeIngredientes()**: Retorna la cantidad de ingredientes de la receta\n",
        "*  **registrarIngrediente(ingrediente)**: Agrega un ingrediente a la receta\n",
        "*  **totalCalorias()**: Retorna el total de las calorías de la receta\n",
        "*  **ingredienteMasCalorico()**: Retorna el ingrediente con mayor cantidad de calorías de la receta"
      ],
      "metadata": {
        "id": "vBgfei-4SsR2"
      }
    },
    {
      "cell_type": "code",
      "source": [
        "import numpy as np\n",
        "\n",
        "class Ingrediente:\n",
        "  def __init__(self, nombre : str, cantidad : int, calorias : int):\n",
        "    self._nombre = nombre\n",
        "    self._cantidad = cantidad\n",
        "    self._calorias = calorias\n",
        "\n",
        "  def __repr__(self):\n",
        "    return f\"{self._nombre}: {self._cantidad}g, calorias = {self._calorias}\"\n",
        "\n",
        "  def getNombre(self):\n",
        "    return self._nombre\n",
        "\n",
        "  def getCantidad(self):\n",
        "    return self._cantidad\n",
        "\n",
        "\n",
        "\n",
        "  def getCalorias(self):\n",
        "    return self._calorias\n",
        "\n",
        "\n",
        "class Receta:\n",
        "  def __init__(self, nombre : str, tipo : str):\n",
        "    self._nombre = nombre\n",
        "    self._tipo = validarTipo(tipo, tipo, str, tipo ==\"omnovoro\" or tipo ==\"vegetariano\" or tipo ==\"vegano\")\n",
        "    self._listaIngredientes = np.zeros(20,Ingrediente)\n",
        "\n",
        "  def __repr__(self):\n",
        "    return str(self._listaIngredientes)\n",
        "\n",
        "  def registrarIngredeiente(self, ingredienteNuevo) -> None:\n",
        "    for indice in range(len(self._listaIngredientes)):\n",
        "      if self._listaIngredientes[indice] == 0:\n",
        "        break\n",
        "    self._listaIngredientes[indice] = ingredienteNuevo\n",
        "\n",
        "  def cantidadDeIngredientes(self) -> int:\n",
        "    contador = None\n",
        "    for indice in range(len(self._listaIngredientes)):\n",
        "      if self._listaIngredientes[indice] != 0 and validarTipo2(self._listaIngredientes[0], self._listaIngredientes[0], Ingrediente):\n",
        "        contador += 1\n",
        "    return contador\n",
        "\n",
        "  def totalCalorias(self) -> int:\n",
        "    sumador = 0\n",
        "    for indice in range(len(self._listaIngredientes)):\n",
        "      if self._listaIngredientes[indice] != 0 and validarTipo2(self._listaIngredientes[0], self._listaIngredientes[0], Ingrediente):\n",
        "         sumador += self._listaIngredientes[indice].getCalorias()\n",
        "    return sumador\n",
        "\n",
        "  def ingredienteMasCalorico(listaDeIngredientes):\n",
        "    maximo = None\n",
        "    if len(listaDeIngredientes) == 1:\n",
        "      maximo = listaDeIngredientes[0]\n",
        "    else:\n",
        "      maximoResto = ingredienteMasCalorico(listaDeIngredientes[1:])\n",
        "      if listaDeIngredientes[0].getCalorias() > maximoResto.getCalorias():\n",
        "        maximo = listaDeIngredientes[0]\n",
        "      else:\n",
        "        maximo = maximoResto\n",
        "    return maximo\n",
        "\n",
        "\n",
        "#fideos = Receta(\"fideos\", \"vegetariano\")\n",
        "#print(self._listaIngredientes)\n",
        "\n",
        "sal = Ingrediente(\"sal\", 10,200)\n",
        "aceite = Ingrediente(\"aceite\", 20,800)\n",
        "fideos = Ingrediente(\"fideos\", 1,1000)\n",
        "\n",
        "fideosConAciete = Receta(\"fideos\", \"vegetariano\")\n",
        "fideosConAciete.registrarIngredeiente(sal)\n",
        "fideosConAciete.registrarIngredeiente(aceite)\n",
        "fideosConAciete.registrarIngredeiente(fideos)\n",
        "\n",
        "print(fideosConAciete.ingredienteMasCalorico)"
      ],
      "metadata": {
        "id": "Gx5hYL9TP6uT",
        "colab": {
          "base_uri": "https://localhost:8080/"
        },
        "outputId": "1644c4e4-8f3e-4d8c-b6fc-0f636d638d1f"
      },
      "execution_count": null,
      "outputs": [
        {
          "output_type": "stream",
          "name": "stdout",
          "text": [
            "<bound method Receta.ingredienteMasCalorico of [sal: 10g, calorias = 200 aceite: 20g, calorias = 800\n",
            " fideos: 1g, calorias = 1000 0 0 0 0 0 0 0 0 0 0 0 0 0 0 0 0 0]>\n"
          ]
        }
      ]
    }
  ]
}