{
  "nbformat": 4,
  "nbformat_minor": 0,
  "metadata": {
    "colab": {
      "provenance": [],
      "authorship_tag": "ABX9TyMdKxZAz275GbsBPOeuYtM6",
      "include_colab_link": true
    },
    "kernelspec": {
      "name": "python3",
      "display_name": "Python 3"
    },
    "language_info": {
      "name": "python"
    }
  },
  "cells": [
    {
      "cell_type": "markdown",
      "metadata": {
        "id": "view-in-github",
        "colab_type": "text"
      },
      "source": [
        "<a href=\"https://colab.research.google.com/github/FlamarokClass/EstructuraDeDatos/blob/master/ModParcial_Martin_1.ipynb\" target=\"_parent\"><img src=\"https://colab.research.google.com/assets/colab-badge.svg\" alt=\"Open In Colab\"/></a>"
      ]
    },
    {
      "cell_type": "markdown",
      "source": [
        "Escribir la función perasBananas(arreglo), que retorna True si el arreglo contiene más “peras” que “bananas” y False en caso contrario. Ayuda: Considerar utilizar una función auxiliar y tener en cuenta que alguna de las funciones implementadas debe ser recursiva.\n",
        "Asumir que el arreglo no está vacío. No se puede ordenar el arreglo antes. Las soluciones que NO contengan alguna función recursiva no serán tomadas en cuenta.\n",
        "arr1 = [‘pera’, ‘banana’, ‘pera’, ‘pera’, ‘banana’]\n",
        "arr2 = [‘pera’, ‘banana’, ‘banana’, ‘pera’, ‘banana’]\n",
        "arr3 = [‘pera’, ‘banana’, ‘banana’, ‘pera’]\n",
        "perasBananas(arr1) debe devolver True.\n",
        "perasBananas(arr2) debe devolver False.\n",
        "perasBananas(arr3) debe devolver False.\n"
      ],
      "metadata": {
        "id": "OZad8VqWx_fS"
      }
    },
    {
      "cell_type": "code",
      "execution_count": null,
      "metadata": {
        "colab": {
          "base_uri": "https://localhost:8080/"
        },
        "id": "NtyGHfFbx5Qi",
        "outputId": "0a4a1c9b-2ff6-4167-d778-9e5db1df1587"
      },
      "outputs": [
        {
          "output_type": "stream",
          "name": "stdout",
          "text": [
            "False\n"
          ]
        }
      ],
      "source": [
        "import numpy as np\n",
        "\n",
        "def esPera(fruta : str) -> bool :\n",
        "  return fruta == \"pera\"\n",
        "\n",
        "def perasBananas(arreglo : np.array , nPeras= 0) -> bool:\n",
        "  if len(arreglo) == 1:\n",
        "    if esPera(arreglo[0]):\n",
        "      nPeras += 1\n",
        "  else:\n",
        "    if esPera(arreglo[0]):\n",
        "      nPeras += 1\n",
        "    nPeras = perasBananas(arreglo[1:], nPeras)\n",
        "  if len(arreglo) / 2 < nPeras:\n",
        "    return True\n",
        "  return False\n",
        "\n",
        "\n",
        "arr1 = np.array([\"pera\", \"banana\", \"pera\", \"pera\", \"banana\"])\n",
        "arr2 = np.array([\"pera\", \"banana\", \"banana\", \"pera\", \"banana\"])\n",
        "arr3 = np.array([\"pera\", \"banana\", \"banana\", \"pera\"])\n",
        "\n",
        "print(perasBananas(arr3))\n"
      ]
    },
    {
      "cell_type": "markdown",
      "source": [
        "En unaHur nos pidieron ayuda para poder tomar exámenes en los laboratorios.\n",
        "Un examen tiene una fecha (se puede asumir que ya se tiene ese TDA con todas las operaciones necesarias) y un laboratorio con cierta capacidad. El laboratorio tiene una cantidad de hileras con mesas y cada hilera tiene la misma cantidad de mesas.\n",
        "Lo que se necesita hacer es asignar una fecha al examen y en qué mesas se tiene que sentar cada alumno (Se debe sentar un alumno por mesa).\n",
        "El criterio para “sentar” los alumnos es:\n",
        "No puede haber 2 alumnos consecutivos en la misma hilera (no se puede tener a otro alumno a los lados).\n",
        "Implementar el TDA Examen que contenga al menos las siguientes operaciones:\n",
        "Crear un examen:\n",
        "\tQue recibe la fecha, la cantidad de hileras y la cantidad de mesas por hilera del laboratorio.\n",
        "\n",
        "\n",
        "Asignar lugares:\n",
        "Que recibe la cantidad de alumnos que se desean acomodar y los acomoda en el laboratorio. Asumir que la cantidad de alumnos entran de manera que estén separados con el criterio establecido.\n",
        "Empezar de nuevo:\n",
        "\tQue deja el  laboratorio sin asignar (vacío).\n",
        "Mostrar el laboratorio:\n",
        "\tQue muestra las mesas, indicando 1 si está asignada a un alumno o 0 sino.\n",
        "\n",
        "\n",
        "No son las únicas operaciones necesarias, agregar las operaciones y funciones que consideren necesarios, como por ejemplo __repr__.\n",
        "\n",
        "\n",
        "Ejemplo:\n",
        "Si creamos un examen para el “19/9/2022” con 5 hileras de 6 mesas c/u y luego asignamos 9 alumnos.\n",
        "Entonces, print(examen) luego de asignar, debería devolver algo parecido a esto:\n",
        "“19/9/2022”\n",
        "\n",
        "En donde se puede ver que se asignaron 9 lugares no consecutivos en las hileras. No hace falta dibujar las líneas, sólo los lugares.\n"
      ],
      "metadata": {
        "id": "xH-nsbIo6r2Y"
      }
    },
    {
      "cell_type": "code",
      "source": [
        "import numpy as np\n",
        "class Examen:\n",
        "  def __init__(self, fecha , cantHileras : int , cantMesas : int):\n",
        "    self.__fecha = fecha #validarTipo(fecha, \"fecha\")\n",
        "    self.__cantHileras = cantHileras\n",
        "    self.__cantMesas = cantMesas\n",
        "    self.__laboratorio = np.zeros((self.__cantMesas, self.__cantHileras), int)\n",
        "\n",
        "  def __repr__(self):\n",
        "    return f\"{self.__fecha} {str(self.__laboratorio)}\"\n",
        "\n",
        "  def crearExamen(fecha , hileras : int, mesas : int) -> None:\n",
        "    return Examen(fecha,hileras,mesas)\n",
        "\n",
        "  def asignarLugar(self, cantAlumnos : int) -> None:\n",
        "    nFilas,nCol = self.__laboratorio.shape\n",
        "    contador = 0\n",
        "    for posFila in range(nFilas):\n",
        "      for posCol in range(nCol):\n",
        "        if contador == cantAlumnos: #Si contador no llega a la cantDeAlumnos sigue al otro if, sino break\n",
        "          return  self.__laboratorio\n",
        "        elif posCol == 0 and self.__laboratorio[posFila,posCol] == 0: #El primero de la fila: posCol == 0\n",
        "          self.__laboratorio[posFila,posCol] = 1\n",
        "          contador +=1\n",
        "        elif self.__laboratorio[posFila,posCol] == 0 and self.__laboratorio[posFila,posCol-1] != 1:\n",
        "          self.__laboratorio[posFila,posCol] = 1\n",
        "          contador +=1\n",
        "\n",
        "  def empezarDeNuevo(self) -> None:\n",
        "    nFilas,nCol = self.__laboratorio.shape\n",
        "    for posFila in range(nFilas):\n",
        "      for posCol in range(nCol):\n",
        "        self.__laboratorio[posFila,posCol] = 0\n",
        "\n",
        "  def mostrarLaboratorio(self):\n",
        "    return str(self.__laboratorio)\n",
        "\n",
        "mod= Examen.crearExamen(12,5,6)\n",
        "\n"
      ],
      "metadata": {
        "id": "PvgjltkI60fX"
      },
      "execution_count": null,
      "outputs": []
    }
  ]
}