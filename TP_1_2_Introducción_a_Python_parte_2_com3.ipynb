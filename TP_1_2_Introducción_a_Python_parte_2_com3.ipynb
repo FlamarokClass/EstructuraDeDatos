{
  "nbformat": 4,
  "nbformat_minor": 0,
  "metadata": {
    "colab": {
      "provenance": [],
      "include_colab_link": true
    },
    "kernelspec": {
      "name": "python3",
      "display_name": "Python 3"
    }
  },
  "cells": [
    {
      "cell_type": "markdown",
      "metadata": {
        "id": "view-in-github",
        "colab_type": "text"
      },
      "source": [
        "<a href=\"https://colab.research.google.com/github/FlamarokClass/EstructuraDeDatos/blob/master/TP_1_2_Introducci%C3%B3n_a_Python_parte_2_com3.ipynb\" target=\"_parent\"><img src=\"https://colab.research.google.com/assets/colab-badge.svg\" alt=\"Open In Colab\"/></a>"
      ]
    },
    {
      "cell_type": "markdown",
      "metadata": {
        "id": "42630xxYD0gZ"
      },
      "source": [
        "# ![alt text](https://upload.wikimedia.org/wikipedia/commons/thumb/c/c3/Python-logo-notext.svg/50px-Python-logo-notext.svg.png) **Trabajo Práctico 1: Introducción a Python Parte 2** ![alt text](https://upload.wikimedia.org/wikipedia/commons/thumb/c/c3/Python-logo-notext.svg/50px-Python-logo-notext.svg.png)\n",
        "\n",
        "En este trabajo práctico, vamos a ir resolviendo ejercicios que nos permitan aprender a usar funciones y procedimientos en Python.\n",
        "\n",
        "La idea es que ustedes vayan resolviendo los ejercicios sin la necesidad de instalarse nada en sus computadoras.\n",
        "Antes que nada, creen una copia de este archivo en su ***Google Drive*** para tener permisos de edición, luego pueden compartirlo con quien quieran, tengan cuidado con los permisos al momento de compartir!!!!!!!. Si quieren, nos pueden compartir su documento a los docentes para que hagamos las correcciones.\n",
        "\n",
        "### **florencia.dias@unahur.edu.ar** ###"
      ]
    },
    {
      "cell_type": "code",
      "source": [
        "#Procedimiento:\n",
        "def procedimiento():\n",
        "  print(\"Hola mundo!\")\n",
        "\n",
        "procedimiento()"
      ],
      "metadata": {
        "id": "icIIjx0R9b4q"
      },
      "execution_count": null,
      "outputs": []
    },
    {
      "cell_type": "markdown",
      "metadata": {
        "id": "DyzOhAhyXPt8"
      },
      "source": [
        "### **Ejercicio 1**\n",
        "\n",
        "Escribir un procedimiento que muestre por pantalla la cadena “Hola mundo!!!” cada vez que se la invoque"
      ]
    },
    {
      "cell_type": "code",
      "metadata": {
        "id": "e_93vxkBXYpi",
        "colab": {
          "base_uri": "https://localhost:8080/"
        },
        "outputId": "9f8ca4f7-7410-47e6-dac7-e3b523554c30"
      },
      "source": [
        "def imprimirHolaMundo():\n",
        "  mensaje = print(\"Hola mundo!!!\")\n",
        "  return mensaje\n",
        "\n",
        "n = imprimirHolaMundo()"
      ],
      "execution_count": null,
      "outputs": [
        {
          "output_type": "stream",
          "name": "stdout",
          "text": [
            "Hola mundo!!!\n"
          ]
        }
      ]
    },
    {
      "cell_type": "markdown",
      "metadata": {
        "id": "_9YcxspbXZQl"
      },
      "source": [
        "### **Ejercicio 2**\n",
        "\n",
        "Escribir un procedimiento que se le pase por parámetros una cadena 'nombre' y muestre por pantalla: “Hola 'nombre'!!!”"
      ]
    },
    {
      "cell_type": "code",
      "metadata": {
        "id": "GpqCZL84ZSCo",
        "colab": {
          "base_uri": "https://localhost:8080/"
        },
        "outputId": "5cf6a193-384b-49e4-8bcb-1d49eb4988e5"
      },
      "source": [
        "def imprimirSaludo():\n",
        "  nombre = input(\"Indique Su nombre: \")\n",
        "  mensaje = print(\"Hola \" + nombre.capitalize() +\" !!!\")\n",
        "  return\n",
        "\n",
        "n= imprimirSaludo()"
      ],
      "execution_count": null,
      "outputs": [
        {
          "output_type": "stream",
          "name": "stdout",
          "text": [
            "Indique Su nombre: franco\n",
            "Hola Franco !!!\n"
          ]
        }
      ]
    },
    {
      "cell_type": "markdown",
      "metadata": {
        "id": "rXKNqmsmXgLa"
      },
      "source": [
        "### **Ejercicio 3**\n",
        "\n",
        "Escribir una función que calcule y retorne el factorial de un número natural. La operación factorial (!) se define de la siguiente manera:\n",
        "\n",
        "![image.png](data:image/png;base64,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)"
      ]
    },
    {
      "cell_type": "code",
      "metadata": {
        "id": "Qkc-t1FnZB1q",
        "colab": {
          "base_uri": "https://localhost:8080/"
        },
        "outputId": "3f0e0d9a-e7f9-48f0-80c2-2e7af7768eb8"
      },
      "source": [
        "def factorial(unNumero):\n",
        "  valor = 1\n",
        "  for i in range(1,unNumero+1):\n",
        "    valor = valor * i\n",
        "  return int(valor)\n",
        "\n",
        "factorial(10)"
      ],
      "execution_count": null,
      "outputs": [
        {
          "output_type": "stream",
          "name": "stdout",
          "text": [
            "1\n",
            "2\n",
            "3\n",
            "4\n",
            "5\n",
            "6\n",
            "7\n",
            "8\n",
            "9\n",
            "10\n"
          ]
        },
        {
          "output_type": "execute_result",
          "data": {
            "text/plain": [
              "3628800"
            ]
          },
          "metadata": {},
          "execution_count": 3
        }
      ]
    },
    {
      "cell_type": "markdown",
      "metadata": {
        "id": "731rz7uWYpu6"
      },
      "source": [
        "### **Ejercicio 4**\n",
        "\n",
        "Escribir una función que calcule el total de una factura tras aplicarle el IVA. La función debe recibir el importe sin IVA y el porcentaje de IVA a aplicar, y devolver el total de la factura. Si se invoca la función sin pasarle el porcentaje de IVA, deberá aplicar un 21%."
      ]
    },
    {
      "cell_type": "code",
      "metadata": {
        "id": "WB1dL_lPZkNY"
      },
      "source": [
        "def valorConIVA(precioSinIVA:float, porcentajeIVA:float=21.0)->float:\n",
        "  #precio+precio*porc/100 = precio*(1+porc/100)\n",
        "  precioConIVA = (1+porcentajeIVA/100)*precioSinIVA\n",
        "  return precioConIVA"
      ],
      "execution_count": null,
      "outputs": []
    },
    {
      "cell_type": "code",
      "source": [
        "precio = valorConIVA(32423432.12)\n",
        "print(precio)"
      ],
      "metadata": {
        "colab": {
          "base_uri": "https://localhost:8080/"
        },
        "id": "Pe-E0EO5pMvK",
        "outputId": "9b8b6dee-73a7-4abf-866d-343ccee6fd55"
      },
      "execution_count": null,
      "outputs": [
        {
          "output_type": "stream",
          "name": "stdout",
          "text": [
            "39232352.8652\n"
          ]
        }
      ]
    },
    {
      "cell_type": "markdown",
      "metadata": {
        "id": "RB5dqJlrZSXp"
      },
      "source": [
        "### **Ejercicio 5**\n",
        "\n",
        "Escribir la función máximo, que recibe 2 números por parámetro y retorna el mayor. Luego, usando esta función, escriba un programa que pida 10 números al usuario por teclado y al finalizar informe el mayor por pantalla."
      ]
    },
    {
      "cell_type": "code",
      "metadata": {
        "id": "1NSOScKYY5lJ"
      },
      "source": [
        "def mayor():\n",
        "  condicion = 0\n",
        "  resultado = 0\n",
        "  while condicion != 10:\n",
        "    numero = int(input(\"Indique un valor entero positivo: \"))\n",
        "    condicion += 1\n",
        "    if numero <= resultado:\n",
        "      resultado = resultado\n",
        "    elif numero >= resultado :\n",
        "      resultado = numero\n",
        "  return resultado\n",
        "\n",
        "## 2da Manera con for\n",
        "\n",
        "def maximo(num1,num2):\n",
        "  maxNum = 0\n",
        "  if num1 > num2:\n",
        "    maxNum = num1\n",
        "  else: maxNum = num2\n",
        "\n",
        "\n",
        "mayor = None\n",
        "\n",
        "for i in range(10):\n",
        "  numero = float(input(f\"Instroduce el número {i + 1 }: \"))\n",
        "  if mayor is None : # Primer numero ingresado\n",
        "    mayor = numero\n",
        "  else:\n",
        "    mayor = maximo(mayor, numero)\n",
        "\n",
        "\n",
        "n = mayor()"
      ],
      "execution_count": null,
      "outputs": []
    },
    {
      "cell_type": "markdown",
      "metadata": {
        "id": "Bv97mRL7Yy6l"
      },
      "source": [
        "### **Ejercicio 6**\n",
        "\n",
        "Escribir una función que calcule el área de un círculo y otra que calcule el volumen de un cilindro usando la primera función."
      ]
    },
    {
      "cell_type": "code",
      "metadata": {
        "id": "uggVmXI7YyZQ",
        "colab": {
          "base_uri": "https://localhost:8080/"
        },
        "outputId": "7a3bf5b6-d4bb-4c95-b26d-35ebaf38e5e9"
      },
      "source": [
        "def areaCirculo(radio):\n",
        "  calculo = 3.1416 * radio**2\n",
        "  return calculo\n",
        "\n",
        "def volumenCilindro(radio, altura):\n",
        "  calculo = areaCirculo(radio) * altura\n",
        "  return calculo\n",
        "\n",
        "volumen = volumenCilindro(4,6)\n",
        "print(f\"el Volumen del cilindro es: {volumen}\")"
      ],
      "execution_count": null,
      "outputs": [
        {
          "output_type": "stream",
          "name": "stdout",
          "text": [
            "el Volumen del cilindro es: 301.5936\n"
          ]
        }
      ]
    },
    {
      "cell_type": "markdown",
      "metadata": {
        "id": "e81MQrmWY6fp"
      },
      "source": [
        "### **Ejercicio 7**\n",
        "\n",
        "Escribir una función que recibe tres números enteros por parámetros, calcula el promedio y retorna “APROBADO” si el promedio es mayor o igual a 7 o “DESAPROBADO” si es menor.\n",
        "       "
      ]
    },
    {
      "cell_type": "code",
      "metadata": {
        "id": "DE1ZB_SqXnb6",
        "colab": {
          "base_uri": "https://localhost:8080/"
        },
        "outputId": "ed4a710e-752b-49c8-e62a-6344b8aaec75"
      },
      "source": [
        "def notas(primera,segunda,tercera):\n",
        "  resultado = (primera + segunda + tercera) / 3\n",
        "  if resultado >= 7:\n",
        "    mensaje = \"APROBADO\"\n",
        "  else: mensaje = \"DESAPROBADO\"\n",
        "  return mensaje\n",
        "\n",
        "nota = notas(4,4,6)\n",
        "print(f\"La Nota final es: {nota}\")"
      ],
      "execution_count": null,
      "outputs": [
        {
          "output_type": "stream",
          "name": "stdout",
          "text": [
            "El promedio final es: DESAPROBADO\n"
          ]
        }
      ]
    },
    {
      "cell_type": "markdown",
      "metadata": {
        "id": "HmR1kFhbZCRR"
      },
      "source": [
        "### **Ejercicio 8**\n",
        "\n",
        "Escribir una función que recibe dos números enteros mayores que 1, n y m, y retorna la potencia n a la m. Resolver con una estructura de control repetitiva, **NO** con el operador potencia de Python"
      ]
    },
    {
      "cell_type": "code",
      "metadata": {
        "id": "XiMBGGvuXf1q",
        "colab": {
          "base_uri": "https://localhost:8080/"
        },
        "outputId": "990e753c-bae6-4913-9abe-1008af4add7e"
      },
      "source": [
        "def potencia(base,exponente):\n",
        "  if base < 1 or exponente < 1:\n",
        "    resultado = \"ERROR\"\n",
        "  else:\n",
        "    auxiliar = base\n",
        "    for i in range(exponente-1):\n",
        "      auxiliar = auxiliar * base\n",
        "      resultado = auxiliar\n",
        "  return resultado\n",
        "\n",
        "potenciaResultante = potencia(4,5)\n",
        "print(f\"La potencia resultante es: {potenciaResultante}\")"
      ],
      "execution_count": null,
      "outputs": [
        {
          "output_type": "stream",
          "name": "stdout",
          "text": [
            "La potencia resultante es: 1024\n"
          ]
        }
      ]
    },
    {
      "cell_type": "markdown",
      "metadata": {
        "id": "3NBO6ixQZccL"
      },
      "source": [
        "### **Ejercicio 9**\n",
        "\n",
        "Escribir una función que dado un tiempo en horas, minutos y segundos retorne esa misma cantidad en segundos."
      ]
    },
    {
      "cell_type": "code",
      "source": [
        "def cantidadDeSegundos(horas:int, minutos:int, segundos:int):\n",
        "    h = horas * 3600\n",
        "    m = minutos * 60\n",
        "    s = segundos\n",
        "    return (h + m + s)"
      ],
      "metadata": {
        "id": "q8mO1Zgnh3WZ"
      },
      "execution_count": null,
      "outputs": []
    },
    {
      "cell_type": "code",
      "metadata": {
        "id": "gYn1Oslemq5f"
      },
      "source": [
        "#def tiempoAsegundos(nHoras, nMinutos, nSegundos):\n",
        "def tiempoASegundos(nHoras:int=0, nMinutos:int=0, nSegundos:int=0)->int:\n",
        "   tiempoSegundos = 0\n",
        "   tiempoSegundos = nSegundos + nMinutos*60 + nHoras*3600\n",
        "   return tiempoSegundos"
      ],
      "execution_count": null,
      "outputs": []
    },
    {
      "cell_type": "code",
      "source": [
        "h = 3\n",
        "m = 45\n",
        "s = 34\n",
        "print(tiempoASegundos(nMinutos=m,nHoras=h,nSegundos=s))"
      ],
      "metadata": {
        "colab": {
          "base_uri": "https://localhost:8080/"
        },
        "id": "MstaU0mugde6",
        "outputId": "7c5d6b47-42da-41c8-d2a3-a84212de5ffa"
      },
      "execution_count": null,
      "outputs": [
        {
          "output_type": "stream",
          "name": "stdout",
          "text": [
            "13534\n"
          ]
        }
      ]
    },
    {
      "cell_type": "markdown",
      "metadata": {
        "id": "RwmzPtIrC3b8"
      },
      "source": [
        "### **Ejercicio 10**\n",
        "\n",
        "Escribir una función que dado un año, retorne verdadero si es bisiesto y falso en caso contrario.\n",
        "\n",
        "Nota: Los años bisiestos son múltiplos de 4 y no son múltiplos de 100, pero los años múltiplos de 400 si son bisiestos.\n",
        "Estos son algunos ejemplos de posibles respuestas: 2012 es bisiesto, 2010 no es bisiesto, 2000 es bisiesto, 1900 no es bisiesto"
      ]
    },
    {
      "cell_type": "code",
      "metadata": {
        "id": "Q0DrTpXuC4Be",
        "colab": {
          "base_uri": "https://localhost:8080/"
        },
        "outputId": "d7d459cb-1f51-44de-fbad-8c08b25da722"
      },
      "source": [
        "anioIndicado = int(input(\"Indique un año: \"))\n",
        "\n",
        "def esBiciesto(unAnio):\n",
        "  resultado = False\n",
        "  if (unAnio % 4 == 0 and unAnio % 100 != 0 or unAnio % 400 == 0):\n",
        "      resultado = True\n",
        "  else: resultado\n",
        "  return resultado\n",
        "\n",
        "print(esBiciesto(anioIndicado))"
      ],
      "execution_count": null,
      "outputs": [
        {
          "output_type": "stream",
          "name": "stdout",
          "text": [
            "Indique un año: 2012\n",
            "True\n"
          ]
        }
      ]
    },
    {
      "cell_type": "markdown",
      "metadata": {
        "id": "LxYbcNCsDVrv"
      },
      "source": [
        "### **Ejercicio 11**\n",
        "\n",
        "Escribir un programa que pida dos años y escriba cuántos años bisiestos hay entre esas dos fechas (incluidos los dos años)."
      ]
    },
    {
      "cell_type": "code",
      "metadata": {
        "id": "2cgCZHNZDWKZ",
        "colab": {
          "base_uri": "https://localhost:8080/"
        },
        "outputId": "e55f1d28-91ac-475c-faef-ebcad1144ebe"
      },
      "source": [
        "anioUno= int(input(\"Indique un año: \"))\n",
        "anioDos= int(input(\"Indique otro año: \"))\n",
        "\n",
        "def cantidadDeBiciestos(primerAnio, segundoAnio):\n",
        "  contador = 0\n",
        "  for i in range(primerAnio,segundoAnio):\n",
        "    if (esBiciesto(i) == True):\n",
        "      contador += 1\n",
        "  return contador\n",
        "\n",
        "print(cantidadDeBiciestos(anioUno, anioDos))"
      ],
      "execution_count": null,
      "outputs": [
        {
          "output_type": "stream",
          "name": "stdout",
          "text": [
            "Indique un año: 2000\n",
            "Indique otro año: 2012\n",
            "3\n"
          ]
        }
      ]
    },
    {
      "cell_type": "markdown",
      "metadata": {
        "id": "jGQ_YK4kEbDk"
      },
      "source": [
        "### **Ejercicio 12**\n",
        "\n",
        "Escribir una función que tome por parámetro un numero entero y retorne la suma de sus dígitos. Para obtener los digitos deben ir dividiendo (division entera) por 10 sucesivamente y tomando el resto (digito que esta mas a la derecha)."
      ]
    },
    {
      "cell_type": "code",
      "metadata": {
        "id": "MMOb923zEb3L",
        "colab": {
          "base_uri": "https://localhost:8080/"
        },
        "outputId": "c02cda5d-dab0-4a0d-f50e-e1595a1118f9"
      },
      "source": [
        "numeroACalcular = int(input(\"Indique un numero: \"))\n",
        "\n",
        "def sumarDigitos(unNumero):\n",
        "  cantidad = 0\n",
        "  for i in range(len(str(unNumero))):\n",
        "    cantidad += unNumero % 10\n",
        "    unNumero = unNumero // 10\n",
        "  return cantidad\n",
        "\n",
        "print(sumarDigitos(numeroACalcular))"
      ],
      "execution_count": null,
      "outputs": [
        {
          "output_type": "stream",
          "name": "stdout",
          "text": [
            "Indique un numero: 123\n",
            "6\n"
          ]
        }
      ]
    },
    {
      "cell_type": "markdown",
      "metadata": {
        "id": "vezlqxF8FJh3"
      },
      "source": [
        "\n",
        "### **Ejercicio 13**\n",
        "\n",
        "Escribir un programa que pida números positivos (Debe dejar de pedir números cuando se ingrese uno negativo). Mostrar el número cuya sumatoria de dígitos fue mayor y la cantidad de números cuya sumatoria de dígitos fue menor que 10. Utilizar una o más funciones, según sea necesario."
      ]
    },
    {
      "cell_type": "code",
      "source": [
        "def cantidadDigitos(numero:int)->int:\n",
        "  cantCifras = 0\n",
        "  while numero!=0:\n",
        "    numero //= 10\n",
        "    cantCifras += 1\n",
        "  return cantCifras\n",
        "#3445//10 = 344\n",
        "#3445%10 = 5\n",
        "def sumaDigitos(numero:int)->int:\n",
        "  sumaDeDigitos = 0\n",
        "  while numero!=0:\n",
        "    #print(numero)\n",
        "    #print(numero//10)\n",
        "    #print(numero%10)\n",
        "    sumaDeDigitos += numero%10\n",
        "    numero //= 10\n",
        "  return sumaDeDigitos\n",
        "\n",
        "sumatoria = sumaDigitos(1234)\n",
        "print(f\"Resultado de la sumatoria es: {sumatoria}\")"
      ],
      "metadata": {
        "id": "Ti6C_X66HWQL",
        "colab": {
          "base_uri": "https://localhost:8080/"
        },
        "outputId": "ec2054c5-1e92-482b-bf91-81b75d5d930d"
      },
      "execution_count": null,
      "outputs": [
        {
          "output_type": "stream",
          "name": "stdout",
          "text": [
            "Resultado de la sumatoria es:10\n"
          ]
        }
      ]
    },
    {
      "cell_type": "code",
      "source": [
        "sumaDigitosMenorDiez = 0\n",
        "mayorSumaDigitos = int(input(\"Ingrese un numero: \"))\n",
        "numeroActual = mayorSumaDigitos\n",
        "while numeroActual > 0:\n",
        "  if sumaDigitos(numeroActual) < 10:\n",
        "    sumaDigitosMenorDiez += 1\n",
        "  if sumaDigitos(numeroActual) > sumaDigitos(mayorSumaDigitos):\n",
        "    mayorSumaDigitos = numeroActual\n",
        "  numeroActual = int(input(\"Ingrese un numero: \"))\n",
        "\n",
        "print(mayorSumaDigitos, sumaDigitosMenorDiez)"
      ],
      "metadata": {
        "colab": {
          "base_uri": "https://localhost:8080/"
        },
        "id": "Cl-CM8UIlAI3",
        "outputId": "7f8ce948-06c1-4f03-b53a-34760e1404b6"
      },
      "execution_count": null,
      "outputs": [
        {
          "output_type": "stream",
          "name": "stdout",
          "text": [
            "Ingrese un numero: 2\n",
            "Ingrese un numero: 10\n",
            "Ingrese un numero: 5\n",
            "Ingrese un numero: 6\n",
            "Ingrese un numero: 34\n",
            "Ingrese un numero: 456\n",
            "Ingrese un numero: 1\n",
            "Ingrese un numero: 3\n",
            "Ingrese un numero: 4\n",
            "Ingrese un numero: 0\n",
            "456 8\n"
          ]
        }
      ]
    },
    {
      "cell_type": "markdown",
      "metadata": {
        "id": "Jn223k7dFW0V"
      },
      "source": [
        "### **Ejercicio 14**\n",
        "\n",
        "Escribir un programa que solicita el ingreso de números primos. La lectura finalizará cuando ingrese un número que no sea primo. Por cada número, mostrar la suma de sus dígitos. Al finalizar el programa, mostrar el factorial del mayor número ingresado. Utilizar una o más funciones, según sea necesario."
      ]
    },
    {
      "cell_type": "code",
      "metadata": {
        "id": "fxcc6N6VFXWx",
        "colab": {
          "base_uri": "https://localhost:8080/"
        },
        "outputId": "47dbc2ce-b590-46f7-a938-9851b39ac766"
      },
      "source": [
        "#esPrimo:int -> bool\n",
        "def esPrimo(unNumero):\n",
        "  sumar = 0\n",
        "  for i in range(1,11):\n",
        "   if(unNumero % i == 0):\n",
        "     sumar += 1\n",
        "  resultado = False\n",
        "  if (sumar <= 2):\n",
        "    resultado = True\n",
        "  else: resultado\n",
        "  return resultado\n",
        "\n",
        "#sumaDigitos:int -> int\n",
        "#factorial:int -> int\n",
        "def factorial(unNumero):\n",
        "  valor = 1\n",
        "  for i in range(1,unNumero+1):\n",
        "    valor = valor * i\n",
        "  return int(valor)\n",
        "\n",
        "#mayor:int:int -> int\n",
        "def mayor(valorUno, valorDos):\n",
        "  if (valorUno >= valorDos):\n",
        "    resultado = valorUno\n",
        "  elif(valorDos > valorUno):\n",
        "    resultado = valorDos\n",
        "  return resultado\n",
        "\n",
        "def noEsPrimo():\n",
        "  numero = int(input(\"Ingrese numeros primos: \"))\n",
        "  numeroAnterior = numero\n",
        "  while esPrimo(numero) != False:\n",
        "    numero = int(input(\"Ingrese numeros primos: \"))\n",
        "    print(sumarDigitos(numero))\n",
        "    numeroMayor = mayor(numero, numeroAnterior)\n",
        "  return factorial(numeroMayor)\n",
        "\n",
        "print(f\"El resultado factorial del mayor numero ingresado es: {noEsPrimo()} \")"
      ],
      "execution_count": null,
      "outputs": [
        {
          "output_type": "stream",
          "name": "stdout",
          "text": [
            "Ingrese numeros primos: 3\n",
            "Ingrese numeros primos: 7\n",
            "7\n",
            "Ingrese numeros primos: 11\n",
            "2\n",
            "Ingrese numeros primos: 14\n",
            "5\n"
          ]
        },
        {
          "output_type": "execute_result",
          "data": {
            "text/plain": [
              "87178291200"
            ]
          },
          "metadata": {},
          "execution_count": 103
        }
      ]
    }
  ]
}