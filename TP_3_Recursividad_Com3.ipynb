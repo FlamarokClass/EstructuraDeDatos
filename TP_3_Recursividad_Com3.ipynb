{
  "nbformat": 4,
  "nbformat_minor": 0,
  "metadata": {
    "colab": {
      "provenance": [],
      "include_colab_link": true
    },
    "kernelspec": {
      "name": "python3",
      "display_name": "Python 3"
    }
  },
  "cells": [
    {
      "cell_type": "markdown",
      "metadata": {
        "id": "view-in-github",
        "colab_type": "text"
      },
      "source": [
        "<a href=\"https://colab.research.google.com/github/FlamarokClass/EstructuraDeDatos/blob/master/TP_3_Recursividad_Com3.ipynb\" target=\"_parent\"><img src=\"https://colab.research.google.com/assets/colab-badge.svg\" alt=\"Open In Colab\"/></a>"
      ]
    },
    {
      "cell_type": "markdown",
      "metadata": {
        "id": "42630xxYD0gZ"
      },
      "source": [
        "# ![alt text](https://upload.wikimedia.org/wikipedia/commons/thumb/c/c3/Python-logo-notext.svg/50px-Python-logo-notext.svg.png) **Trabajo Práctico 3: Recursividad** ![alt text](https://upload.wikimedia.org/wikipedia/commons/thumb/c/c3/Python-logo-notext.svg/50px-Python-logo-notext.svg.png)\n",
        "\n",
        "En este trabajo práctico, vamos a trabajar con el concepto de recursividad en Python. Recuerden crear una copia de este archivo en su ***Google Drive*** para tener permisos de edición.\n",
        "\n",
        "### **florencia.dias@unahur.edu.ar** ###"
      ]
    },
    {
      "cell_type": "markdown",
      "metadata": {
        "id": "xjXgmD3mskbR"
      },
      "source": [
        "### **Ejercicio 1**\n",
        "\n",
        "Implementar una función que calcule el factorial de un número de forma recursiva"
      ]
    },
    {
      "cell_type": "code",
      "source": [
        "def factorial(num):\n",
        "  resultado = 0\n",
        "  if num < 0:\n",
        "    raise Exception(\"No es numero entero\")\n",
        "  if num == 0:\n",
        "    return 1\n",
        "  if num >= 0 :\n",
        "    resultado = num * factorial(num-1)\n",
        "    print(num,resultado)\n",
        "    return resultado\n",
        "\n",
        "print(factorial(5))"
      ],
      "metadata": {
        "id": "8fVp2blSfezs",
        "colab": {
          "base_uri": "https://localhost:8080/"
        },
        "outputId": "14f183a4-a0d7-4878-ed7d-0a46290909ef"
      },
      "execution_count": null,
      "outputs": [
        {
          "output_type": "stream",
          "name": "stdout",
          "text": [
            "1 1\n",
            "2 2\n",
            "3 6\n",
            "4 24\n",
            "5 120\n",
            "120\n"
          ]
        }
      ]
    },
    {
      "cell_type": "markdown",
      "metadata": {
        "id": "oQU_Yv1QuOXm"
      },
      "source": [
        "### **Ejercicio 2**\n",
        "\n",
        "Una canilla de una casa pierde agua de forma que todos los días pierde 2 gotas más que el día anterior. Escribir una función recursiva que calcule cuantas gotas perderá la canilla el día N. El primer día solo perdía dos gotas."
      ]
    },
    {
      "cell_type": "code",
      "metadata": {
        "id": "3QmA2qDGvs2d",
        "colab": {
          "base_uri": "https://localhost:8080/"
        },
        "outputId": "68a54e2f-db7a-4650-eae1-5efad445c72c"
      },
      "source": [
        "def canilla(dias):\n",
        "  if dias < 0:\n",
        "    raise Exception (\"Debe ser un Numero entero\")\n",
        "  resultado = None\n",
        "  elif dias == 1:\n",
        "    return 2\n",
        "  elif dias > 1:\n",
        "    resultado = 2 + canilla(dias-1) # gotas del dia anterior + 2 gotas\n",
        "    print(dias,resultado)\n",
        "    return resultado\n",
        "\n",
        "canilla1 = canilla(6)"
      ],
      "execution_count": null,
      "outputs": [
        {
          "output_type": "stream",
          "name": "stdout",
          "text": [
            "2 4\n",
            "3 6\n",
            "4 8\n",
            "5 10\n",
            "6 12\n"
          ]
        }
      ]
    },
    {
      "cell_type": "markdown",
      "metadata": {
        "id": "mJwO1DVLJ5q2"
      },
      "source": [
        "### **Ejercicio 3**\n",
        "\n",
        "Implementar una función recursiva que calcule los números de la serie de Fibonacci. La función para generar la serie de Fibonacci es la siguiente (donde N es el índice del número en la serie):\n",
        "\n",
        "![alt text](https://matematicasmodernas.com/wp-content/uploads/2014/03/EcuacionF.jpg)\n",
        "\n",
        "Luego escribir un programa que pida un número N (mayor o igual a 0) al usuario e imprima por pantalla los primeros N números de la serie de Fibonacci\n",
        "\n",
        "Sobre la sucesion de Fibonacci: https://www.vix.com/es/btg/curiosidades/4461/que-es-la-sucesion-de-fibonacci\n",
        "\n",
        "\n"
      ]
    },
    {
      "cell_type": "code",
      "metadata": {
        "id": "Hg30Eej9pP3Q",
        "colab": {
          "base_uri": "https://localhost:8080/"
        },
        "outputId": "8ed46d6a-b71c-4bf0-b1ad-3aac4ded9975"
      },
      "source": [
        "def fibo(numero):\n",
        "  resultado = 0\n",
        "  if numero == 0:\n",
        "    return 0\n",
        "  elif numero == 1:\n",
        "    return 1\n",
        "  elif numero > 1 :\n",
        "    resultado = fibo(numero-1) + fibo(numero-2) # ACA SI HAY UNA SUMATORIA\n",
        "    print(numero, resultado)\n",
        "    return resultado\n",
        "\n",
        "\n",
        "fibo1= fibo(7)"
      ],
      "execution_count": null,
      "outputs": [
        {
          "output_type": "stream",
          "name": "stdout",
          "text": [
            "2 1\n",
            "3 2\n",
            "2 1\n",
            "4 3\n",
            "2 1\n",
            "3 2\n",
            "5 5\n",
            "2 1\n",
            "3 2\n",
            "2 1\n",
            "4 3\n",
            "6 8\n",
            "2 1\n",
            "3 2\n",
            "2 1\n",
            "4 3\n",
            "2 1\n",
            "3 2\n",
            "5 5\n",
            "7 13\n"
          ]
        }
      ]
    },
    {
      "cell_type": "markdown",
      "metadata": {
        "id": "5LOgT_WupRbE"
      },
      "source": [
        "### **Ejercicio 4**\n",
        "\n",
        "Escribir una función recursiva que calcule el número triangular de índice N. El número triangular de índice N es la suma de todos los números desde 1 hasta N.\n",
        "\n",
        "Algunos ejemplos:\n",
        "\n",
        "*T(1) = 1*\n",
        "\n",
        "*T(2) = 1 + 2*\n",
        "\n",
        "*T(3) = 1 + 2 + 3*\n",
        "\n",
        "*T(4) = 1 + 2 + 3 + 4*\n",
        "\n",
        "*T(5) = 1 + 2 + 3 + 4 + 5*\n",
        "\n",
        "...\n",
        "\n",
        "*T(N) = 1 + 2 + 3 + 4 + ... + N*"
      ]
    },
    {
      "cell_type": "code",
      "metadata": {
        "id": "553FmJ6pqii-",
        "colab": {
          "base_uri": "https://localhost:8080/"
        },
        "outputId": "77a992c3-5539-490c-c291-b574ecadd52d"
      },
      "source": [
        "#T(N) = N + T(N-1)\n",
        "\n",
        "def calcularNumeroTriangular(numero):\n",
        "  calculo = 0\n",
        "  if(numero < 0):\n",
        "    raise Exception(\"No se puede\")\n",
        "  elif(numero == 1):\n",
        "    return 1\n",
        "  elif(numero > 1):\n",
        "    calculo = numero + calcularNumeroTriangular(numero-1) # la variable almacena la suma de todos los numeros desde 1 a numero\n",
        "    print(numero,calculo)\n",
        "    return calculo\n",
        "\n",
        "triangulo = calcularNumeroTriangular(4)"
      ],
      "execution_count": null,
      "outputs": [
        {
          "output_type": "stream",
          "name": "stdout",
          "text": [
            "2 3\n",
            "3 6\n",
            "4 10\n"
          ]
        }
      ]
    },
    {
      "cell_type": "markdown",
      "metadata": {
        "id": "7JAbyL8nqjZW"
      },
      "source": [
        "### **Ejercicio 5**\n",
        "\n",
        "En las redes sociales se produce una continua interacción y cada vez que un usuario realiza una acción, la comunidad se modifica. Suponiendo que un *influencer* que usa ***Instagram*** cada vez que postea algo, aumenta su cantidad de seguidores según la siguiente regla:\n",
        "- Durante los primeros 20 posteos, siempre suma una cantidad fija de 1000 (mil) seguidores en cada uno.\n",
        "- A partir del posteo 21, la cantidad de seguidores duplica la cantidad previa de seguidores, mas  500 seguidores extra.\n",
        "\n",
        "Implementar una función recursiva que permita saber cuantos seguidores tendra el *Instagramer* luego de una cantidad determinada de posteos."
      ]
    },
    {
      "cell_type": "code",
      "metadata": {
        "id": "5SdJZdQorUIb",
        "colab": {
          "base_uri": "https://localhost:8080/"
        },
        "outputId": "a5b762be-dae8-4d87-8c9a-b516e314b881"
      },
      "source": [
        "def validarPositivo(n):\n",
        "  if n < 0:\n",
        "    raise Exception(\"Numero negatico\")\n",
        "\n",
        "def seguidores(post):\n",
        "  calculo = 0\n",
        "  if(post == 0):\n",
        "    return 0\n",
        "  elif(post == 1):\n",
        "    return 1000\n",
        "  elif(1 < post <= 20):\n",
        "    calculo = 1000 + seguidores(post-1)\n",
        "    return calculo\n",
        "  elif(post >= 21):\n",
        "    calculo = 2* seguidores(post-1) +500\n",
        "    print(calculo,post)\n",
        "    return calculo\n",
        "\n",
        "\n",
        "cacho= seguidores(25)"
      ],
      "execution_count": null,
      "outputs": [
        {
          "output_type": "stream",
          "name": "stdout",
          "text": [
            "40500 21\n",
            "81500 22\n",
            "163500 23\n",
            "327500 24\n",
            "655500 25\n"
          ]
        }
      ]
    },
    {
      "cell_type": "markdown",
      "metadata": {
        "id": "-u_y1o2XrUpw"
      },
      "source": [
        "### **Ejercicio 6**\n",
        "\n",
        "Un equipo de albañiles de una obra, tiene que planificar la colocación de pisos. Dicha tarea se realiza teniendo algunas consideraciones específicas, que tienen que ver con el corte de las baldosas, con el material de pegado y la cantidad de trabajadores que hay en cada momento. En el arranque, el día uno (1), los albañiles colocan siempre 100 baldosas.\n",
        "Luego, la cantidad que se coloca cada día se organiza de esta manera:\n",
        "- Los días pares se colocan el doble de baldosas del día anterior.\n",
        "- Los días impares (salvo el primer día) se coloca una cantidad igual a la suma de las que se colocaron los 2 dias anteriores.\n",
        "\n",
        "Implementar una función que permita saber la cantidad de baldosas que se colocan un día determinado."
      ]
    },
    {
      "cell_type": "code",
      "metadata": {
        "id": "1Vek6PTrse-p",
        "colab": {
          "base_uri": "https://localhost:8080/"
        },
        "outputId": "f70d1080-4c97-4bd0-e4be-cc98003cf8aa"
      },
      "source": [
        "# Recomendacion hacer 1ro la funcion que calcula la cant de baldosas para un dia determinado luego hacer otra fucion, que utlice la 1ra\n",
        "\n",
        "def colocacion(dias): #cantidad en un dia determinado\n",
        "  calculo = 0\n",
        "  if(dias == 1):\n",
        "    return 1000\n",
        "  elif(dias % 2 == 0): #dias pares\n",
        "    calculo = 2 * colocacion(dias-1)\n",
        "    return calculo\n",
        "  elif(dias %2 == 1 and dias != 1):\n",
        "    calculo = colocacion(dias-1) + colocacion(dias-2)\n",
        "    print(dias, calculo)\n",
        "    return calculo\n",
        "\n",
        "def acumBaldozas(n): # ACUMULADOR (formatos similares para todos los acum)\n",
        "  if n == 1 :\n",
        "    return colocacion(1)\n",
        "  else: colocacion(n) + acumBaldozas(n-1) #\n",
        "\n",
        "edificio1= colocacion(4)\n",
        "print(edificio1)"
      ],
      "execution_count": null,
      "outputs": [
        {
          "output_type": "stream",
          "name": "stdout",
          "text": [
            "3 3000\n",
            "6000\n"
          ]
        }
      ]
    },
    {
      "cell_type": "markdown",
      "metadata": {
        "id": "EVmZea0Cselk"
      },
      "source": [
        "### **Ejercicio 7**\n",
        "\n",
        "Luego de una lluvia muy grande se acumula gran cantidad de agua en un estanque, durante el primer día, el agua comienza a ponerse de color verde y un grupo de científicos decide medir cuantas algas encuentra dentro del tanque. La primer medición le da como resultado 12 algas. Luego deciden ir a realizar la medición todos los días para tratar de establecer un patrón de crecimiento y se encuentran que las algas crecen con la siguiente regla:\n",
        "- Durante los siguientes 10 días (del dia 2 al 11) la cantidad de algas en el tanque es 15 más de las que había el día anterior.\n",
        "- A partir del día 12, la cantidad de algas en el tanque es el triple de las que había el día previo más una cantidad fija de 100.\n",
        "\n",
        "Escriba una función recursiva que calcule la cantidad de algas en el tanque en un día N.\n",
        "\n",
        "Nota: Suponer que no mueren algas en el tanque."
      ]
    },
    {
      "cell_type": "code",
      "metadata": {
        "id": "30rAj4BTtQMo",
        "colab": {
          "base_uri": "https://localhost:8080/"
        },
        "outputId": "b0f46b74-00e8-4a2d-afb3-4f87f02007d3"
      },
      "source": [
        "def algas(dias):\n",
        "  if(dias == 1):\n",
        "    return 12\n",
        "  if(dias >= 2 and dias <= 11):\n",
        "    calculo = 15 + algas(dias-1)\n",
        "    return calculo\n",
        "  if(dias >= 12):\n",
        "    calculo = 3 * algas(dias-1) + 100\n",
        "    print(dias,calculo)\n",
        "    return calculo\n",
        "\n",
        "tanque1 = algas(5)\n",
        "tanque2 = algas(13)\n",
        "print(tanque1)\n",
        "print(tanque2)"
      ],
      "execution_count": null,
      "outputs": [
        {
          "output_type": "stream",
          "name": "stdout",
          "text": [
            "12 586\n",
            "13 1858\n",
            "72\n",
            "1858\n"
          ]
        }
      ]
    },
    {
      "cell_type": "markdown",
      "metadata": {
        "id": "ahvaeTRS0Gm7"
      },
      "source": [
        "### **Ejercicio 8**\n",
        "\n",
        "Escribir una función recursiva que calcule la potencia N de un número M (M a la N), ambos números enteros positivos.   "
      ]
    },
    {
      "cell_type": "code",
      "metadata": {
        "id": "w9R8zTz_0Pku",
        "colab": {
          "base_uri": "https://localhost:8080/"
        },
        "outputId": "66f91191-a192-442e-8928-daef733d7c31"
      },
      "source": [
        "#M^N = M * M * M * .....* M (N veces) = M * M^(N-1)\n",
        "#Piensen caso base\n",
        "\n",
        "#M² = M*M\n",
        "#M³ = M*M*M\n",
        "#M⁴ = M*M*M*M\n",
        "\n",
        "def potenciacion(base : int, exponente: int):\n",
        "  if(exponente == 0):\n",
        "    return 1\n",
        "  if(exponente == 1):\n",
        "    return base\n",
        "  if(exponente >= 2):\n",
        "    calculo = base * potenciacion(base,exponente-1)\n",
        "    print(exponente,calculo)\n",
        "    return calculo\n",
        "\n",
        "potencia1 = potenciacion(2,5)\n",
        "print(potencia1)"
      ],
      "execution_count": null,
      "outputs": [
        {
          "output_type": "stream",
          "name": "stdout",
          "text": [
            "2 4\n",
            "3 8\n",
            "4 16\n",
            "5 32\n",
            "32\n"
          ]
        }
      ]
    },
    {
      "cell_type": "markdown",
      "metadata": {
        "id": "1ahXjm9z0QND"
      },
      "source": [
        "### **Ejercicio 9**\n",
        "\n",
        "Problema del trigo en el tablero de ajedrez:\n",
        "\n",
        "![alt text](https://i0.wp.com/matematicascercanas.com/wp-content/uploads/2015/03/leyenda_ajedrez.jpg?w=600&ssl=1)\n",
        "\n",
        "Si se colocase sobre un tablero de ajedrez, un grano de trigo en el primer casillero, dos en el segundo, cuarto en el tercero y asi sucesivamente, doblando la cantidad de granos en cada casilla ¿Cuantos granos de trigo habría en el tablero en total al final? Resolver el problema con una función recursiva.\n",
        "\n",
        "Leyenda del Trigo y el tablero de ajedrez y mas datos: https://matematicascercanas.com/2014/03/10/la-leyenda-del-tablero-de-ajedrez-y-los-granos-de-trigo/"
      ]
    },
    {
      "cell_type": "code",
      "metadata": {
        "id": "WLUBQcfx1hGE",
        "colab": {
          "base_uri": "https://localhost:8080/"
        },
        "outputId": "ef11ca5a-6daf-45df-c15b-1c88c0cb9cc7"
      },
      "source": [
        "#cantidadGranosEnTablero(cantCasilleros) = cantidadGranosEnCasillero(cantCasilleros) + cantidadGranosEnTablero(cantCasilleros-1)\n",
        "# Acumula los de la operacion anterior.\n",
        "\n",
        "def cantidadDeGranosEnCasillero(cantCasilleros): # resuelve la cantidad de un casillero determinado\n",
        "  if(cantCasilleros == 1):\n",
        "    return 1\n",
        "  if(cantCasilleros >= 2 ):\n",
        "    calculo = 2 * cantidadDeGranosEnCasillero(cantCasilleros-1)\n",
        "    return calculo\n",
        "\n",
        "def cantidadDeGranosEnTablero(cantCasilleros): # acumulador\n",
        "  calculo = 0\n",
        "  if(cantCasilleros == 1):\n",
        "    return 1\n",
        "  else:\n",
        "    calculo = cantidadDeGranosEnCasillero(cantCasilleros) + cantidadGranosEnTablero(cantCasilleros-1)\n",
        "    print(cantCasilleros, calculo)\n",
        "    return calculo\n",
        "\n",
        "tablero = cantidadDeGranosEnTablero(5)\n",
        "print(tablero)"
      ],
      "execution_count": null,
      "outputs": [
        {
          "output_type": "stream",
          "name": "stdout",
          "text": [
            "5 25\n",
            "25\n"
          ]
        }
      ]
    },
    {
      "cell_type": "markdown",
      "metadata": {
        "id": "UcGyejNf1hYo"
      },
      "source": [
        "### **Ejercicio 10**\n",
        "\n",
        "En un edificio alto, las cucarachas se van distribuyendo por pisos de esta forma:\n",
        "- En el primer piso hay una cucaracha\n",
        "- En los pisos pares el doble del número de piso (por ejemplo en el piso 8 hay 16 cucarachas)\n",
        "- El resto de los pisos tienen la suma de las cucarachas de los dos pisos anteriores.\n",
        "\n",
        "Escribir una función recursiva que calcule la cantidad de cucarachas en un edificio en función de la cantidad de pisos."
      ]
    },
    {
      "cell_type": "code",
      "metadata": {
        "id": "l_oaoB0S2_Fa",
        "colab": {
          "base_uri": "https://localhost:8080/"
        },
        "outputId": "5e9e6195-a90d-4cd5-d13f-942264204709"
      },
      "source": [
        "def cucarachasPorPiso(pisos:int):\n",
        "  if(pisos < 0):\n",
        "    raise Exception(\"Debe ser un valor positivo\")\n",
        "  elif(pisos == 0):\n",
        "    return 0\n",
        "  elif(pisos == 1):\n",
        "    return 1\n",
        "  elif (pisos > 1 and pisos % 2 == 0):\n",
        "    calculo = 2 * pisos\n",
        "    return calculo\n",
        "  elif(pisos > 1 and pisos % 2 != 0):\n",
        "    calculo = cucarachasPorPiso(pisos-1) + cucarachasPorPiso(pisos-2)\n",
        "    return calculo\n",
        "\n",
        "def cucarachasEnElEdificio(pisos, cucas): # Acumulador\n",
        "  if(pisos == 0):\n",
        "    totalCucas = cucas\n",
        "  else:\n",
        "    totalCucas= cucarachasEnElEdificio(pisos -1, cucas + cucarachasPorPiso(pisos))\n",
        "\n",
        "piso7= cucarachasPorPiso(7)\n",
        "piso8= cucarachasPorPiso(8)\n",
        "piso9= cucarachasPorPiso(9)\n",
        "print(piso7)\n",
        "print(piso8)\n",
        "print(piso9)"
      ],
      "execution_count": null,
      "outputs": [
        {
          "output_type": "stream",
          "name": "stdout",
          "text": [
            "25\n",
            "16\n",
            "41\n"
          ]
        }
      ]
    },
    {
      "cell_type": "markdown",
      "metadata": {
        "id": "HnGv90m72_dg"
      },
      "source": [
        "### **Ejercicio 11**\n",
        "\n",
        "Escribir la función recursiva repetirPalabra, que recibe como parámetro una palabra (cadena de caracteres) y un número N. La función debe retornar una nueva cadena que contenga la palabra repetida N veces, por ejemplo:\n",
        "\n",
        "*repetirPalabra(\"hola\",3) -> \"holaholahola\"*"
      ]
    },
    {
      "cell_type": "code",
      "metadata": {
        "id": "sLVYYAqz3zX_",
        "colab": {
          "base_uri": "https://localhost:8080/"
        },
        "outputId": "454b06b5-03f9-41f1-9b7d-efc70e6bc569"
      },
      "source": [
        "#repetirPalabra(\"hola\",2) -> \"holahola\"\n",
        "#repetirPalabra(\"hola\",3) -> \"holaholahola\"\n",
        "#repetirPalabra(\"hola\",4) -> \"holaholaholahola\"\n",
        "#....\n",
        "#repetirPalabra(palabra, N) = repetirPalabra(palabra, N-1) + palabra\n",
        "#Pensar el caso base\n",
        "\n",
        "def repetirPalabra(palabra : str,  cantidad : int):\n",
        "  if (cantidad <= 0 ):\n",
        "    raise Exception(\"Debe ser un entero positivo\")\n",
        "  if(cantidad == 1):\n",
        "    return palabra\n",
        "  if(cantidad > 1):\n",
        "    calcular = palabra + repetirPalabra(palabra, cantidad-1)\n",
        "    return calcular\n",
        "\n",
        "mensaje1= repetirPalabra(\"franco\",4)\n",
        "print(mensaje1)"
      ],
      "execution_count": null,
      "outputs": [
        {
          "output_type": "stream",
          "name": "stdout",
          "text": [
            "francofrancofrancofranco\n"
          ]
        }
      ]
    },
    {
      "cell_type": "markdown",
      "metadata": {
        "id": "OuXPsBX64RLT"
      },
      "source": [
        "### **Ejercicio 12**\n",
        "\n",
        "Escribir una función recursiva que calcule el número combinatorio, es decir, las combinaciones de N elementos tomados de a M, usando la siguiente expresión:\n",
        "\n",
        "![numeroCombiantorio.png](https://i.ibb.co/y408VDB/numero-Combiantorio.png)"
      ]
    },
    {
      "cell_type": "code",
      "metadata": {
        "id": "zk-lsLvu4Qwp"
      },
      "source": [
        "def combinartirio(n, m):\n",
        "  if m <= 0 or n<=0 or n< m:\n",
        "    raise Exception\n",
        "  elif (m ==1):\n",
        "    resultado = n\n",
        "  elif m == n:\n",
        "    resultado = 1\n",
        "  else:\n",
        "    resultado = combinartirio(n-1, m-1) + combinartirio(n, m-1)\n",
        "\n"
      ],
      "execution_count": null,
      "outputs": []
    },
    {
      "cell_type": "markdown",
      "metadata": {
        "id": "QL1a0WtI89QA"
      },
      "source": [
        "### **Ejercicio 13**\n",
        "\n",
        "Juan y María empiezan a trabajar el mismo día en dos empresas distintas. Juan arregla un sueldo inicial de \\$40000 con una actualización mensual del 2% y María un sueldo inicial de \\$25000 con una actualización mensual del 5%. Calcular recursivamente los sueldos de Juan y de María luego de transcurridos una cantidad determinada de meses.\n",
        "\n",
        "Luego, escribir un programa que calcule y muestre por pantalla cuantos meses tienen que pasar para que el sueldo de María supere al de Juan (Esta parte no hace falta que sea recursiva, pero pueden intentar hacerlo)."
      ]
    },
    {
      "cell_type": "code",
      "metadata": {
        "id": "KMkkp7XX888v",
        "colab": {
          "base_uri": "https://localhost:8080/"
        },
        "outputId": "23f15f87-6bdd-43ea-da9f-412e063cc9c6"
      },
      "source": [
        "#Caso base: nMes en el cual el sueldo de Maria supera al de Juan\n",
        "def calculandoAumento(meses,sueldo,porcentaje):\n",
        "  if(meses <= 0):\n",
        "    raise Exception(\"Se espera un valor positivo\")\n",
        "  if(meses == 1):\n",
        "    persona = sueldo\n",
        "    return persona\n",
        "  if(meses > 1):\n",
        "    persona= porcentaje * calculandoAumento(meses-1,sueldo,porcentaje)\n",
        "    return persona\n",
        "\n",
        "#la Primera linea del if(meses > 1) es para desenpaquetar los resultados del if anterior(la tupla del retunr)\n",
        "def calculandoAumento2(meses):\n",
        "  if(meses <= 0):\n",
        "    raise Exception(\"Se espera un valor positivo\")\n",
        "  if(meses == 1):\n",
        "    juan = 40000\n",
        "    maria = 25000\n",
        "    return juan, maria\n",
        "  if(meses > 1):\n",
        "    juan_prev, maria_prev = calculandoAumento2(meses-1)\n",
        "    juan = 1.02 * juan_prev\n",
        "    maria = 1.05 * maria_prev\n",
        "    return juan, maria\n",
        "\n",
        "meses2=calculandoAumento2(3)\n",
        "\n",
        "def mariaSuperaAJuan():\n",
        "  meses = 1\n",
        "  juan = 40000.0\n",
        "  maria = 25000.0\n",
        "  while maria < juan:\n",
        "    meses +=1\n",
        "    print(meses)\n",
        "    juan = calculandoAumento(meses,juan,1.02)\n",
        "    maria = calculandoAumento(meses,maria,1.05)\n",
        "\n",
        "\n",
        "    print(meses, maria, juan)\n",
        "  return meses\n",
        "\n",
        "print(meses2)\n",
        "print(mariaSuperaAJuan())"
      ],
      "execution_count": null,
      "outputs": [
        {
          "output_type": "stream",
          "name": "stdout",
          "text": [
            "(41616.0, 27562.5)\n",
            "2\n",
            "2 26250.0 40800.0\n",
            "3\n",
            "3 28940.625 42448.32\n",
            "4\n",
            "4 33502.391015625 45046.49677056\n",
            "5\n",
            "5 40722.36566943604 48759.776799790285\n",
            "6\n",
            "6 51973.2044852842 53834.73353296518\n",
            "7\n",
            "7 69649.06476004106 60626.65375591686\n",
            "7\n"
          ]
        }
      ]
    }
  ]
}