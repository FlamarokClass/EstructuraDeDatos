{
  "nbformat": 4,
  "nbformat_minor": 0,
  "metadata": {
    "colab": {
      "provenance": [],
      "include_colab_link": true
    },
    "kernelspec": {
      "name": "python3",
      "display_name": "Python 3"
    }
  },
  "cells": [
    {
      "cell_type": "markdown",
      "metadata": {
        "id": "view-in-github",
        "colab_type": "text"
      },
      "source": [
        "<a href=\"https://colab.research.google.com/github/FlamarokClass/EstructuraDeDatos/blob/master/Modelo_de_1er_parcial_com3.ipynb\" target=\"_parent\"><img src=\"https://colab.research.google.com/assets/colab-badge.svg\" alt=\"Open In Colab\"/></a>"
      ]
    },
    {
      "cell_type": "markdown",
      "metadata": {
        "id": "42630xxYD0gZ"
      },
      "source": [
        "# ![alt text](https://upload.wikimedia.org/wikipedia/commons/thumb/c/c3/Python-logo-notext.svg/50px-Python-logo-notext.svg.png) **Modelo de primer parcial** ![alt text](https://upload.wikimedia.org/wikipedia/commons/thumb/c/c3/Python-logo-notext.svg/50px-Python-logo-notext.svg.png)\n",
        "\n",
        "Traten de resolverlos en papel.\n",
        "\n",
        "###**florencia.dias@unahur.edu.ar** ###"
      ]
    },
    {
      "cell_type": "markdown",
      "metadata": {
        "id": "p_zfOaNy70h-"
      },
      "source": [
        "## **Modelo 1**"
      ]
    },
    {
      "cell_type": "markdown",
      "metadata": {
        "id": "xjXgmD3mskbR"
      },
      "source": [
        "### **Ejercicio 1**\n",
        "\n",
        "Escribir las funciones que considere necesarias para implementar un algoritmo recursivo que cuente la cantidad de números pares y otro algoritmo recursivo para contar la cantidad de números mayores que 10 en un arreglo de números enteros. Por último implementar la función  masParesQue10(arreglo), que devuelve True cuando “arreglo” tiene más números pares que números mayores que 10. Esta última función no hace falta que sea recursiva. Las soluciones que NO sean recursivas no serán tomadas en cuenta.\n",
        "\n",
        "Por ejemplo:\n",
        "\n",
        "Si arr1 = [5, 10, 9, 8, 13, 21] => masParesQue10(arr1) devuelve False, porque arr1 tiene 2 números mayores que 10 y 2 números pares.\n",
        "\n",
        "Si arr2 = [5, 10, 24, 9, 8, 6, 21] => masParesQue10(arr2) devuelve True, porque arr2 tiene 4 números pares y solamente 2 números mayores que 10.\n",
        "\n",
        "Ayuda: Se puede asumir que ya se tiene la función esPar(n) que devuelve verdadero cuando n es par.\n"
      ]
    },
    {
      "cell_type": "code",
      "metadata": {
        "id": "vM50Hpx6yUDe",
        "colab": {
          "base_uri": "https://localhost:8080/"
        },
        "outputId": "13acb935-5689-41a5-a755-428aa0b22886"
      },
      "source": [
        "def esPar(unNumero:int)->bool: #Defino una función que me dice si es par o no (no es necesario, pero para poder probar el código)\n",
        "  return unNumero%2 == 0 #Retornamos si el módulo de un número dividido 2 es cero o no\n",
        "\n",
        "print(esPar(4))\n",
        "print(esPar(5))"
      ],
      "execution_count": null,
      "outputs": [
        {
          "output_type": "stream",
          "name": "stdout",
          "text": [
            "True\n",
            "False\n"
          ]
        }
      ]
    },
    {
      "cell_type": "code",
      "source": [
        "arr2 = [5, 10, 24, 9, 8, 6, 21]\n",
        "len(arr2)"
      ],
      "metadata": {
        "colab": {
          "base_uri": "https://localhost:8080/"
        },
        "id": "1iPz-rQ9MPhv",
        "outputId": "7441ffd1-2e0a-40b8-a586-b8100e61d1a1"
      },
      "execution_count": null,
      "outputs": [
        {
          "output_type": "execute_result",
          "data": {
            "text/plain": [
              "7"
            ]
          },
          "metadata": {},
          "execution_count": 5
        }
      ]
    },
    {
      "cell_type": "code",
      "source": [
        "import numpy as np #Importamos numpy\n",
        "\n",
        "def cantidadPares(array:np.array , nPares = 0)->int: #\n",
        "  #Precondición: el array no debe estar vacío\n",
        "  N = len(array) #Defino N como el tamaño de mi array, solo por comodidad\n",
        "  if N == 1: #Si el tamaño del array es 1\n",
        "    if esPar(array[0]): #Miro el único elemento de ese array y le evalúo la paridad. Si es par:\n",
        "      nPares += 1 #Sumo 1 a mi contador de pares\n",
        "  else: #Sino\n",
        "    if esPar(array[0]): #Evalúo el primer elemento de mi array y evalúo si es par. Si es par:\n",
        "      nPares += 1 #Sumo uno a mi contador de pares\n",
        "    nPares = cantidadPares(array[1:] , nPares) #\n",
        "    #...el subvector que no contiene el primer elemento y pasando como parámetro mi contador de pares\n",
        "  return nPares #Al finalizar, retorno el valor de nPares\n",
        "\n",
        "def cantidadMayoresQue10(array:np.array , mayoresQue10 = 0)->int: #En este caso la lógica es exactamente la misma, Tomo un array y un contador\n",
        "  #Precondición: el arreglo debe ser no vacío\n",
        "  N = len(array) #Defino N como el tamaño del array, por comodidad\n",
        "  if N == 1: #Si es 1\n",
        "    if array[0] > 10: #Evalúo que el único elemento sea mayor que 10\n",
        "      mayoresQue10 += 1 #Si es el caso, sumo uno a mi contador\n",
        "  else: #Sino\n",
        "    if array[0] > 10: #Evalúo el primer elemento. Si es mayor que 10:\n",
        "      mayoresQue10 += 1 #Sumo 1 a mi contador. Sino no hago nada\n",
        "    mayoresQue10 = cantidadMayoresQue10(array[1:] , mayoresQue10) #Finalmente hago el llamado recursivo\n",
        "\n",
        "  return mayoresQue10 #Retorno el valor\n",
        "\n",
        "def masParesQue10(arreglo:np.array)->bool: #Por último lo único que tengo que hacer es comparar ambos números\n",
        "  return cantidadPares(arreglo) > cantidadMayoresQue10(arreglo) #Si el primero es mayor que el segundo devuelve TRUE, en caso contrario, FALSE."
      ],
      "metadata": {
        "id": "JbIq3a7ECcee"
      },
      "execution_count": null,
      "outputs": []
    },
    {
      "cell_type": "code",
      "source": [
        "arr1 = [5, 10, 9, 8, 13, 21]\n",
        "arr2 = [5, 10, 24, 9, 8, 6, 21]\n",
        "print(masParesQue10(arr1))\n",
        "print(masParesQue10(arr2))"
      ],
      "metadata": {
        "colab": {
          "base_uri": "https://localhost:8080/"
        },
        "id": "D---VkGXCncr",
        "outputId": "67e841c9-0328-4a31-916a-75f1ace691be"
      },
      "execution_count": null,
      "outputs": [
        {
          "output_type": "stream",
          "name": "stdout",
          "text": [
            "False\n",
            "True\n"
          ]
        }
      ]
    },
    {
      "cell_type": "markdown",
      "metadata": {
        "id": "rds3Jsp10bJr"
      },
      "source": [
        "### **Ejercicio 2**\n",
        "\n",
        "En UNAHUR se está desarrollando un software para administrar el estacionamiento. En todo momento pueden entrar o salir autos. No puede haber dos autos en el mismo lugar y de cada auto solo nos interesa conocer la patente y la hora de ingreso, que a fines prácticos consideraremos dos números.\n",
        "\n",
        "Al inicio del día se puede asumir que el estacionamiento comienza vacío y con una cantidad fija de lugares que informa el bedel al abrir el lugar. Vamos a suponer que el estacionamiento tiene igual cantidad de espacios verticales que horizontales cada día. Por ejemplo 20x20 lugares. Lo que se necesita hacer es asignar un auto a algún lugar vacío cada vez que ingresa y desasignarlo cuando egresa.\n",
        "\n",
        "Implementar el TDA EstacionamientoUnaHur que contenga al menos las siguientes operaciones:\n",
        "\n",
        "-  **__init__(cantLugares):** Recibe la cantidad total de lugares en el estacionamiento y crea una variable de tipo EstacionamientoUnaHur.\n",
        "\n",
        "- **estacionar(patente, horaIngreso)**: Estaciona el auto en algún lugar disponible. La función debe retornar la ubicación (posición vertical y posición horizontal) utilizada. Si no hay más lugar debe lanzar una excepción. Se puede asumir que no se estacionan dos autos iguales ni estacionan dos autos al mismo tiempo.\n",
        "\n",
        "- **salir(patente):** Libera el espacio si el auto se encuentra en el estacionamiento y retorna la hora de ingreso. Si el auto no se encuentra en el estacionamiento no debe hacer nada.\n",
        "\n",
        "- **estaVacio():** Retorna True si no hay ningún auto estacionado y False en caso contrario.\n",
        "\n",
        "- **cantidadAutosHora(hora):** Devuelve la cantidad de autos que ingresaron antes de la hora recibida por parámetro y que aún están en el estacionamiento.\n",
        "\n",
        "- **__repr__():** que muestra los lugares del estacionamiento."
      ]
    },
    {
      "cell_type": "code",
      "source": [
        "from math import sqrt #Solo para el funcionamiento del código, importo de math, la raiz cuadrada\n",
        "\n",
        "def validarTipo(variable, nombre, tipo):\n",
        "  if isinstance(variable, tipo):\n",
        "    return variable\n",
        "  else:\n",
        "    raise Exception(\"La variable \" + nombre + \" debe ser de tipo \" + str(tipo) + \".\")\n",
        "\n",
        "class Auto: #Defino el TDA Auto\n",
        "  def __init__(self , patente:int , horaDeIngreso:int): #\n",
        "    self.__patente = validarTipo(patente , 'patente' , int) #Definimos el atributo patente\n",
        "    self.__horaDeIngreso = validarTipo(horaDeIngreso , 'hora' , int)#Definimos la hora de ingreso\n",
        "\n",
        "  def getPatente(self): #Armo el getter de patente\n",
        "    return self.__patente\n",
        "\n",
        "  def getHoraDeIngreso(self): #Armo el getter de hora de ingreso\n",
        "    return self.__horaDeIngreso\n",
        "\n",
        "  def __repr__(self) -> str: #A modo de completitud, armo el repr\n",
        "    return f'Auto patente n° {self.getPatente()} ingreso a las {self.getHoraDeIngreso()}'\n",
        "\n",
        "class EstacionamientoUnaHur: #Ahora sí, armo el TDA EstacionamientoUnaHur\n",
        "  def __init__(self , cantidadDeLugares:int): #Del cual solo le tengo que indicar la cantidad de lugares\n",
        "    #Precondición: la cantidad de lugares debe ser un cuadrado perfecto\n",
        "    self.__N = int(sqrt(cantidadDeLugares)) #\n",
        "    self.__estacionamiento = np.empty((self.__N , self.__N) , Auto) #\n",
        "                            #np.zeros((N , N) , int) como hacíamos en la guía\n",
        "  def hayNLugares(self): #Defino el método hayNLugares(libres)\n",
        "    nLibres = 0 #Inicializo en cero\n",
        "    for fila in range(self.__N): #Para cada fila en mi rango de filas (notar como recorrer una matriz es siempre lo mismo)\n",
        "      for col in range(self.__N): #Para cada columna en mi rango de columnas (que es igual que el de filas)\n",
        "        if self.__estacionamiento[fila , col] == None: #Si el elemento de matriz es vacío\n",
        "          nLibres += 1 #Sumo uno a mi contador de espacios libres\n",
        "\n",
        "    return nLibres #Retorno la cantidad de espacios libres\n",
        "\n",
        "  def estacionar(self , patente:int , horaDeIngreso:int): #Defino la función estacionar, que toma una patente y una hora de ingreso\n",
        "    if self.hayNLugares() == 0: #Si no hay lugares libres, es decir, si mi cantidad de lugares libres es cero\n",
        "      raise Exception('Estacionamiento lleno') #Lanzamos la excepción estacionamiento lleno\n",
        "    else: #Sino\n",
        "      for fila in range(self.__N): #Recorremos la matriz, primero por filas\n",
        "        for col in range(self.__N):  #Después por columnas\n",
        "          if self.__estacionamiento[fila , col] == None: #Procesamos: Si el elemento de matriz es vacío\n",
        "            self.__estacionamiento[fila , col] = Auto(patente , horaDeIngreso) #Asignamos a ese elemento de matriz la instancia Auto con la patente y la hora indicadas\n",
        "            return fila , col #Devolvemos las coordenadas del elemento de matriz donde estacionamos. El return está dentro de los fors para cortar la ejecución una vez asignado el espacio\n",
        "\n",
        "  def salir(self , patente:int): #Definimos salir, buscamos por patente\n",
        "    for fila in range(self.__N): #Recorremos la matriz, primero por filas\n",
        "      for col in range(self.__N): #Después por columnas\n",
        "        if self.__estacionamiento[fila,col] != None and self.__estacionamiento[fila , col].getPatente() == patente: #\n",
        "          ingreso = self.__estacionamiento[fila , col].getHoraDeIngreso() #Obtenemos la hora de ingreso del auto que tiene esa patente\n",
        "          self.__estacionamiento[fila , col] = None #Vaciamos el espacio\n",
        "          return ingreso #Retornamos el ingreso. No lo retornamos directamente y lo guardamos en una variable porque al asignar el espacio como vacío perdimos ese dato.\n",
        "          #Si la paente no se encuentra esto no hace nada\n",
        "\n",
        "  def estaVacio(self): #Defino está vacío\n",
        "    return self.hayNLugares() == self.__N**2 #Está vacio si la cantidad de lugares disponibles es igual a la cantidad de lugares totales, que por construcción es N al cuadrado\n",
        "\n",
        "  def cantidadDeAutosHora(self , hora:int): #Cantidad de autos hora toma una hora de referencia\n",
        "    nAutosHora = 0 #Inicializamos la varaible en cero\n",
        "    for fila in range(self.__N): #Recorro la matriz, empiezo por las filas\n",
        "      for col in range(self.__N): #Después por las columnas\n",
        "        if self.__estacionamiento[fila,col] != None and self.__estacionamiento[fila , col].getHoraDeIngreso() < hora: #Procesamos\n",
        "           nAutosHora += 1 #Sumamos uno al contador\n",
        "\n",
        "    return nAutosHora #Devolvemos el contador\n",
        "\n",
        "  def __repr__(self): #EL repr es simplemente la vista de la matriz\n",
        "    return f'{self.__estacionamiento}' #Hay que darle formato de string para poder visualizarlo"
      ],
      "metadata": {
        "id": "QgPNSdZ1YIiH"
      },
      "execution_count": null,
      "outputs": []
    },
    {
      "cell_type": "code",
      "source": [
        "estacionamiento = EstacionamientoUnaHur(16)\n",
        "print(estacionamiento)\n",
        "print(estacionamiento.estaVacio())\n",
        "print(estacionamiento.estacionar(123321 , 830))\n",
        "print(estacionamiento)\n",
        "estacionamiento.estacionar(111111 , 840)\n",
        "estacionamiento.estacionar(222222 , 845)\n",
        "estacionamiento.estacionar(333333 , 848)\n",
        "estacionamiento.estacionar(444444 , 1030)\n",
        "print(estacionamiento)\n",
        "print(estacionamiento.salir(123321))\n",
        "print(estacionamiento)\n",
        "print(estacionamiento.estaVacio())\n",
        "print(estacionamiento.cantidadDeAutosHora(900))"
      ],
      "metadata": {
        "colab": {
          "base_uri": "https://localhost:8080/"
        },
        "id": "KLjMG4aNLWaZ",
        "outputId": "b17d5f61-525d-45a6-d2aa-862271b98f6f"
      },
      "execution_count": null,
      "outputs": [
        {
          "output_type": "stream",
          "name": "stdout",
          "text": [
            "[[None None None None]\n",
            " [None None None None]\n",
            " [None None None None]\n",
            " [None None None None]]\n",
            "True\n",
            "(0, 0)\n",
            "[[Auto patente n° 123321 ingreso a las 830 None None None]\n",
            " [None None None None]\n",
            " [None None None None]\n",
            " [None None None None]]\n",
            "[[Auto patente n° 123321 ingreso a las 830\n",
            "  Auto patente n° 111111 ingreso a las 840\n",
            "  Auto patente n° 222222 ingreso a las 845\n",
            "  Auto patente n° 333333 ingreso a las 848]\n",
            " [Auto patente n° 444444 ingreso a las 1030 None None None]\n",
            " [None None None None]\n",
            " [None None None None]]\n",
            "830\n",
            "[[None Auto patente n° 111111 ingreso a las 840\n",
            "  Auto patente n° 222222 ingreso a las 845\n",
            "  Auto patente n° 333333 ingreso a las 848]\n",
            " [Auto patente n° 444444 ingreso a las 1030 None None None]\n",
            " [None None None None]\n",
            " [None None None None]]\n",
            "False\n",
            "3\n"
          ]
        }
      ]
    },
    {
      "cell_type": "markdown",
      "metadata": {
        "id": "R-BNJESL8Ato"
      },
      "source": [
        "## **Modelo 2**"
      ]
    },
    {
      "cell_type": "markdown",
      "metadata": {
        "id": "_2Diy6h_8Jae"
      },
      "source": [
        "### **Ejercicio 1**\n",
        "\n",
        "Escribir la función recursiva **estaIncluido(arreglo1, arreglo2)**, que retorna verdadero si el arreglo1 está incluido al inicio o al final del arreglo2. Tener en cuenta que un arreglo vacío siempre está incluido en otro (vacío o no) y que un arreglo vacío solo puede incluir a otro vacío. Soluciones que no sean recursivas NO serán tenidas en cuenta.\n",
        "\n",
        "Por ejemplo, si:\n",
        "\n",
        "arr1 = [2, 5, 1], arr2 = [1, 9, 3, 4, 2, 5, 1] , arr3 = [2, 5, 1, 6 ,1, 8, 5] , arr4 = [4, 3, 2, 5, 1, 8, 2]\n",
        "\n",
        "estaIncluido(arr1, arr2) => True\n",
        "\n",
        "estaIncluido(arr1, arr3) => True\n",
        "\n",
        "estaIncluido(arr1, arr4) => False\n",
        "\n",
        "Ayuda: Pueden utilizar dos funciones auxiliares, al menos una tiene que ser recursiva.\n"
      ]
    },
    {
      "cell_type": "code",
      "metadata": {
        "id": "LtcHcMLtE6Ty"
      },
      "source": [
        "def estaAlPrincipio(unArreglo:np.array , otroArreglo:np.array)->bool:\n",
        "  estaIncluido = None\n",
        "  if len(unArreglo) == 0:\n",
        "    estaIncluido = True\n",
        "  elif len(unArreglo) > len(otroArreglo):\n",
        "    estaIncluido = False\n",
        "  else:\n",
        "    if unArreglo[0] == otroArreglo[0]:\n",
        "      estaIncluido = estaAlPrincipio(unArreglo[1:] , otroArreglo[1:])\n",
        "    else:\n",
        "      estaIncluido = False\n",
        "  return estaIncluido\n",
        "\n",
        "def estaAlFinal(unArreglo:np.array , otroArreglo:np.array):\n",
        "    estaIncluido = None\n",
        "    if len(unArreglo) == 0:\n",
        "      estaIncluido = True\n",
        "    elif len(unArreglo) > len(otroArreglo):\n",
        "      estaIncluido = False\n",
        "    else:\n",
        "      if unArreglo[-1] == otroArreglo[-1]:\n",
        "        estaIncluido = estaAlFinal(unArreglo[:-1] , otroArreglo[:-1])\n",
        "      else:\n",
        "        estaIncluido = False\n",
        "    return estaIncluido\n",
        "\n",
        "def estaAlFinal2(unArreglo , otroArreglo):\n",
        "  #Tomar con pinzas\n",
        "  unArregloAux = list(reversed(unArreglo))\n",
        "  otroArregloAux = list(reversed(otroArreglo))\n",
        "  return estaAlPrincipio(unArregloAux , otroArregloAux)\n",
        "\n",
        "def estaIncluido(unArreglo:np.array , otroArreglo:np.array)->bool:\n",
        "  return estaAlPrincipio(unArreglo , otroArreglo) or estaAlFinal(unArreglo , otroArreglo)"
      ],
      "execution_count": null,
      "outputs": []
    },
    {
      "cell_type": "code",
      "source": [
        "arr1 = [2, 5, 1]\n",
        "arr2 = [1, 9, 3, 4, 2, 5, 1]\n",
        "arr3 = [2, 5, 1, 6 ,1, 8, 5]\n",
        "arr4 = [4, 3, 2, 5, 1, 8, 2]\n",
        "\n",
        "print('ESTA AL PRINCIPIO')\n",
        "print(estaAlPrincipio(arr1 , arr2))\n",
        "print(estaAlPrincipio(arr1 , arr3))\n",
        "print(estaAlPrincipio(arr1 , arr4))\n",
        "print('ESTA AL FINAL')\n",
        "print(estaAlFinal(arr1 , arr2))\n",
        "print(estaAlFinal(arr1 , arr3))\n",
        "print(estaAlFinal(arr1 , arr4))\n",
        "print('ESTA INCLUIDO')\n",
        "print(estaIncluido(arr1 , arr2))\n",
        "print(estaIncluido(arr1 , arr3))\n",
        "print(estaIncluido(arr1 , arr4))"
      ],
      "metadata": {
        "colab": {
          "base_uri": "https://localhost:8080/"
        },
        "id": "EUxSKwJMcI_6",
        "outputId": "a2fcc6bd-ab6c-48f7-b0a9-71971e33d72e"
      },
      "execution_count": null,
      "outputs": [
        {
          "output_type": "stream",
          "name": "stdout",
          "text": [
            "ESTA AL PRINCIPIO\n",
            "False\n",
            "True\n",
            "False\n",
            "ESTA AL FINAL\n",
            "True\n",
            "False\n",
            "False\n",
            "ESTA INCLUIDO\n",
            "True\n",
            "True\n",
            "False\n"
          ]
        }
      ]
    },
    {
      "cell_type": "markdown",
      "metadata": {
        "id": "0ngItJaS9LQL"
      },
      "source": [
        "### **Ejercicio 2**\n",
        "\n",
        "El Correo Argentino nos pidió ayuda para organizar los paquetes de cada sucursal. Todos los días llegan paquetes con diferente peso que son apilados para luego ser distribuidos. Para que no se aplasten, siempre se pone el más pesado debajo y así, queda ordenado de manera que el paquete más liviano siempre esté en el tope. Pero atención, cuando llega un paquete nuevo, este debe ser intercalado de manera de respetar el orden del peso.\n",
        "\n",
        "Modelar el TDA ElCorreoNoSeCierra con las siguientes operaciones:\n",
        "\n",
        "- **agregarPaquete(contenido, peso):** Que recibe un contenido (String) y el peso de ese contenido, arma un paquete y lo apila de manera que el resto de los paquetes no se aplasten. Se puede asumir que en las pilas auxiliares los paquetes no se aplastan.\n",
        "\n",
        "- **pilaPaquetes() → Pila:** Que devuelve una copia de la pila de paquetes sin destruir los paquetes internos.\n",
        "\n",
        "- **juntarCorreos(otroCorreo):** Que recibe otra instancia del TDA, y “apila en self” los “paquetes de self” combinados con los del otroCorreo, de manera que no se aplasten. otroCorreo debe quedar intacto luego de la operación. Se recomienda usar pilaPaquetes(). Aprovechar que “otroCorreo” ya viene ordenado.\n",
        "\n",
        "**Notas:**\n",
        "\n",
        "- Se recomienda primero generar el TDA Paquete, conteniendo el nombre y el peso.\n",
        "- Se pueden agregar todas las funciones auxiliares y/o operaciones de los TDAs que consideren necesarias además de las pedidas.\n",
        "- NO se puede usar el TDA Lista en la solución.\n",
        "\n",
        "Las soluciones correctas deben funcionar en términos del siguiente ejemplo:\n",
        "\n",
        "correo1 = ElCorreoNoSeCierra(); correo2 = ElCorreoNoSeCierra();\n",
        "\n",
        "correo1.agregarPaquete(“a”, 10); correo1.agregarPaquete(“b”, 1); correo1.agregarPaquete(“c”, 5);\n",
        "correo2.agregarPaquete(“d”, 2); correo2.agregarPaquete(“e”, 10); correo2.agregarPaquete(“f”, 6);\n",
        "\n",
        "\n",
        "*correo1 debería tener [Paquete(“a”,10) , Paquete(“c”, 5) , Paquete(“b”, 1)]*\n",
        "\n",
        "*correo2 debería tener [Paquete(“e”,10) , Paquete(“f”, 6) , Paquete(“d”, 2)]*\n",
        "\n",
        "correo1.juntarCorreos(correo2)\n",
        "\n",
        "*correo1 podría tener [Paquete(“a”,10), Paquete(“e”,10) , Paquete(“f”, 6),Paquete(“c”, 5), Paquete(“d”, 2), Paquete(“b”, 1)]*\n",
        "\n",
        "puede haber paquetes “repetidos” y no importa el orden para paquetes de igual peso.\n",
        "\n",
        "o bien [Paquete(“e”,10), Paquete(“a”,10), Paquete(“f”, 6), Paquete(“c”, 5), Paquete(“d”, 2), Paquete(“b”, 1)]\n"
      ]
    },
    {
      "cell_type": "code",
      "source": [
        "#Me traigo la pila para tenerla a mano, no es necesario escribirla\n",
        "\n",
        "import copy as cp\n",
        "\n",
        "class Pila:\n",
        "  def __init__(self, listaInicial=None):\n",
        "    self.pila = []\n",
        "    if listaInicial:\n",
        "      self.pila = cp.deepcopy(listaInicial)\n",
        "\n",
        "  def tamaño(self)->int:\n",
        "    return len(self.pila)\n",
        "\n",
        "  def estaVacia(self)->bool:\n",
        "    return self.tamaño() == 0\n",
        "\n",
        "  def apilar(self, dato:int)->None:\n",
        "    self.pila.append(dato)\n",
        "\n",
        "  def tope(self)->int:\n",
        "    datoCima = None\n",
        "    if not self.estaVacia():\n",
        "      datoCima = self.pila[len(self.pila)-1]\n",
        "    return datoCima\n",
        "\n",
        "  def desapilar(self)->int:\n",
        "    dato = None\n",
        "    if not self.estaVacia():\n",
        "      dato = self.pila.pop()\n",
        "    return dato\n",
        "\n",
        "  def vaciar(self)->None:\n",
        "    self.pila = []\n",
        "\n",
        "  def clonar(self):\n",
        "    return cp.deepcopy(self)\n",
        "  def __repr__(self)->str:\n",
        "    return str(self.pila)+\"<->\""
      ],
      "metadata": {
        "id": "5bACtJdSfbGG"
      },
      "execution_count": null,
      "outputs": []
    },
    {
      "cell_type": "code",
      "metadata": {
        "id": "TgI0Klap9Lxt"
      },
      "source": [
        "class Paquete: #Como sugiere el ejercicio, empiezo por paquete\n",
        "  def __init__(self , nombre:str , peso:int): #Tomo nombre y peso, con eso lo instancio\n",
        "    self.__nombre = nombre #Asi que lo asigno\n",
        "    self.__peso = peso\n",
        "\n",
        "  def getPeso(self): #Armo el getter del peso\n",
        "    return self.__peso\n",
        "  def getNombre(self): #El getter del nombre\n",
        "    return self.__nombre\n",
        "\n",
        "  def __repr__(self): #Armo el repr que siempre viene bien\n",
        "    return f'Paquete: {self.__nombre} - {self.__peso}Kg'\n",
        "\n",
        "class ElCorreoNoSeCierra: #Armo el TDA correo\n",
        "  def __init__(self): #Mi constructor no me pide ninguna variable\n",
        "    self.__pilaDePaquetes = Pila() #Pero en el fondo sabemos que es una simple pila\n",
        "\n",
        "  def agregarPaquete(self , nombrePaquete:str , pesoPaquete:int): #Defino agregar paquetes, nos piden el nombre y el peso\n",
        "    unPaquete = Paquete(nombrePaquete , pesoPaquete) #Instancio el paquete con el nombre y peso que me asignaron\n",
        "    if self.__pilaDePaquetes.estaVacia() or self.__pilaDePaquetes.tope().getPeso() >= unPaquete.getPeso(): #Si la pila está vacía o el paquete que está es más pesado que el que tengo\n",
        "      self.__pilaDePaquetes.apilar(unPaquete) #Apilo derecho\n",
        "    else: #Sino\n",
        "      pilaAux = Pila() #Vuelvo a mi pila auxiliar\n",
        "      while not self.__pilaDePaquetes.estaVacia() and self.__pilaDePaquetes.tope().getPeso() < unPaquete.getPeso(): #\n",
        "        pilaAux.apilar(self.__pilaDePaquetes.desapilar()) #apilo en mi pila auxiliar los paquetes que voy sacando de mi pila principal (coreo)\n",
        "      self.__pilaDePaquetes.apilar(unPaquete) # Una vez que salí del while significa o que vacié toda mi pila original o que encontré uno que es más pesado que el que tengo, así que en ambos casos, apilo\n",
        "      while not pilaAux.estaVacia(): #Función clásica de la pila auxiliar. Mientras no esté vacía:\n",
        "        self.__pilaDePaquetes.apilar(pilaAux.desapilar()) #Apilo en mi pila principal lo que desapilo de la auxiliar. Fijense que estos ya estaban ordenados, así que los puedo apilar como vienen.\n",
        "\n",
        "  def pilaPaquetes(self): #Mi función pila paquetes que me clona el correo\n",
        "    return self.__pilaDePaquetes.clonar() #En realidad estamos clonando la pila\n",
        "\n",
        "  def juntarCorreos(self , otroCorreo): #Juntar correos toma otro correo\n",
        "    otrosPaquetes = otroCorreo.pilaPaquetes() #Me guardo los paquetes del otro correo para no modificar el correo original\n",
        "    while not otrosPaquetes.estaVacia(): #Mientras me queden paquetes\n",
        "      paqueteActual = otrosPaquetes.desapilar() #Voy a desapilar de mis otros paquetes\n",
        "      self.agregarPaquete(paqueteActual.getNombre() , paqueteActual.getPeso()) #Los voy a agregar a mi correo principal, con mi propia función agergar paquete\n",
        "\n",
        "  def __repr__(self): #Armo el repr por completitud\n",
        "    return f'{self.__pilaDePaquetes}' #Muestro la pila"
      ],
      "execution_count": null,
      "outputs": []
    },
    {
      "cell_type": "code",
      "source": [
        "correo1 = ElCorreoNoSeCierra()\n",
        "correo2 = ElCorreoNoSeCierra()\n",
        "\n",
        "correo1.agregarPaquete(\"a\", 10)\n",
        "correo1.agregarPaquete(\"b\", 1)\n",
        "correo1.agregarPaquete(\"c\", 5)\n",
        "\n",
        "correo2.agregarPaquete(\"d\", 2)\n",
        "correo2.agregarPaquete(\"e\", 10)\n",
        "correo2.agregarPaquete(\"f\", 6)\n",
        "\n",
        "print(correo1) # debería tener [Paquete(“a”,10) , Paquete(“c”, 5) , Paquete(“b”, 1)]\n",
        "print(correo2) # debería tener [Paquete(“e”,10) , Paquete(“f”, 6) , Paquete(“d”, 2)]\n",
        "\n",
        "correo1.juntarCorreos(correo2) # correo1 debería tener [Paquete(“a”,10), Paquete(“e”,10) , Paquete(“f”, 6),Paquete(“c”, 5), Paquete(“d”, 2), Paquete(“b”, 1)]\n",
        "#puede haber paquetes “repetidos” y no importa el orden para paquetes de igual peso.\n",
        "#o bien [Paquete(“e”,10), Paquete(“a”,10), Paquete(“f”, 6), Paquete(“c”, 5), Paquete(“d”, 2), Paquete(“b”, 1)]\n",
        "print(correo1)"
      ],
      "metadata": {
        "colab": {
          "base_uri": "https://localhost:8080/"
        },
        "id": "e8ulqR3DlO3p",
        "outputId": "aebdee03-8fb8-42f1-8355-836446dc8387"
      },
      "execution_count": null,
      "outputs": [
        {
          "output_type": "stream",
          "name": "stdout",
          "text": [
            "[Paquete: a - 10Kg, Paquete: c - 5Kg, Paquete: b - 1Kg]<->\n",
            "[Paquete: e - 10Kg, Paquete: f - 6Kg, Paquete: d - 2Kg]<->\n",
            "[Paquete: a - 10Kg, Paquete: e - 10Kg, Paquete: f - 6Kg, Paquete: c - 5Kg, Paquete: d - 2Kg, Paquete: b - 1Kg]<->\n"
          ]
        }
      ]
    },
    {
      "cell_type": "code",
      "source": [],
      "metadata": {
        "id": "fFJrHllsphzf"
      },
      "execution_count": null,
      "outputs": []
    }
  ]
}